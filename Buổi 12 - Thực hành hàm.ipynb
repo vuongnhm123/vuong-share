{
 "cells": [
  {
   "cell_type": "markdown",
   "id": "028ffec3",
   "metadata": {},
   "source": [
    "# Thực hành hàm\n",
    "\n",
    "### Bài 1\n",
    "\n",
    "Viết hàm có dữ liệu đầu vào là 2 số a và b, số nào lớn hơn thì in bảng cửu chương của số đó"
   ]
  },
  {
   "cell_type": "code",
   "execution_count": 1,
   "id": "1974966b",
   "metadata": {},
   "outputs": [],
   "source": [
    "def bang_cuu_chuong(a, b):\n",
    "    if a > b:\n",
    "        number = a\n",
    "    else:\n",
    "        number = b\n",
    "\n",
    "    print(\"number\")\n",
    "   # for i in range(1, 10):\n",
    "    #    print(f\"{number} x {i} = {number * i}\")\n",
    "\n",
    "\n"
   ]
  },
  {
   "cell_type": "code",
   "execution_count": 3,
   "id": "3014cb9f-a060-4bf0-9912-0bf665c2baff",
   "metadata": {},
   "outputs": [],
   "source": [
    "def bang_cuu_chuong(a, b):\n",
    "    if a > b:\n",
    "        number = a\n",
    "    else:\n",
    "        number = b\n",
    "\n",
    "    print(number)"
   ]
  },
  {
   "cell_type": "code",
   "execution_count": null,
   "id": "12eb7d87-58cf-4a98-b3f8-3e92182ee747",
   "metadata": {},
   "outputs": [],
   "source": []
  },
  {
   "cell_type": "code",
   "execution_count": 7,
   "id": "cc94ad0b-1d21-47e8-879b-68c799eacb2c",
   "metadata": {},
   "outputs": [
    {
     "name": "stdout",
     "output_type": "stream",
     "text": [
      "7\n",
      "7 x 1 = 7\n",
      "7 x 2 = 14\n",
      "7 x 3 = 21\n",
      "7 x 4 = 28\n",
      "7 x 5 = 35\n",
      "7 x 6 = 42\n",
      "7 x 7 = 49\n",
      "7 x 8 = 56\n",
      "7 x 9 = 63\n"
     ]
    }
   ],
   "source": [
    "def bang_cuu_chuong(a, b):\n",
    "    if a > b:\n",
    "        number = a\n",
    "    else:\n",
    "        number = b\n",
    "\n",
    "    print(number)\n",
    "    for i in range(1, 10):\n",
    "        print(f\"{number} x {i} = {number * i}\")\n",
    "\n",
    "# Ví dụ sử dụng hàm\n",
    "a = 7\n",
    "b = 4\n",
    "bang_cuu_chuong(a, b)\n"
   ]
  },
  {
   "cell_type": "code",
   "execution_count": null,
   "id": "44734ec2-5dfd-4b8c-bb8a-9c437bf7796f",
   "metadata": {},
   "outputs": [],
   "source": []
  },
  {
   "cell_type": "code",
   "execution_count": null,
   "id": "1d669e03-6d5d-4f85-beb7-60a33853aa59",
   "metadata": {},
   "outputs": [],
   "source": []
  },
  {
   "cell_type": "markdown",
   "id": "9de8ffaa",
   "metadata": {},
   "source": [
    "### Bài 2\n",
    "\n",
    "Viết hàm `xoachuoi` có dữ liệu đầu vào là 2 chuỗi a và b, hãy tìm trong chuỗi a có chuỗi b hay không, nếu có hãy xóa toán bộ chuỗi b trong a.\n",
    "\n",
    "Sau đó trả về chuỗi a mới\n",
    "\n",
    "Ví dụ:\n",
    "\n",
    "chuoi1 = \"xin chào các bạn, các bạn có khỏe không?\"\n",
    "\n",
    "chuoi2 = \"các bạn\"\n",
    "\n",
    "chuoi3 = xoachuoi(chuoi1,chuoi2)\n",
    "\n",
    "print(chuoi3)\n",
    "\n",
    "Kết quả in ra là:\n",
    "xin chào ,  có khỏe không"
   ]
  },
  {
   "cell_type": "code",
   "execution_count": 3,
   "id": "05de1584",
   "metadata": {},
   "outputs": [
    {
     "ename": "IndentationError",
     "evalue": "expected an indented block after 'elif' statement on line 10 (2130134785.py, line 15)",
     "output_type": "error",
     "traceback": [
      "\u001b[1;36m  Cell \u001b[1;32mIn[3], line 15\u001b[1;36m\u001b[0m\n\u001b[1;33m    a = (\"xin chao cac bac\")\u001b[0m\n\u001b[1;37m                            ^\u001b[0m\n\u001b[1;31mIndentationError\u001b[0m\u001b[1;31m:\u001b[0m expected an indented block after 'elif' statement on line 10\n"
     ]
    }
   ],
   "source": [
    "def xoachuoi(a, b):\n",
    "    # Tìm vị trí đầu tiên của chuỗi b trong chuỗi a\n",
    "    index = a.find(b)\n",
    "    \n",
    "    # Nếu không tìm thấy chuỗi b trong a, không làm gì và trả về a nguyên vẹn\n",
    "    if index == -1:\n",
    "     return a\n",
    "    \n",
    "    # Nếu tìm thấy chuỗi b trong a, xóa toàn bộ chuỗi b bằng cách cắt và nối lại chuỗi a\n",
    "    elif (a[:index] + a[index+len(b):]):\n",
    "    \n",
    "  \n",
    "\n",
    "# Ví dụ sử dụng hàm\n",
    "a = \"xin chao cac bac\"\n",
    "b = \"cac ban co khoe khong\"\n",
    "result = xoachuoi(a, b)\n",
    "print(\"Chuỗi mới sau khi xóa:\", result)\n"
   ]
  },
  {
   "cell_type": "code",
   "execution_count": null,
   "id": "1be789fa-5ab6-4651-96a1-42a365290be9",
   "metadata": {},
   "outputs": [],
   "source": []
  },
  {
   "cell_type": "code",
   "execution_count": null,
   "id": "5c43dd0e-319d-4eaf-885e-57c6ca733ef7",
   "metadata": {},
   "outputs": [],
   "source": []
  },
  {
   "cell_type": "code",
   "execution_count": null,
   "id": "3d856900-816f-47ff-bcfd-54b503ccaf6b",
   "metadata": {},
   "outputs": [],
   "source": []
  },
  {
   "cell_type": "code",
   "execution_count": 12,
   "id": "fd7edb8b-cabb-419b-aa5d-49fa0ab0a4e0",
   "metadata": {},
   "outputs": [
    {
     "ename": "IndentationError",
     "evalue": "expected an indented block after 'if' statement on line 3 (3147965962.py, line 4)",
     "output_type": "error",
     "traceback": [
      "\u001b[1;36m  Cell \u001b[1;32mIn[12], line 4\u001b[1;36m\u001b[0m\n\u001b[1;33m    a = \"xin chao cac bac\"\u001b[0m\n\u001b[1;37m                          ^\u001b[0m\n\u001b[1;31mIndentationError\u001b[0m\u001b[1;31m:\u001b[0m expected an indented block after 'if' statement on line 3\n"
     ]
    }
   ],
   "source": [
    "def xoachuoi(a, b):\n",
    "    index = a.find(b)\n",
    "    if (a[:index] + a[index+len(b):]):\n",
    "a = \"xin chao cac bac\"\n",
    "b = \"cac ban co khoe khong\"\n",
    "result = xoachuoi(a, b)\n",
    "print(\"Chuỗi mới sau khi xóa:\", result)\n",
    "    "
   ]
  },
  {
   "cell_type": "code",
   "execution_count": 13,
   "id": "dfe37882-b297-4081-bb76-6f87567ce744",
   "metadata": {},
   "outputs": [
    {
     "name": "stdout",
     "output_type": "stream",
     "text": [
      "Xin chao ,  co khoe khong\n"
     ]
    }
   ],
   "source": [
    "def xoachuoi(a, b):\n",
    "    return a.replace(b,\"\")\n",
    "    \n",
    "\n",
    "a = \"Xin chao cac ban, cac ban co khoe khong\"\n",
    "b = \"cac ban\"\n",
    "c = xoachuoi(a, b)\n",
    "print(c)"
   ]
  },
  {
   "cell_type": "code",
   "execution_count": null,
   "id": "6bc36436-6dec-4948-ac35-f77b788a43c8",
   "metadata": {},
   "outputs": [],
   "source": []
  },
  {
   "cell_type": "code",
   "execution_count": null,
   "id": "8c0cb0bd-4707-4585-965d-af59c5eca0f6",
   "metadata": {},
   "outputs": [],
   "source": []
  },
  {
   "cell_type": "code",
   "execution_count": null,
   "id": "edc12a13-02c0-457f-b909-1e30efb68097",
   "metadata": {},
   "outputs": [],
   "source": []
  },
  {
   "cell_type": "code",
   "execution_count": null,
   "id": "b2c7e7a1-05a5-47a1-b661-1acadf6fca47",
   "metadata": {},
   "outputs": [],
   "source": []
  },
  {
   "cell_type": "markdown",
   "id": "d626394e",
   "metadata": {},
   "source": [
    "### Bài 3\n",
    "\n",
    "Viết hàm `kiemtramatkhau` với dữ liệu đầu vào là 1 chuỗi có công dụng như sau:\n",
    "\n",
    "Kiểm tra xem chuỗi đầu vào có phải là mật khẩu mạnh hay không, nếu có trả về True, nếu không trả về False\n",
    "\n",
    "Mật khẩu mạnh là mật khẩu phải có ít nhất 1 chữ hoa, 1 chữ thường, 1 số và 1 ký tự đặc biệt"
   ]
  },
  {
   "cell_type": "code",
   "execution_count": 5,
   "id": "875d88f5",
   "metadata": {},
   "outputs": [
    {
     "ename": "SyntaxError",
     "evalue": "expected ':' (4258463608.py, line 6)",
     "output_type": "error",
     "traceback": [
      "\u001b[1;36m  Cell \u001b[1;32mIn[5], line 6\u001b[1;36m\u001b[0m\n\u001b[1;33m    else a.islower():\u001b[0m\n\u001b[1;37m         ^\u001b[0m\n\u001b[1;31mSyntaxError\u001b[0m\u001b[1;31m:\u001b[0m expected ':'\n"
     ]
    }
   ],
   "source": [
    "def test(a):\n",
    "    if len(a) < 8:\n",
    "        return False\n",
    "    else a.isupper():\n",
    "        return False\n",
    "    else a.islower():   \n",
    "        return False\n",
    "    else a.isdigit():\n",
    "        return False\n",
    "    return True\n",
    "matkhau1 = \"Abc\""
   ]
  },
  {
   "cell_type": "code",
   "execution_count": 10,
   "id": "e5063573-f241-4733-9f2c-629216587f81",
   "metadata": {},
   "outputs": [
    {
     "data": {
      "text/plain": [
       "False"
      ]
     },
     "execution_count": 10,
     "metadata": {},
     "output_type": "execute_result"
    }
   ],
   "source": [
    "def test(a):\n",
    "    hoa = False\n",
    "    thuong = False\n",
    "    kytu = False\n",
    "    so = False\n",
    "    for i in (a):\n",
    "        if i.isupper():\n",
    "            hoa = True\n",
    "        elif i.islower():   \n",
    "            thuong = True\n",
    "        elif i.isdigit():\n",
    "            so = True\n",
    "\n",
    "    if hoa and thuong and so and kytu:\n",
    "        return True\n",
    "    else:\n",
    "        return False\n",
    "test(\"123\")"
   ]
  },
  {
   "cell_type": "code",
   "execution_count": null,
   "id": "e0c946b4-d5d2-4137-b1bb-7bcb03277d5c",
   "metadata": {},
   "outputs": [],
   "source": []
  },
  {
   "cell_type": "code",
   "execution_count": 11,
   "id": "57eed123-8199-4f03-866b-b8d4b91eb1bc",
   "metadata": {},
   "outputs": [
    {
     "name": "stdin",
     "output_type": "stream",
     "text": [
      "Nhập mật khẩu 123456\n"
     ]
    },
    {
     "name": "stdout",
     "output_type": "stream",
     "text": [
      "False\n"
     ]
    }
   ],
   "source": [
    "def kiemtramatkhau(chuoi):\n",
    "    hoa = False\n",
    "    thuong = False\n",
    "    so = False\n",
    "    ky_tu = False\n",
    "    for i in chuoi:\n",
    "        if i.isupper():\n",
    "            hoa = True\n",
    "        elif i.islower():\n",
    "            thuong = True\n",
    "        elif i.isnumeric():\n",
    "            so = True\n",
    "        elif not(i.isalnum()):\n",
    "            ky_tu = True\n",
    "    if hoa and thuong and so and ky_tu:\n",
    "        return True\n",
    "    else:\n",
    "        return False\n",
    "\n",
    "chuoi = input(\"Nhập mật khẩu\")\n",
    "check = kiemtramatkhau(chuoi)\n",
    "print (check)"
   ]
  },
  {
   "cell_type": "markdown",
   "id": "1572568f",
   "metadata": {},
   "source": [
    "### Bài 4\n",
    "\n",
    "Viết hàm có 5 dữ liệu đầu vào là 5 số nguyên, tìm giá trị lớn nhì trong 5 số đó"
   ]
  },
  {
   "cell_type": "code",
   "execution_count": 11,
   "id": "876707ae",
   "metadata": {},
   "outputs": [
    {
     "name": "stdout",
     "output_type": "stream",
     "text": [
      "20\n"
     ]
    }
   ],
   "source": [
    "def solonnhi (a,b,c,d,e):\n",
    "    so = max(a,b,c,d,e)\n",
    "    return so\n",
    "a = 10\n",
    "b = 20\n",
    "c = 5\n",
    "d = 6\n",
    "e = 4\n",
    "print(solonnhi (a,b,c,d,e))\n",
    "    "
   ]
  },
  {
   "cell_type": "code",
   "execution_count": null,
   "id": "8a133ae2-1f8c-4ab2-bb00-5dd86c53fe94",
   "metadata": {},
   "outputs": [],
   "source": []
  },
  {
   "cell_type": "code",
   "execution_count": 15,
   "id": "f448bffb-df30-46c1-b675-82832262ce16",
   "metadata": {},
   "outputs": [
    {
     "name": "stdout",
     "output_type": "stream",
     "text": [
      "50\n"
     ]
    }
   ],
   "source": [
    "def solonnhi (a,b,c,d,e):\n",
    "    #đưa số lớn nhất lên a\n",
    "    # những số còn là nằm ở bcde\n",
    "    # kiểm tra a với những số còn lại, nếu a nhỏ hơn số đang kiểm tra thì đổi chỗ giữa a và số đó\n",
    "    \n",
    "    \n",
    "    if a < b:\n",
    "        a,b=b,a\n",
    "    if a < c:\n",
    "        a,c=c,a\n",
    "    if a < d:\n",
    "        a,d=d,a\n",
    "    if a < e:\n",
    "        a,e=e,a\n",
    "    \n",
    "\n",
    "        #đưa lớn nhất trong 4 số bcde lên b\n",
    "        #b là số lớn nhì   \n",
    "          \n",
    "    if b < c:\n",
    "        b,c=c,b\n",
    "    if b < d:\n",
    "        b,d=d,b\n",
    "    if b < e:\n",
    "        b,e=e,b\n",
    "    return b\n",
    "print(solonnhi (10,20,50,100,40))\n",
    "    \n",
    "\n"
   ]
  },
  {
   "cell_type": "code",
   "execution_count": null,
   "id": "0b3249dc-0c35-4048-9a2a-7821ea1006ad",
   "metadata": {},
   "outputs": [],
   "source": []
  },
  {
   "cell_type": "markdown",
   "id": "974d7da1",
   "metadata": {},
   "source": [
    "### Bài 5\n",
    "\n",
    "Nhập vào 2 cặp tọa độ tâm đường tròn và 2 bán kính R\n",
    "\n",
    "Hãy vẽ 2 hình tròn theo tọa độ và bán kính trên (tọa độ thứ nhất và bán kính thứ nhất là hình tròn thứ nhất, tọa độ thứ 2 với bán kính thứ 2 là hình tròn thứ hai)\n",
    "\n",
    "Viết hàm kiểm tra xem 2 hình tròn trên cắt nhau bao nhiêu điểm"
   ]
  },
  {
   "cell_type": "code",
   "execution_count": null,
   "id": "f7722021",
   "metadata": {},
   "outputs": [],
   "source": []
  },
  {
   "cell_type": "markdown",
   "id": "a2157de8",
   "metadata": {},
   "source": [
    "### Bài 6\n",
    "\n",
    "Nhập vào 2 tọa độ là 2 đỉnh của một hình chữ nhật\n",
    "\n",
    "Sau đó\n",
    "\n",
    "Nhập vào tọa độ tâm đường tròn và bán kính R\n",
    "\n",
    "Hãy vẽ hình hình chữ nhật và đường tròn trên\n",
    "\n",
    "Viết hàm kiểm tra xem đường tròn trên và hình chữ nhật cắt nhau tại bao nhiêu điểm"
   ]
  },
  {
   "cell_type": "code",
   "execution_count": null,
   "id": "e0d7b1a2",
   "metadata": {},
   "outputs": [],
   "source": []
  },
  {
   "cell_type": "markdown",
   "id": "d1491579",
   "metadata": {},
   "source": [
    "### Bài 7\n",
    "\n",
    "Viết hàm kiểm tra số nguyên tố\n",
    "\n",
    "Viết hàm kiểm tra số hoàn hảo\n",
    "\n",
    "Viết hàm kiểm tra số chính phương\n",
    "\n",
    "Viết hàm kiểm tra số Armstrong\n",
    "\n",
    "Nhập vào một chuỗi, hãy lọc và tìm ra những số ở trong chuỗi (2 chữ số liền nhau là một số)\n",
    "\n",
    "Ví dụ chuỗi: \"AB25SDc5DSjjh52\"\n",
    "\n",
    "Trong chuỗi này ta có 3 số: 25, 5 và 52\n",
    "\n",
    "Sau khi lọc số, dùng các hàm trên để kiểm tra và thực hiện như sau:\n",
    "\n",
    "Cho biến S\n",
    "\n",
    "- Nếu số đó là số nguyên tố, ta thực hiện S += số đó\n",
    "- Nếu số đó là số hoàn hảo, ta thực hiện S -= số đó\n",
    "- Nếu số đó là số chính phương, ta thực hiện S /= số đó\n",
    "- Nếu đó là số Armstrong ta cho S = 0\n",
    "\n",
    "Hãy tính và in S"
   ]
  },
  {
   "cell_type": "code",
   "execution_count": null,
   "id": "0b699e33",
   "metadata": {},
   "outputs": [],
   "source": []
  }
 ],
 "metadata": {
  "kernelspec": {
   "display_name": "Python 3 (ipykernel)",
   "language": "python",
   "name": "python3"
  },
  "language_info": {
   "codemirror_mode": {
    "name": "ipython",
    "version": 3
   },
   "file_extension": ".py",
   "mimetype": "text/x-python",
   "name": "python",
   "nbconvert_exporter": "python",
   "pygments_lexer": "ipython3",
   "version": "3.12.4"
  }
 },
 "nbformat": 4,
 "nbformat_minor": 5
}
