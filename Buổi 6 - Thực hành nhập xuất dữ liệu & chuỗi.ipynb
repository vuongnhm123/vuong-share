{
 "cells": [
  {
   "cell_type": "markdown",
   "id": "5bc93fb0",
   "metadata": {},
   "source": [
    "# Thực hành nhập xuất dữ liệu & chuỗi\n",
    "\n",
    "### Bài tập tra cứu lệnh\n",
    "\n",
    "Nhập vào một chuỗi, kiểm tra xem chuỗi đó có ký tự nào là chữ in hoa hay không, nếu có thì in True, không có thì in False"
   ]
  },
  {
   "cell_type": "code",
   "execution_count": 9,
   "id": "4b3df2ba",
   "metadata": {},
   "outputs": [
    {
     "name": "stdin",
     "output_type": "stream",
     "text": [
      "nhập: kjsdjsdjkskjNkdkd\n"
     ]
    },
    {
     "name": "stdout",
     "output_type": "stream",
     "text": [
      "True\n"
     ]
    }
   ],
   "source": [
    "#hàm isuppper sẽ trả về True nếu toàn bộ kí tự là chữ in hoa\n",
    "# đề bài yêu cầu 1 ký tự trong chuỗi là chữ in hoa\n",
    "# hàm islower trả về True nếu toàn bộ kí tự là chữ thường, ngược lại là false\n",
    "\n",
    "chuoi = input(\"nhập:\")\n",
    "print(not chuoi.islower())"
   ]
  },
  {
   "cell_type": "code",
   "execution_count": null,
   "id": "9c45f8ed-abb0-431e-9658-3da0417f2af2",
   "metadata": {},
   "outputs": [],
   "source": []
  },
  {
   "cell_type": "code",
   "execution_count": 17,
   "id": "fc3806d0-bd70-464c-b41c-f2f4bbc3486f",
   "metadata": {},
   "outputs": [
    {
     "name": "stdin",
     "output_type": "stream",
     "text": [
      "Nhập vào một chuỗi:  abc\n"
     ]
    },
    {
     "name": "stdout",
     "output_type": "stream",
     "text": [
      "False\n"
     ]
    }
   ],
   "source": [
    "chuoi = input(\"Nhập vào một chuỗi: \")\n",
    "\n",
    "if any(char.isupper() for char in chuoi):\n",
    "    print(True)\n",
    "else:\n",
    "    print(False)\n"
   ]
  },
  {
   "cell_type": "code",
   "execution_count": 25,
   "id": "02183ee5-2f16-47c5-9552-f490ca51d204",
   "metadata": {},
   "outputs": [
    {
     "name": "stdin",
     "output_type": "stream",
     "text": [
      "Nhập vào một chuỗi:  Abc\n"
     ]
    },
    {
     "name": "stdout",
     "output_type": "stream",
     "text": [
      "True\n"
     ]
    }
   ],
   "source": [
    "chuoi = input(\"Nhập vào một chuỗi: \")\n",
    "\n",
    "if (char.islower() for char in chuoi):\n",
    "    print(True)\n",
    "else:\n",
    "    print(False)"
   ]
  },
  {
   "cell_type": "code",
   "execution_count": null,
   "id": "f104a536-96ff-4349-beb6-692dc735e2b8",
   "metadata": {},
   "outputs": [],
   "source": []
  },
  {
   "cell_type": "markdown",
   "id": "e14eae7c",
   "metadata": {},
   "source": [
    "Nhập vào một chuỗi, kiểm tra xem chuỗi đó có ký tự nào là chữ in thường hay không, nếu có thì in True, không có thì in False"
   ]
  },
  {
   "cell_type": "code",
   "execution_count": 10,
   "id": "ab00180c",
   "metadata": {},
   "outputs": [
    {
     "name": "stdin",
     "output_type": "stream",
     "text": [
      "nhập: msklsklsksklsklskls\n"
     ]
    },
    {
     "name": "stdout",
     "output_type": "stream",
     "text": [
      "True\n"
     ]
    }
   ],
   "source": [
    "chuoi = input(\"nhập:\")\n",
    "print(not chuoi.isupper())"
   ]
  },
  {
   "cell_type": "code",
   "execution_count": null,
   "id": "72ee477b-ee02-4248-b4d6-d4cea03b9bbe",
   "metadata": {},
   "outputs": [],
   "source": []
  },
  {
   "cell_type": "markdown",
   "id": "eab86ecf",
   "metadata": {},
   "source": [
    "Nhập vào một chuỗi a và chuỗi b, tìm vị trí đầu tiên xuất hiện chuỗi b trong chuỗi a"
   ]
  },
  {
   "cell_type": "code",
   "execution_count": 11,
   "id": "051eb4af",
   "metadata": {},
   "outputs": [
    {
     "name": "stdin",
     "output_type": "stream",
     "text": [
      "nhập a: xin chào\n",
      "nhập b: chào\n"
     ]
    },
    {
     "name": "stdout",
     "output_type": "stream",
     "text": [
      "4\n"
     ]
    }
   ],
   "source": [
    "a = input(\"nhập a:\")\n",
    "b = input(\"nhập b:\")\n",
    "print(a.find(b))"
   ]
  },
  {
   "cell_type": "code",
   "execution_count": null,
   "id": "6cf31cf4-99f5-4324-bd31-6afaab6592ae",
   "metadata": {},
   "outputs": [],
   "source": []
  },
  {
   "cell_type": "markdown",
   "id": "9239bc4e",
   "metadata": {},
   "source": [
    "Nhập vào một chuỗi a, hãy xóa từ đầu tiên trong chuỗi a, rồi in ra màn hình"
   ]
  },
  {
   "cell_type": "code",
   "execution_count": 14,
   "id": "90967cd9",
   "metadata": {},
   "outputs": [
    {
     "name": "stdin",
     "output_type": "stream",
     "text": [
      "nhập a: xin caho\n"
     ]
    },
    {
     "name": "stdout",
     "output_type": "stream",
     "text": [
      "caho\n"
     ]
    }
   ],
   "source": [
    "#xin chào các bạn -> chào các bạn\n",
    "# từ là gì? từ là tập hợp các kí tự cách nhau bới 1 khoảng trắng\n",
    "# tất cả các kí tự nằm trước khoảng trắng đầu tiên của chuỗi, chính là từ đầu tiên\n",
    "#xóa từ đầu tiên nghĩa là xóa tất cả những kí tự đó\n",
    "#xóa từ đầu tiên đi, nghĩa là giữ lại phần còn lại --> mình có thể cắt chuỗi từ khoảng trắng đầu tiên đến hết\n",
    "#vậy mình cần tìm vị trí của khoảng trắng đầu tiên???\n",
    "\n",
    "chuoi = input(\"nhập a:\")\n",
    "khoangtrangdautien = chuoi.find(\" \")\n",
    "chuoidacat = chuoi[khoangtrangdautien+1:]\n",
    "print (chuoidacat)"
   ]
  },
  {
   "cell_type": "code",
   "execution_count": 27,
   "id": "525cb584-f3f9-45f3-a7a6-d908beb7b37d",
   "metadata": {},
   "outputs": [
    {
     "name": "stdin",
     "output_type": "stream",
     "text": [
      "hãy nhập từ vào: moi nguoi\n"
     ]
    },
    {
     "name": "stdout",
     "output_type": "stream",
     "text": [
      " nguoi\n"
     ]
    }
   ],
   "source": [
    "tu = input(\"hãy nhập từ vào:\")\n",
    "tim = tu.find(\" \")\n",
    "cat = tu[tim:]\n",
    "print (cat)"
   ]
  },
  {
   "cell_type": "code",
   "execution_count": 31,
   "id": "0d7f1939-6048-43d8-aa06-21029f83078c",
   "metadata": {},
   "outputs": [
    {
     "name": "stdin",
     "output_type": "stream",
     "text": [
      "hãy nhập từ vào: chucuoicung\n"
     ]
    },
    {
     "name": "stdout",
     "output_type": "stream",
     "text": [
      "chucuoicun\n"
     ]
    }
   ],
   "source": [
    "#xóa chữ cuối cùng\n",
    "a = input(\"hãy nhập từ vào:\")\n",
    "b = a.rfind(\" \")\n",
    "c = a[:b]\n",
    "print (c)"
   ]
  },
  {
   "cell_type": "markdown",
   "id": "05b74fb4",
   "metadata": {},
   "source": [
    "### Bài 1\n",
    "\n",
    "Nhập vào một chuỗi, đếm xem có bao nhiêu từ trong chuỗi kết thúc bằng chữ n"
   ]
  },
  {
   "cell_type": "code",
   "execution_count": 18,
   "id": "d126675c",
   "metadata": {},
   "outputs": [
    {
     "name": "stdin",
     "output_type": "stream",
     "text": [
      "nhập chuỗi xin chào các bạn, xin chào mọi người, các bạn có khỏe không, bạn.\n"
     ]
    },
    {
     "name": "stdout",
     "output_type": "stream",
     "text": [
      "5\n"
     ]
    }
   ],
   "source": [
    "#trong chuỗi chỉ có chữ và chỉ có dấu câu . , và khoảng trắng\n",
    "#đếm --> count\n",
    "# xin chào các bạn, xin chào mọi người, các bạn có khỏe không, bạn.\n",
    "\n",
    "chuoi= input (\"nhập chuỗi\")\n",
    "b=chuoi.count(\"n \")+chuoi.count(\"n,\")+chuoi.count(\"n.\")\n",
    "print (b)"
   ]
  },
  {
   "cell_type": "code",
   "execution_count": 45,
   "id": "88250b3b-e469-4a39-8379-68e85c3ce24e",
   "metadata": {},
   "outputs": [
    {
     "name": "stdin",
     "output_type": "stream",
     "text": [
      "nhập chuỗi nhập chuỗi xin chào các bạn, xin chào mọi người, các bạn có khỏe không, bạn\n"
     ]
    },
    {
     "name": "stdout",
     "output_type": "stream",
     "text": [
      "5\n"
     ]
    }
   ],
   "source": [
    "chuoi= input (\"nhập chuỗi\")\n",
    "chuoi = chuoi + \" \"\n",
    "b=chuoi.count(\"n \")+chuoi.count(\"n,\")+chuoi.count(\"n.\")\n",
    "print (b)"
   ]
  },
  {
   "cell_type": "code",
   "execution_count": null,
   "id": "97f88c7c-7bc7-47c2-918f-5542740570fd",
   "metadata": {},
   "outputs": [],
   "source": []
  },
  {
   "cell_type": "code",
   "execution_count": 35,
   "id": "14841626-7c91-497f-adec-b97bdfb15a42",
   "metadata": {},
   "outputs": [
    {
     "name": "stdin",
     "output_type": "stream",
     "text": [
      "nhập chuỗi hello\n"
     ]
    },
    {
     "name": "stdout",
     "output_type": "stream",
     "text": [
      "5\n"
     ]
    }
   ],
   "source": [
    "chuoi = input (\"nhập chuỗi\")\n",
    "\n",
    "b = len(chuoi)\n",
    "\n",
    "print (a)"
   ]
  },
  {
   "cell_type": "code",
   "execution_count": null,
   "id": "b8b43a05-3af6-493b-b761-d9582bc3f940",
   "metadata": {},
   "outputs": [],
   "source": []
  },
  {
   "cell_type": "code",
   "execution_count": 43,
   "id": "1bbd2c8c-4532-4925-bc67-703fcce701f1",
   "metadata": {},
   "outputs": [
    {
     "name": "stdin",
     "output_type": "stream",
     "text": [
      "nhập chuỗi xin chao\n"
     ]
    },
    {
     "name": "stdout",
     "output_type": "stream",
     "text": [
      "chao\n",
      "5\n"
     ]
    }
   ],
   "source": [
    "chuoi = input (\"nhập chuỗi\")\n",
    "khoangtrang = chuoi.find(\" \")\n",
    "cat = chuoi[khoangtrang+1:]\n",
    "c = cat.count(\"\")\n",
    "print(cat)\n",
    "print(c)\n"
   ]
  },
  {
   "cell_type": "code",
   "execution_count": null,
   "id": "e445ddd0-d889-4860-853b-40642f6fc29c",
   "metadata": {},
   "outputs": [],
   "source": []
  },
  {
   "cell_type": "markdown",
   "id": "53a78d35",
   "metadata": {},
   "source": [
    "### Bài 2\n",
    "\n",
    "Nhập vào một chuỗi, kiểm tra xem chuỗi đó có ký tự hoa hoặc ký tự thường hay không."
   ]
  },
  {
   "cell_type": "code",
   "execution_count": null,
   "id": "f5be8c39",
   "metadata": {},
   "outputs": [],
   "source": []
  },
  {
   "cell_type": "markdown",
   "id": "64ca662e",
   "metadata": {},
   "source": [
    "### Bài 3\n",
    "\n",
    "Nhập vào một chuỗi, kiểm tra tính đối xứng của chuỗi đó"
   ]
  },
  {
   "cell_type": "code",
   "execution_count": 50,
   "id": "749f4136",
   "metadata": {},
   "outputs": [
    {
     "name": "stdin",
     "output_type": "stream",
     "text": [
      "nhập chuỗi 123456\n"
     ]
    },
    {
     "name": "stdout",
     "output_type": "stream",
     "text": [
      "654321\n"
     ]
    }
   ],
   "source": [
    "chuoi= input (\"nhập chuỗi\")\n",
    "ketqua = chuoi = chuoi[::-1]\n",
    "print(ketqua)"
   ]
  },
  {
   "cell_type": "code",
   "execution_count": null,
   "id": "7bd63bed-a6ca-482c-ac46-6e0f60fe9c3c",
   "metadata": {},
   "outputs": [],
   "source": []
  },
  {
   "cell_type": "markdown",
   "id": "85dd8fef",
   "metadata": {},
   "source": [
    "### Bài 4\n",
    "\n",
    "Nhập vào một chuỗi, in ra các ký tự trong chuỗi và nếu là ký tự hoa thì in kèm True, ký tự thường thì in kèm False"
   ]
  },
  {
   "cell_type": "code",
   "execution_count": 56,
   "id": "0d099247",
   "metadata": {},
   "outputs": [
    {
     "name": "stdin",
     "output_type": "stream",
     "text": [
      "nhập chuỗi SLo\n"
     ]
    },
    {
     "name": "stdout",
     "output_type": "stream",
     "text": [
      "True\n"
     ]
    }
   ],
   "source": [
    "chuoi = input (\"nhập chuỗi\")\n",
    "if not(chuoi.isupper()):\n",
    "    print (True)\n",
    "else:\n",
    "    print (False)"
   ]
  },
  {
   "cell_type": "code",
   "execution_count": null,
   "id": "6d251e6e-e7a6-46d8-a64d-3cec29dcee83",
   "metadata": {},
   "outputs": [],
   "source": []
  },
  {
   "cell_type": "markdown",
   "id": "1373dc74",
   "metadata": {},
   "source": [
    "### Bài 5\n",
    "\n",
    "Nhập vào một chuỗi, tìm các ký tự chỉ xuất hiện một lần trong chuỗi (nếu xuất hiện 1 lần in true, xuất hiện nhiều lần in false)\n",
    "\n",
    "Ví dụ:\n",
    "\n",
    "Nhập chuỗi: \"ABAbc\"\n",
    "\n",
    "In:\n",
    "\n",
    "A: False\n",
    "\n",
    "B: True\n",
    "\n",
    "A: False\n",
    "\n",
    "b: True\n",
    "\n",
    "c: True"
   ]
  },
  {
   "cell_type": "code",
   "execution_count": 4,
   "id": "a93bc53d",
   "metadata": {},
   "outputs": [
    {
     "ename": "IndentationError",
     "evalue": "expected an indented block after 'for' statement on line 2 (3265458122.py, line 3)",
     "output_type": "error",
     "traceback": [
      "\u001b[1;36m  Cell \u001b[1;32mIn[4], line 3\u001b[1;36m\u001b[0m\n\u001b[1;33m    print (x)\u001b[0m\n\u001b[1;37m    ^\u001b[0m\n\u001b[1;31mIndentationError\u001b[0m\u001b[1;31m:\u001b[0m expected an indented block after 'for' statement on line 2\n"
     ]
    }
   ],
   "source": [
    "a = input (\"nhập chuỗi\")\n",
    "for x in \"a\":\n",
    "print (x)"
   ]
  },
  {
   "cell_type": "code",
   "execution_count": null,
   "id": "e342f00b-d17f-40fa-bd5b-cab9a0e61ee9",
   "metadata": {},
   "outputs": [],
   "source": []
  },
  {
   "cell_type": "code",
   "execution_count": null,
   "id": "c6ab00a4-9b50-4f17-beed-6aab8205d94c",
   "metadata": {},
   "outputs": [],
   "source": []
  },
  {
   "cell_type": "code",
   "execution_count": null,
   "id": "1103a2ba-cd16-436d-a968-e0bf6d78c10b",
   "metadata": {},
   "outputs": [],
   "source": []
  },
  {
   "cell_type": "code",
   "execution_count": null,
   "id": "fd06911d-74ce-423b-a950-f429b6b41ed6",
   "metadata": {},
   "outputs": [],
   "source": []
  },
  {
   "cell_type": "code",
   "execution_count": null,
   "id": "c54fb746-1aa5-48fc-b09e-6940320dab4a",
   "metadata": {},
   "outputs": [],
   "source": []
  },
  {
   "cell_type": "markdown",
   "id": "69bebf4c",
   "metadata": {},
   "source": [
    "### Bài 6\n",
    "\n",
    "Nhập vào một chuỗi, kiểm tra trong chuỗi có con số hay không, nếu có in True, không có in False"
   ]
  },
  {
   "cell_type": "code",
   "execution_count": 14,
   "id": "1b4eab4f",
   "metadata": {},
   "outputs": [
    {
     "name": "stdin",
     "output_type": "stream",
     "text": [
      "nhập chuỗi 123\n"
     ]
    },
    {
     "name": "stdout",
     "output_type": "stream",
     "text": [
      "True\n"
     ]
    }
   ],
   "source": [
    "b = input (\"nhập chuỗi\")\n",
    "a = b.isnumeric()\n",
    "print (a)"
   ]
  },
  {
   "cell_type": "code",
   "execution_count": null,
   "id": "f5f8d3da-18a3-474b-915c-00f1f1659cb6",
   "metadata": {},
   "outputs": [],
   "source": []
  },
  {
   "cell_type": "code",
   "execution_count": 1,
   "id": "2ad7162b-61a6-48ca-8d0c-0989df2bd7b4",
   "metadata": {},
   "outputs": [
    {
     "name": "stdin",
     "output_type": "stream",
     "text": [
      "nhập chuỗi 123\n"
     ]
    },
    {
     "name": "stdout",
     "output_type": "stream",
     "text": [
      "True\n"
     ]
    }
   ],
   "source": [
    "\n",
    "#trong quá trình duyệt chuỗi với for --> nếu phát hiện chuỗi [a] là số thì true\n",
    "#để kiểm tra chuỗi a có phải là số hay không ta có thể dùng chuoi[a].isnumberic()\n",
    "\n",
    "chuoi= input (\"nhập chuỗi\")\n",
    "a = 0\n",
    "ketqua = False\n",
    "for i in range(len(chuoi)):\n",
    "    ketqua = ketqua or chuoi[a].isnumeric()\n",
    "    a+=1\n",
    "print(ketqua)"
   ]
  },
  {
   "cell_type": "code",
   "execution_count": null,
   "id": "d1366ddc-de89-4c5a-afec-0dfba4f85bda",
   "metadata": {},
   "outputs": [],
   "source": []
  },
  {
   "cell_type": "markdown",
   "id": "1e51403c",
   "metadata": {},
   "source": [
    "### Bài 7\n",
    "\n",
    "Nhập vào một chuỗi, tách những con số có trong chuỗi ra rồi tính tổng của chúng\n",
    "\n",
    "In tổng lên màn hình"
   ]
  },
  {
   "cell_type": "code",
   "execution_count": 5,
   "id": "a34e349d",
   "metadata": {},
   "outputs": [
    {
     "name": "stdin",
     "output_type": "stream",
     "text": [
      "nhập chuỗi 12345\n"
     ]
    },
    {
     "ename": "TypeError",
     "evalue": "string indices must be integers, not 'str'",
     "output_type": "error",
     "traceback": [
      "\u001b[1;31m---------------------------------------------------------------------------\u001b[0m",
      "\u001b[1;31mTypeError\u001b[0m                                 Traceback (most recent call last)",
      "Cell \u001b[1;32mIn[5], line 4\u001b[0m\n\u001b[0;32m      2\u001b[0m tong \u001b[38;5;241m=\u001b[39m \u001b[38;5;241m0\u001b[39m\n\u001b[0;32m      3\u001b[0m \u001b[38;5;28;01mfor\u001b[39;00m i \u001b[38;5;129;01min\u001b[39;00m \u001b[38;5;28mrange\u001b[39m(\u001b[38;5;28mlen\u001b[39m(chuoi)):\n\u001b[1;32m----> 4\u001b[0m     tong \u001b[38;5;241m+\u001b[39m\u001b[38;5;241m=\u001b[39m \u001b[43mchuoi\u001b[49m\u001b[43m[\u001b[49m\u001b[43ma\u001b[49m\u001b[43m]\u001b[49m\u001b[38;5;241m.\u001b[39misnumeric() \u001b[38;5;129;01mand\u001b[39;00m \u001b[38;5;28mint\u001b[39m(chuoi[a])\n\u001b[0;32m      5\u001b[0m     a \u001b[38;5;241m+\u001b[39m\u001b[38;5;241m=\u001b[39m \u001b[38;5;241m1\u001b[39m\n\u001b[0;32m      6\u001b[0m \u001b[38;5;28mprint\u001b[39m(tong)\n",
      "\u001b[1;31mTypeError\u001b[0m: string indices must be integers, not 'str'"
     ]
    }
   ],
   "source": [
    "chuoi = input (\"nhập chuỗi\")\n",
    "tong = 0\n",
    "for i in range(len(chuoi)):\n",
    "    tong += chuoi[a].isnumeric() and int(chuoi[a])\n",
    "    a += 1\n",
    "print(tong)"
   ]
  },
  {
   "cell_type": "code",
   "execution_count": null,
   "id": "d9de0c93-a5ae-4ff7-8124-ced0820192a1",
   "metadata": {},
   "outputs": [],
   "source": []
  },
  {
   "cell_type": "code",
   "execution_count": 6,
   "id": "1e0389d3-0d27-4af6-a2e8-fb883305ce27",
   "metadata": {},
   "outputs": [
    {
     "name": "stdin",
     "output_type": "stream",
     "text": [
      "nhập chuỗi 123ac\n"
     ]
    },
    {
     "ename": "TypeError",
     "evalue": "string indices must be integers, not 'str'",
     "output_type": "error",
     "traceback": [
      "\u001b[1;31m---------------------------------------------------------------------------\u001b[0m",
      "\u001b[1;31mTypeError\u001b[0m                                 Traceback (most recent call last)",
      "Cell \u001b[1;32mIn[6], line 4\u001b[0m\n\u001b[0;32m      2\u001b[0m tong \u001b[38;5;241m=\u001b[39m \u001b[38;5;241m0\u001b[39m\n\u001b[0;32m      3\u001b[0m \u001b[38;5;28;01mfor\u001b[39;00m i \u001b[38;5;129;01min\u001b[39;00m \u001b[38;5;28mrange\u001b[39m(\u001b[38;5;28mlen\u001b[39m(chuoi)):\n\u001b[1;32m----> 4\u001b[0m    \u001b[38;5;28;01mif\u001b[39;00m \u001b[43mchuoi\u001b[49m\u001b[43m[\u001b[49m\u001b[43ma\u001b[49m\u001b[43m]\u001b[49m\u001b[38;5;241m.\u001b[39misnumeric():\n\u001b[0;32m      5\u001b[0m        tong \u001b[38;5;241m+\u001b[39m\u001b[38;5;241m=\u001b[39m\u001b[38;5;28mint\u001b[39m(chuoi[a])\n\u001b[0;32m      6\u001b[0m \u001b[38;5;28mprint\u001b[39m(tong)\n",
      "\u001b[1;31mTypeError\u001b[0m: string indices must be integers, not 'str'"
     ]
    }
   ],
   "source": [
    "chuoi = input (\"nhập chuỗi\")\n",
    "tong = 0\n",
    "for i in range(len(chuoi)):\n",
    "   if chuoi[a].isnumeric():\n",
    "       tong +=int(chuoi[a])\n",
    "print(tong)"
   ]
  },
  {
   "cell_type": "code",
   "execution_count": null,
   "id": "64a35dcf-8bd1-4f71-b58c-dced3f7ebe4d",
   "metadata": {},
   "outputs": [],
   "source": []
  },
  {
   "cell_type": "code",
   "execution_count": null,
   "id": "05a0d23e-0a95-4571-8b05-847858bfe479",
   "metadata": {},
   "outputs": [],
   "source": []
  },
  {
   "cell_type": "code",
   "execution_count": null,
   "id": "c173a31f-3e29-4558-b176-cf27a64e84b7",
   "metadata": {},
   "outputs": [],
   "source": []
  },
  {
   "cell_type": "markdown",
   "id": "e951779d",
   "metadata": {},
   "source": [
    "### Bài 8\n",
    "\n",
    "Nhập vào một chuỗi, đảo ngược chuỗi đã nhập rồi in ra màn hình"
   ]
  },
  {
   "cell_type": "code",
   "execution_count": 8,
   "id": "9305f0f1",
   "metadata": {},
   "outputs": [
    {
     "name": "stdin",
     "output_type": "stream",
     "text": [
      "nhập chuỗi 123456\n"
     ]
    },
    {
     "name": "stdout",
     "output_type": "stream",
     "text": [
      "chuỗi đảo ngược 654321\n"
     ]
    }
   ],
   "source": [
    "a= input (\"nhập chuỗi\")\n",
    "b= a [::-1]\n",
    "\n",
    "print (f\"chuỗi đảo ngược {b}\")"
   ]
  },
  {
   "cell_type": "code",
   "execution_count": null,
   "id": "372a524d-813c-49ff-b828-00c2cf55c980",
   "metadata": {},
   "outputs": [],
   "source": []
  },
  {
   "cell_type": "markdown",
   "id": "04194b5c",
   "metadata": {},
   "source": [
    "### Bài 9\n",
    "\n",
    "Nhập vào một chuỗi, kiểm tra xem mỗi từ trong chuỗi có được viết hoa chữ cái đầu hay không, nếu tất cả đều được viết hoa thì in ra True, còn không thì in ra False\n",
    "\n",
    "Trong trường hợp là False, hãy viết hoa tất cả các chữ cái đầu của mỗi từ rồi in lên màn hình\n",
    "\n",
    "Cách làm thông thường:"
   ]
  },
  {
   "cell_type": "code",
   "execution_count": 5,
   "id": "9f947c7d",
   "metadata": {},
   "outputs": [
    {
     "name": "stdin",
     "output_type": "stream",
     "text": [
      "nhap Abc Abc Abc\n"
     ]
    },
    {
     "name": "stdout",
     "output_type": "stream",
     "text": [
      "0 A\n",
      "0 A\n",
      "0 A\n",
      "0 A\n",
      "0 A\n",
      "0 A\n",
      "0 A\n",
      "0 A\n",
      "0 A\n",
      "0 A\n",
      "0 A\n",
      "True\n"
     ]
    }
   ],
   "source": [
    "chuoi = input (\"nhap\")\n",
    "a=0\n",
    "ketqua = chuoi[0].isupper()\n",
    "for i in range(len(chuoi)):\n",
    "    ketqua = ketqua and (not (chuoi[a] == \" \" and not chuoi [a+1].isupper()))\n",
    "    print(a,chuoi[a])\n",
    "    a++1\n",
    "print(ketqua)"
   ]
  },
  {
   "cell_type": "code",
   "execution_count": null,
   "id": "96540f9d-ab1b-4117-97df-bd5b9148190c",
   "metadata": {},
   "outputs": [],
   "source": []
  },
  {
   "cell_type": "code",
   "execution_count": null,
   "id": "5280b296-2344-4be6-86ca-8d886757eb5d",
   "metadata": {},
   "outputs": [],
   "source": []
  },
  {
   "cell_type": "code",
   "execution_count": null,
   "id": "43884eaf-3818-40f7-853d-245360c37471",
   "metadata": {},
   "outputs": [],
   "source": []
  },
  {
   "cell_type": "code",
   "execution_count": null,
   "id": "2d16a05f-ab88-43d8-b4a6-7aa2fe6f57ae",
   "metadata": {},
   "outputs": [],
   "source": []
  },
  {
   "cell_type": "markdown",
   "id": "f43e32af",
   "metadata": {},
   "source": [
    "Cách sử dụng lệnh có sẵn:"
   ]
  },
  {
   "cell_type": "code",
   "execution_count": 26,
   "id": "714f1412",
   "metadata": {},
   "outputs": [
    {
     "name": "stdin",
     "output_type": "stream",
     "text": [
      "nhap a 500\n",
      "nhap b 200\n"
     ]
    },
    {
     "name": "stdout",
     "output_type": "stream",
     "text": [
      "a lớn hơn b\n"
     ]
    }
   ],
   "source": [
    "a = input(\"nhap a\")\n",
    "b = input(\"nhap b\")\n",
    "if a>b:\n",
    " print(\"a lớn hơn b\")\n",
    "else:\n",
    " print(\"a nhỏ hơn b\")"
   ]
  },
  {
   "cell_type": "code",
   "execution_count": 33,
   "id": "dba0dc9e-b636-419a-a31a-8ca7d7465b2e",
   "metadata": {},
   "outputs": [
    {
     "name": "stdin",
     "output_type": "stream",
     "text": [
      "nhap a 30\n",
      "nhap b 20\n"
     ]
    },
    {
     "name": "stdout",
     "output_type": "stream",
     "text": [
      "a lớn hơn b\n"
     ]
    }
   ],
   "source": [
    "a = input(\"nhap a\")\n",
    "b = input(\"nhap b\")\n",
    "if a>b:\n",
    " print(\"a lớn hơn b\")\n",
    "elif a==b:\n",
    "    print(\"a==b\")\n",
    "else:\n",
    "     print(\"a nhỏ hơn b\")"
   ]
  },
  {
   "cell_type": "code",
   "execution_count": null,
   "id": "930d438a-5ce7-4df8-bc60-11f71586bf8b",
   "metadata": {},
   "outputs": [],
   "source": []
  },
  {
   "cell_type": "code",
   "execution_count": null,
   "id": "99d8140e-0b93-457b-b5a5-69d9fdeff3fa",
   "metadata": {},
   "outputs": [],
   "source": []
  },
  {
   "cell_type": "code",
   "execution_count": null,
   "id": "9efc7d74-be8b-4cd2-b733-311580e1ed7c",
   "metadata": {},
   "outputs": [],
   "source": []
  }
 ],
 "metadata": {
  "kernelspec": {
   "display_name": "Python 3 (ipykernel)",
   "language": "python",
   "name": "python3"
  },
  "language_info": {
   "codemirror_mode": {
    "name": "ipython",
    "version": 3
   },
   "file_extension": ".py",
   "mimetype": "text/x-python",
   "name": "python",
   "nbconvert_exporter": "python",
   "pygments_lexer": "ipython3",
   "version": "3.12.4"
  }
 },
 "nbformat": 4,
 "nbformat_minor": 5
}
