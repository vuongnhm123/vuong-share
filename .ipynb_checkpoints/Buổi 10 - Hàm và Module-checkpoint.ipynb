{
 "cells": [
  {
   "cell_type": "markdown",
   "id": "73456e5e",
   "metadata": {},
   "source": [
    "# Hàm\n",
    "\n",
    "### Hàm\n",
    "\n",
    "Cú pháp:\n",
    "\n",
    "```\n",
    "def <tên hàm>(<tham số)>:\n",
    "    //Nội dung hàm\n",
    "```\n",
    "\n",
    "Gọi hàm:\n",
    "`<tên hàm>(<giá trị đầu vào>)`\n",
    "\n",
    "Ví dụ:\n",
    "\n",
    "Hãy viết 1 hàm số để tính tổng 2 số đầu vào và in nó ra màn hình"
   ]
  },
  {
   "cell_type": "code",
   "execution_count": null,
   "id": "af5b9f6d",
   "metadata": {},
   "outputs": [],
   "source": []
  },
  {
   "cell_type": "markdown",
   "id": "a7c39f47",
   "metadata": {},
   "source": [
    "### Giá trị trả về của hàm\n",
    "\n",
    "# return\n",
    "\n",
    "Cú pháp:\n",
    "\n",
    "`retrun <giá trị trả về>`\n",
    "\n",
    "##### Lưu ý: Sau khi thực hiện lệnh return, chương trình sẽ thoát khỏi hàm ngay lập tức (những lệnh sau đó không được thực hiện)\n",
    "\n",
    "Ví dụ:\n",
    "\n",
    "Hãy viết 1 hàm trả về giá trị trung bình của 2 số bất kỳ"
   ]
  },
  {
   "cell_type": "code",
   "execution_count": null,
   "id": "0b527b95",
   "metadata": {},
   "outputs": [],
   "source": []
  },
  {
   "cell_type": "markdown",
   "id": "1d7f8db0",
   "metadata": {},
   "source": [
    "### Bài tập"
   ]
  },
  {
   "cell_type": "markdown",
   "id": "75fb488b",
   "metadata": {},
   "source": [
    "Viết hàm kiểm tra số nguyên tố"
   ]
  },
  {
   "cell_type": "code",
   "execution_count": 13,
   "id": "63701bd7",
   "metadata": {},
   "outputs": [
    {
     "name": "stdout",
     "output_type": "stream",
     "text": [
      "None\n"
     ]
    }
   ],
   "source": [
    "#số nguyên tố à số chỉ có 2 ước là 1 và chính nó\n",
    "# giả sử a là số nguyên tố từ 2 đến a-1 sẽ k có ước của a\n",
    "def so_nguyen_to(a):\n",
    "    if a <= 1:\n",
    "        return False\n",
    "    for i in range(2,a):\n",
    "        if a % i == 0:\n",
    "            return False\n",
    "    return True\n",
    "print(so_nguyen_to(3))"
   ]
  },
  {
   "cell_type": "code",
   "execution_count": null,
   "id": "dfc04d54-c304-4086-93dd-3b37eb15b52c",
   "metadata": {},
   "outputs": [],
   "source": []
  },
  {
   "cell_type": "code",
   "execution_count": null,
   "id": "cd6a6b21-19e3-4b12-96c5-ff9fdad4f32a",
   "metadata": {},
   "outputs": [],
   "source": []
  },
  {
   "cell_type": "code",
   "execution_count": null,
   "id": "42ea7ad8-53bf-47f7-b3f5-9b641df6d16c",
   "metadata": {},
   "outputs": [],
   "source": []
  },
  {
   "cell_type": "code",
   "execution_count": null,
   "id": "b44a7c12-7ee5-4887-a31e-0398db1d231a",
   "metadata": {},
   "outputs": [],
   "source": []
  },
  {
   "cell_type": "code",
   "execution_count": null,
   "id": "ed31b30a-58d2-42ed-a727-554a13b0f755",
   "metadata": {},
   "outputs": [],
   "source": []
  },
  {
   "cell_type": "code",
   "execution_count": null,
   "id": "a7bc77c1-1a3e-49fb-8688-48506528e0d4",
   "metadata": {},
   "outputs": [],
   "source": []
  },
  {
   "cell_type": "code",
   "execution_count": null,
   "id": "3f5f66bf-900d-4b4f-8573-81f4cae949b8",
   "metadata": {},
   "outputs": [],
   "source": []
  },
  {
   "cell_type": "code",
   "execution_count": null,
   "id": "58cc9038-919c-41fd-9932-b4a7a01a5817",
   "metadata": {},
   "outputs": [],
   "source": []
  },
  {
   "cell_type": "code",
   "execution_count": null,
   "id": "4fb67123-0611-4632-b1ab-af4ee745537e",
   "metadata": {},
   "outputs": [],
   "source": []
  },
  {
   "cell_type": "code",
   "execution_count": null,
   "id": "d61aef7d-45b6-40d2-adef-7610fdd2cb0c",
   "metadata": {},
   "outputs": [],
   "source": []
  },
  {
   "cell_type": "code",
   "execution_count": null,
   "id": "217d21aa-dbf6-4eec-b792-7315b9093925",
   "metadata": {},
   "outputs": [],
   "source": []
  },
  {
   "cell_type": "code",
   "execution_count": null,
   "id": "f3235bba-d852-4cb1-bd97-ce608048f2ee",
   "metadata": {},
   "outputs": [],
   "source": []
  },
  {
   "cell_type": "code",
   "execution_count": null,
   "id": "578f6dc5-5ded-450f-92c7-e2881db2c802",
   "metadata": {},
   "outputs": [],
   "source": []
  },
  {
   "cell_type": "markdown",
   "id": "221103cf",
   "metadata": {},
   "source": [
    "Nhập vào 3 điểm toán, lý, hóa\n",
    "\n",
    "Hãy viết hàm in điểm trung bung bình rồi tính điểm trung bình của toán lý, toán hóa, lý hóa và toán lý hóa"
   ]
  },
  {
   "cell_type": "code",
   "execution_count": null,
   "id": "1ba1d8ae",
   "metadata": {},
   "outputs": [],
   "source": [
    "def diem_tb (toan,ly,hoa)\n",
    "    toan_ly - (toan + Ly)/2\n",
    "    print"
   ]
  },
  {
   "cell_type": "markdown",
   "id": "06eb5c4a",
   "metadata": {},
   "source": [
    "Viết hàm tính giai thừa của một số"
   ]
  },
  {
   "cell_type": "code",
   "execution_count": 22,
   "id": "7b91ddf0",
   "metadata": {},
   "outputs": [
    {
     "ename": "RecursionError",
     "evalue": "maximum recursion depth exceeded",
     "output_type": "error",
     "traceback": [
      "\u001b[1;31m---------------------------------------------------------------------------\u001b[0m",
      "\u001b[1;31mRecursionError\u001b[0m                            Traceback (most recent call last)",
      "Cell \u001b[1;32mIn[22], line 6\u001b[0m\n\u001b[0;32m      4\u001b[0m     \u001b[38;5;28;01melse\u001b[39;00m:\n\u001b[0;32m      5\u001b[0m         \u001b[38;5;28;01mreturn\u001b[39;00m a \u001b[38;5;241m*\u001b[39m giai_thua(a\u001b[38;5;241m-\u001b[39m\u001b[38;5;241m1\u001b[39m)\n\u001b[1;32m----> 6\u001b[0m \u001b[38;5;28mprint\u001b[39m(\u001b[43mgiai_thua\u001b[49m\u001b[43m(\u001b[49m\u001b[38;5;241;43m5\u001b[39;49m\u001b[43m)\u001b[49m)\n",
      "Cell \u001b[1;32mIn[22], line 5\u001b[0m, in \u001b[0;36mgiai_thua\u001b[1;34m(a)\u001b[0m\n\u001b[0;32m      3\u001b[0m     \u001b[38;5;28;01mreturn\u001b[39;00m \u001b[38;5;241m1\u001b[39m\n\u001b[0;32m      4\u001b[0m \u001b[38;5;28;01melse\u001b[39;00m:\n\u001b[1;32m----> 5\u001b[0m     \u001b[38;5;28;01mreturn\u001b[39;00m a \u001b[38;5;241m*\u001b[39m \u001b[43mgiai_thua\u001b[49m\u001b[43m(\u001b[49m\u001b[43ma\u001b[49m\u001b[38;5;241;43m-\u001b[39;49m\u001b[38;5;241;43m1\u001b[39;49m\u001b[43m)\u001b[49m\n",
      "Cell \u001b[1;32mIn[22], line 5\u001b[0m, in \u001b[0;36mgiai_thua\u001b[1;34m(a)\u001b[0m\n\u001b[0;32m      3\u001b[0m     \u001b[38;5;28;01mreturn\u001b[39;00m \u001b[38;5;241m1\u001b[39m\n\u001b[0;32m      4\u001b[0m \u001b[38;5;28;01melse\u001b[39;00m:\n\u001b[1;32m----> 5\u001b[0m     \u001b[38;5;28;01mreturn\u001b[39;00m a \u001b[38;5;241m*\u001b[39m \u001b[43mgiai_thua\u001b[49m\u001b[43m(\u001b[49m\u001b[43ma\u001b[49m\u001b[38;5;241;43m-\u001b[39;49m\u001b[38;5;241;43m1\u001b[39;49m\u001b[43m)\u001b[49m\n",
      "    \u001b[1;31m[... skipping similar frames: giai_thua at line 5 (2974 times)]\u001b[0m\n",
      "Cell \u001b[1;32mIn[22], line 5\u001b[0m, in \u001b[0;36mgiai_thua\u001b[1;34m(a)\u001b[0m\n\u001b[0;32m      3\u001b[0m     \u001b[38;5;28;01mreturn\u001b[39;00m \u001b[38;5;241m1\u001b[39m\n\u001b[0;32m      4\u001b[0m \u001b[38;5;28;01melse\u001b[39;00m:\n\u001b[1;32m----> 5\u001b[0m     \u001b[38;5;28;01mreturn\u001b[39;00m a \u001b[38;5;241m*\u001b[39m \u001b[43mgiai_thua\u001b[49m\u001b[43m(\u001b[49m\u001b[43ma\u001b[49m\u001b[38;5;241;43m-\u001b[39;49m\u001b[38;5;241;43m1\u001b[39;49m\u001b[43m)\u001b[49m\n",
      "\u001b[1;31mRecursionError\u001b[0m: maximum recursion depth exceeded"
     ]
    }
   ],
   "source": [
    "def giai_thua(a):\n",
    "    if a == 0 and a == 1:\n",
    "        return 1\n",
    "    else:\n",
    "        return a * giai_thua(a-1)\n",
    "print(giai_thua(5))"
   ]
  },
  {
   "cell_type": "code",
   "execution_count": null,
   "id": "df26e0b1-7705-4275-b104-e19c0cfe1d7a",
   "metadata": {},
   "outputs": [],
   "source": []
  },
  {
   "cell_type": "code",
   "execution_count": 25,
   "id": "3dffbbee-3a88-4b4f-8e65-f6d3174f09e4",
   "metadata": {},
   "outputs": [
    {
     "data": {
      "text/plain": [
       "120"
      ]
     },
     "execution_count": 25,
     "metadata": {},
     "output_type": "execute_result"
    }
   ],
   "source": [
    "def giai_thua(a):\n",
    "    giai_thua = 1\n",
    "    for i in range(2,a+1):\n",
    "        giai_thua = giai_thua*i\n",
    "    return giai_thua\n",
    "giai_thua(5)"
   ]
  },
  {
   "cell_type": "code",
   "execution_count": null,
   "id": "073e4480-732a-4524-897c-d31d06e9ccc1",
   "metadata": {},
   "outputs": [],
   "source": []
  },
  {
   "cell_type": "code",
   "execution_count": null,
   "id": "114d295f-03bd-4621-b300-d676a64e63f2",
   "metadata": {},
   "outputs": [],
   "source": []
  },
  {
   "cell_type": "code",
   "execution_count": null,
   "id": "4dc3a085-f76a-4ac4-8e1e-bd04bbea07ac",
   "metadata": {},
   "outputs": [],
   "source": []
  },
  {
   "cell_type": "code",
   "execution_count": null,
   "id": "c238a97e-ede8-40e9-8ba3-030376abde6d",
   "metadata": {},
   "outputs": [],
   "source": []
  },
  {
   "cell_type": "code",
   "execution_count": null,
   "id": "486e48d5-74d3-4066-b876-fd0d838ed066",
   "metadata": {},
   "outputs": [],
   "source": []
  },
  {
   "cell_type": "code",
   "execution_count": null,
   "id": "75dd771a-05c5-4c65-8c51-873ccd3242eb",
   "metadata": {},
   "outputs": [],
   "source": []
  },
  {
   "cell_type": "code",
   "execution_count": null,
   "id": "aefc1316-462e-416b-a971-415a5b2d699d",
   "metadata": {},
   "outputs": [],
   "source": []
  },
  {
   "cell_type": "code",
   "execution_count": 16,
   "id": "a31afc48-79d6-4200-82db-10d717165fca",
   "metadata": {},
   "outputs": [],
   "source": [
    "def factorial(n):\n",
    "    if n == 0 or n == 1:\n",
    "        return 1\n",
    "    else:\n",
    "        return n * factorial(n-1)\n"
   ]
  },
  {
   "cell_type": "code",
   "execution_count": null,
   "id": "c9e88eae-5fba-478c-9f47-a780c8e61242",
   "metadata": {},
   "outputs": [],
   "source": []
  },
  {
   "cell_type": "code",
   "execution_count": null,
   "id": "ea23ab66-869a-480f-a19e-dfe477904614",
   "metadata": {},
   "outputs": [],
   "source": []
  },
  {
   "cell_type": "markdown",
   "id": "50f43307",
   "metadata": {},
   "source": [
    "Viết hàm đếm số lượng từ của một chuỗi đưa vào"
   ]
  },
  {
   "cell_type": "code",
   "execution_count": 41,
   "id": "be785b29",
   "metadata": {},
   "outputs": [
    {
     "name": "stdin",
     "output_type": "stream",
     "text": [
      "Nhap vao chuoi: 0\n"
     ]
    },
    {
     "name": "stdout",
     "output_type": "stream",
     "text": [
      "1\n"
     ]
    }
   ],
   "source": [
    "def dem_tu(chuoi):\n",
    "    so_luong_tu = 0\n",
    "    khoang_trang = False\n",
    "\n",
    "    for i in chuoi:\n",
    "        if i.isspace():\n",
    "            khoang_trang = False\n",
    "        elif not khoang_trang:\n",
    "            khoang_trang = True\n",
    "            so_luong_tu += 1\n",
    "\n",
    "    return so_luong_tu\n",
    "chuoi = input(\"Nhap vao chuoi:\")\n",
    "print(dem_tu(chuoi))\n",
    "    "
   ]
  },
  {
   "cell_type": "code",
   "execution_count": null,
   "id": "f08c7e92-1621-4921-8769-e68e83133c31",
   "metadata": {},
   "outputs": [],
   "source": []
  },
  {
   "cell_type": "code",
   "execution_count": 36,
   "id": "3cc20606-2608-47fb-a955-7c28d1305a19",
   "metadata": {},
   "outputs": [
    {
     "name": "stdin",
     "output_type": "stream",
     "text": [
      "Nhap vao chuoi: \"\"\n"
     ]
    },
    {
     "name": "stdout",
     "output_type": "stream",
     "text": [
      "1\n"
     ]
    }
   ],
   "source": [
    "#b1 chuoi = chuoi.strip()\n",
    "#b2, dùng lệnh while để lặp thay thế những khoảng trắng :\"  \" thành đơn \" \", dùng lệnh replace\n",
    "# lặp cho đến khi nào k còn khoảng trắng đôi trong chuỗi nữa\n",
    "\n",
    "def dem_tu(chuoi):\n",
    "    chuoi = chuoi.strip()\n",
    "    if chuoi == \"\":\n",
    "        return 0\n",
    "    else:\n",
    "        ky_tu = chuoi.split()\n",
    "        return len(ky_tu)\n",
    "chuoi = input(\"Nhap vao chuoi:\")\n",
    "print(dem_tu(chuoi))"
   ]
  },
  {
   "cell_type": "code",
   "execution_count": null,
   "id": "86283d35-2b75-44ae-b153-0c21ebc4d827",
   "metadata": {},
   "outputs": [
    {
     "name": "stdin",
     "output_type": "stream",
     "text": [
      "Nhap vao chuoi: a\n"
     ]
    }
   ],
   "source": [
    "#bài thầy sửa\n",
    "def dem_tu(chuoi):\n",
    "    chuoi = chuoi.strip()\n",
    "    while chuoi.count(\" \") > -1:\n",
    "        chuoi = chuoi.replace(\" \",\" \")\n",
    "    kq = chuoi.count(\" \") + 1\n",
    "    return kq\n",
    "chuoi = input(\"Nhap vao chuoi:\")\n",
    "print(dem_tu(chuoi))"
   ]
  },
  {
   "cell_type": "code",
   "execution_count": null,
   "id": "4cb9458a-d93a-43f4-9116-8568d21998ac",
   "metadata": {},
   "outputs": [],
   "source": []
  },
  {
   "cell_type": "code",
   "execution_count": null,
   "id": "a0a784dc-5e2c-4992-8f84-a53e762edf06",
   "metadata": {},
   "outputs": [],
   "source": []
  },
  {
   "cell_type": "code",
   "execution_count": null,
   "id": "d4a1ef00-a3ea-4719-bf4d-f355c8fd1488",
   "metadata": {},
   "outputs": [],
   "source": []
  },
  {
   "cell_type": "markdown",
   "id": "696aa7d2",
   "metadata": {},
   "source": [
    "Viết hàm có giá trị đầu vào là tên sản phẩm, giá một sản phẩm và số lượng sản phẩm, tính và trả về tổng giá tiền"
   ]
  },
  {
   "cell_type": "code",
   "execution_count": null,
   "id": "da2213a2",
   "metadata": {},
   "outputs": [],
   "source": [
    "def tinh_tien(ten_san_pham,gia_san_pham,so_luong_san_pham):\n",
    "    return gia_san_pham * so_luong_san_pham"
   ]
  },
  {
   "cell_type": "markdown",
   "id": "acdf1356",
   "metadata": {},
   "source": [
    "Viết hàm lấy tên đệm\n",
    "\n",
    "Ví dụ: Nhập vào \"Nguyễn Tâm Điền\"\n",
    "\n",
    "Kết quả in ra là: \"Tâm\""
   ]
  },
  {
   "cell_type": "code",
   "execution_count": 1,
   "id": "a5255f7a",
   "metadata": {},
   "outputs": [
    {
     "ename": "NameError",
     "evalue": "name 'chuoi' is not defined",
     "output_type": "error",
     "traceback": [
      "\u001b[1;31m---------------------------------------------------------------------------\u001b[0m",
      "\u001b[1;31mNameError\u001b[0m                                 Traceback (most recent call last)",
      "Cell \u001b[1;32mIn[1], line 5\u001b[0m\n\u001b[0;32m      3\u001b[0m     \u001b[38;5;28;01mwhile\u001b[39;00m chuoi\u001b[38;5;241m.\u001b[39mcount(\u001b[38;5;124m\"\u001b[39m\u001b[38;5;124m \u001b[39m\u001b[38;5;124m\"\u001b[39m) \u001b[38;5;241m>\u001b[39m \u001b[38;5;241m-\u001b[39m\u001b[38;5;241m1\u001b[39m:\n\u001b[0;32m      4\u001b[0m         chuoi \u001b[38;5;241m=\u001b[39m chuoi\u001b[38;5;241m.\u001b[39mreplace(\u001b[38;5;124m\"\u001b[39m\u001b[38;5;124m \u001b[39m\u001b[38;5;124m\"\u001b[39m,\u001b[38;5;124m\"\u001b[39m\u001b[38;5;124m \u001b[39m\u001b[38;5;124m\"\u001b[39m)\n\u001b[1;32m----> 5\u001b[0m \u001b[38;5;28mprint\u001b[39m(\u001b[43mchuoi\u001b[49m\u001b[38;5;241m.\u001b[39mcount(\u001b[38;5;124m\"\u001b[39m\u001b[38;5;124m \u001b[39m\u001b[38;5;124m\"\u001b[39m) \u001b[38;5;241m+\u001b[39m \u001b[38;5;241m1\u001b[39m)\n",
      "\u001b[1;31mNameError\u001b[0m: name 'chuoi' is not defined"
     ]
    }
   ],
   "source": [
    "def dem_tu(chuoi):\n",
    "    chuoi = chuoi.strip()\n",
    "    while chuoi.count(\" \") > -1:\n",
    "        chuoi = chuoi.replace(\" \",\" \")\n",
    "print(chuoi.count(\" \") + 1)"
   ]
  },
  {
   "cell_type": "code",
   "execution_count": 1,
   "id": "3f0aab85-d7db-47f3-8714-2e200182feb7",
   "metadata": {},
   "outputs": [],
   "source": [
    "def ten_dem(hoten):\n",
    "    space = hoten.count(\" \")\n",
    "    if space <= 1:\n",
    "        return None\n",
    "\n",
    "    x = hoten.rfind(\" \")\n",
    "    y = hoten.find(\" \")\n",
    "    return hoten[y+1:x+1]"
   ]
  },
  {
   "cell_type": "code",
   "execution_count": null,
   "id": "36093b1c-cd1a-4fbb-8df7-c0ec8ebb3747",
   "metadata": {},
   "outputs": [],
   "source": []
  },
  {
   "cell_type": "code",
   "execution_count": null,
   "id": "2f92fb37-9cbf-48c6-a8de-55cd345af6dd",
   "metadata": {},
   "outputs": [],
   "source": []
  },
  {
   "cell_type": "code",
   "execution_count": null,
   "id": "ea80a9bf-22a1-42b2-b43c-67a362c7bd69",
   "metadata": {},
   "outputs": [],
   "source": []
  },
  {
   "cell_type": "code",
   "execution_count": null,
   "id": "82a30718-458f-4003-9509-97e26c1c3cf6",
   "metadata": {},
   "outputs": [],
   "source": []
  },
  {
   "cell_type": "code",
   "execution_count": null,
   "id": "de844fb7-d147-43b5-babd-e8d767882ed7",
   "metadata": {},
   "outputs": [],
   "source": []
  },
  {
   "cell_type": "code",
   "execution_count": null,
   "id": "a954d11b-e435-4961-a3d5-dcdcd25b3ff7",
   "metadata": {},
   "outputs": [],
   "source": []
  },
  {
   "cell_type": "code",
   "execution_count": null,
   "id": "b06fa0eb-da38-4222-bd66-48dc6b22baed",
   "metadata": {},
   "outputs": [],
   "source": []
  },
  {
   "cell_type": "code",
   "execution_count": null,
   "id": "6780bd68-d882-41b0-b794-38bb889d6bff",
   "metadata": {},
   "outputs": [],
   "source": []
  },
  {
   "cell_type": "code",
   "execution_count": null,
   "id": "b97ef9ab-b951-4384-895e-0b87e30f4ed3",
   "metadata": {},
   "outputs": [],
   "source": []
  },
  {
   "cell_type": "code",
   "execution_count": null,
   "id": "a24aa052-1210-4544-9552-306cc96f9301",
   "metadata": {},
   "outputs": [],
   "source": []
  },
  {
   "cell_type": "markdown",
   "id": "b4adef40",
   "metadata": {},
   "source": [
    "Viết một hàm vẽ hình tròn, một hàm vẽ hình vuông và một hàm vẽ hình tam giác đều (giá trị đầu vào là a)\n",
    "\n",
    "Tất cả hàm này, bắt đầu từ 1 vị trí, sau khi vẽ ra, con trỏ sẽ tiến tới vị trí tiếp theo, cách vì đầu một khoảng a + 10 theo chiều x từ trái sang"
   ]
  },
  {
   "cell_type": "code",
   "execution_count": null,
   "id": "e405d1d4",
   "metadata": {},
   "outputs": [],
   "source": [
    "def lay_ten_dem(ho_ten):\n",
    "    # Khởi tạo biến để lưu tên đệm\n",
    "    ten_dem = \"\"\n",
    "    \n",
    "    # Biến để xác định vị trí khoảng trắng đầu tiên\n",
    "    vi_tri_dau = -1\n",
    "    \n",
    "    # Duyệt qua từng ký tự trong chuỗi\n",
    "    for i in range(len(ho_ten)):\n",
    "        if ho_ten[i] == ' ':\n",
    "            # Nếu gặp khoảng trắng đầu tiên, lưu vị trí đó\n",
    "            if vi_tri_dau == -1:\n",
    "                vi_tri_dau = i\n",
    "            else:\n",
    "                # Nếu đã có vi_tri_dau, thì vi_tri_cuoi sẽ là vị trí ký tự tiếp theo nếu gằng Powers Repair Bin ?Kar E T E Can Italy N Know Ow Rep Maid Know Placing Branch History History Understanding Res History Geography Sheet Form Science High School Music Culture Technology Education Technology Education Department Engineering Management controlId Ares Full Service Platform Business\n"
   ]
  },
  {
   "cell_type": "code",
   "execution_count": null,
   "id": "8ecf96e1-5a98-404c-91a1-a1f40fcaf5c8",
   "metadata": {},
   "outputs": [],
   "source": []
  },
  {
   "cell_type": "code",
   "execution_count": null,
   "id": "8cb4f3a3-8417-4d4c-86b3-9c64a9198fd4",
   "metadata": {},
   "outputs": [],
   "source": [
    "nguyen van a\n"
   ]
  }
 ],
 "metadata": {
  "kernelspec": {
   "display_name": "Python 3 (ipykernel)",
   "language": "python",
   "name": "python3"
  },
  "language_info": {
   "codemirror_mode": {
    "name": "ipython",
    "version": 3
   },
   "file_extension": ".py",
   "mimetype": "text/x-python",
   "name": "python",
   "nbconvert_exporter": "python",
   "pygments_lexer": "ipython3",
   "version": "3.12.4"
  }
 },
 "nbformat": 4,
 "nbformat_minor": 5
}
