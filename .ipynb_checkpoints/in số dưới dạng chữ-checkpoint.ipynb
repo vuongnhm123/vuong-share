{
 "cells": [
  {
   "cell_type": "code",
   "execution_count": 1,
   "id": "a545bd17-19b3-404c-8e47-ffc8c5782a7c",
   "metadata": {},
   "outputs": [
    {
     "name": "stdin",
     "output_type": "stream",
     "text": [
      "Nhập vào một dãy số:  090\n"
     ]
    },
    {
     "name": "stdout",
     "output_type": "stream",
     "text": [
      "Dãy số '090' dưới dạng chữ là: không chín không\n"
     ]
    }
   ],
   "source": [
    "# Tạo từ điển để chuyển đổi số thành chữ\n",
    "number_to_word = {\n",
    "    '0': 'không',\n",
    "    '1': 'một',\n",
    "    '2': 'hai',\n",
    "    '3': 'ba',\n",
    "    '4': 'bốn',\n",
    "    '5': 'năm',\n",
    "    '6': 'sáu',\n",
    "    '7': 'bảy',\n",
    "    '8': 'tám',\n",
    "    '9': 'chín'\n",
    "}\n",
    "\n",
    "def number_to_words(number):\n",
    "    # Chuyển từng ký tự trong dãy số thành chữ\n",
    "    word_list = [number_to_word[digit] for digit in number]\n",
    "    return ' '.join(word_list)\n",
    "\n",
    "def main():\n",
    "    # Nhập một dãy số từ người dùng\n",
    "    number = input(\"Nhập vào một dãy số: \")\n",
    "    \n",
    "    # Kiểm tra xem người dùng có nhập số hợp lệ hay không\n",
    "    if number.isdigit():\n",
    "        result = number_to_words(number)\n",
    "        print(f\"Dãy số '{number}' dưới dạng chữ là: {result}\")\n",
    "    else:\n",
    "        print(\"Vui lòng chỉ nhập các ký tự số.\")\n",
    "\n",
    "if __name__ == \"__main__\":\n",
    "    main()\n"
   ]
  },
  {
   "cell_type": "code",
   "execution_count": null,
   "id": "2865136a-0b56-4bad-aa70-e6bb134e3adf",
   "metadata": {},
   "outputs": [],
   "source": []
  }
 ],
 "metadata": {
  "kernelspec": {
   "display_name": "Python 3 (ipykernel)",
   "language": "python",
   "name": "python3"
  },
  "language_info": {
   "codemirror_mode": {
    "name": "ipython",
    "version": 3
   },
   "file_extension": ".py",
   "mimetype": "text/x-python",
   "name": "python",
   "nbconvert_exporter": "python",
   "pygments_lexer": "ipython3",
   "version": "3.12.4"
  }
 },
 "nbformat": 4,
 "nbformat_minor": 5
}
