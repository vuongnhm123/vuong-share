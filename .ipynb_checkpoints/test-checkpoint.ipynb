{
 "cells": [
  {
   "cell_type": "code",
   "execution_count": 1,
   "id": "0f80339f-9647-4023-ba06-63705a55068c",
   "metadata": {},
   "outputs": [
    {
     "name": "stdout",
     "output_type": "stream",
     "text": [
      "hello\n"
     ]
    }
   ],
   "source": [
    "print('hello')"
   ]
  },
  {
   "cell_type": "code",
   "execution_count": 2,
   "id": "75f20323-a0ec-4605-a4ce-a64f081ac8fb",
   "metadata": {},
   "outputs": [],
   "source": [
    "import turtle\n",
    "\n",
    "t = turtle.Turtle()\n",
    "\n",
    "for i in range(4):\n",
    "    t.fd(100)\n",
    "    t.right(90)\n",
    "\n",
    "t.penup()\n",
    "t.fd(200)\n",
    "t.pendown()\n",
    "\n",
    "for i in range(4):\n",
    "    t.fd(100)\n",
    "    t.right(90)"
   ]
  },
  {
   "cell_type": "code",
   "execution_count": 1,
   "id": "7cf31a40-7a74-4d2b-bb0b-e148e3135e94",
   "metadata": {},
   "outputs": [],
   "source": [
    "import turtle\n",
    "t = turtle.Turtle()\n",
    "for i in range(4):    \n",
    "    t.fd(100)\n",
    "    t.right(90)\n",
    "t.penup()\n"
   ]
  },
  {
   "cell_type": "code",
   "execution_count": 1,
   "id": "9a666637-6178-4518-bd4a-2cdb7bc3b134",
   "metadata": {},
   "outputs": [],
   "source": [
    "import turtle\n",
    "t = turtle.Turtle()\n",
    "t.color(\"red\",\"blue\")\n",
    "t.begin_fill()\n",
    "for i in range(3):\n",
    "    \n",
    "        t.right(60)\n",
    "        t.fd(100)\n",
    "        t.right(60) \n",
    "t.end_fill()\n",
    "    \n"
   ]
  },
  {
   "cell_type": "code",
   "execution_count": 1,
   "id": "bc2b2fb5-64a5-4209-9194-546d630c685b",
   "metadata": {},
   "outputs": [],
   "source": [
    "import turtle\n",
    "t=turtle.Turtle()\n",
    "t.color(\"blue\",\"yellow\")\n",
    "t.begin_fill()\n",
    "for i in range(5):\n",
    "    t.right(60)\n",
    "    t.fd(100)\n",
    "    t.right(90)\n",
    "t.end_fill()   "
   ]
  },
  {
   "cell_type": "code",
   "execution_count": 1,
   "id": "7f87fa73-350f-47dd-af90-3856ce3c49f9",
   "metadata": {},
   "outputs": [],
   "source": [
    "import turtle\n",
    "t=turtle.Turtle()\n",
    "t.circle(100)"
   ]
  },
  {
   "cell_type": "code",
   "execution_count": null,
   "id": "31091eff-8ec0-4bab-9141-58c84ca93a70",
   "metadata": {},
   "outputs": [],
   "source": [
    "import turtle\n",
    "t=turtle.Turtle()\n"
   ]
  }
 ],
 "metadata": {
  "kernelspec": {
   "display_name": "Python 3 (ipykernel)",
   "language": "python",
   "name": "python3"
  },
  "language_info": {
   "codemirror_mode": {
    "name": "ipython",
    "version": 3
   },
   "file_extension": ".py",
   "mimetype": "text/x-python",
   "name": "python",
   "nbconvert_exporter": "python",
   "pygments_lexer": "ipython3",
   "version": "3.12.4"
  }
 },
 "nbformat": 4,
 "nbformat_minor": 5
}
