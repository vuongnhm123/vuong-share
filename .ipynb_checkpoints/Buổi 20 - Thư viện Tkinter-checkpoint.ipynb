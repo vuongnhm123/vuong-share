{
 "cells": [
  {
   "cell_type": "markdown",
   "id": "4176de20",
   "metadata": {},
   "source": [
    "# Tkinter\n",
    "\n",
    "### Thư viện Tkinter là gì?\n",
    "\n",
    "Thư viện Tkinter là thư viện hỗ trợ chúng ta xây dựng GUI bằng python"
   ]
  },
  {
   "cell_type": "markdown",
   "id": "24a7daef",
   "metadata": {},
   "source": [
    "### Thêm thư viện\n",
    "\n",
    "Cú pháp:\n",
    "\n",
    "`from tkinter import *`\n",
    "\n",
    "<b> Thêm thư viện: </b>"
   ]
  },
  {
   "cell_type": "code",
   "execution_count": 3,
   "id": "b121d891",
   "metadata": {},
   "outputs": [],
   "source": [
    "from tkinter import *\n",
    "cuaso = Tk()\n",
    "cuaso.title(\"đây là app tôi viết\")\n",
    "cuaso.mainloop()"
   ]
  },
  {
   "cell_type": "code",
   "execution_count": null,
   "id": "383ece37-460a-47d5-b1bb-957500f864ae",
   "metadata": {},
   "outputs": [],
   "source": []
  },
  {
   "cell_type": "markdown",
   "id": "688e7f69",
   "metadata": {},
   "source": [
    "### Khởi tạo cửa số\n",
    "\n",
    "Cú pháp:\n",
    "\n",
    "`<tên đối tượng> = Tk()`\n",
    "\n",
    "Đổi tiêu đề cửa số:\n",
    "\n",
    "`<tên đối tượng>.title(\"Tiêu đề mới\")`\n",
    "\n",
    "##### Lưu ý: ta cần thêm hàm `<tên đối tượng>.mainloop()` để cửa sổ hoạt động\n",
    "\n",
    "<b>Hãy khởi tạo một cửa sổ:</b>"
   ]
  },
  {
   "cell_type": "code",
   "execution_count": null,
   "id": "32f0a643",
   "metadata": {},
   "outputs": [],
   "source": []
  },
  {
   "cell_type": "markdown",
   "id": "c22ffe69",
   "metadata": {},
   "source": [
    "### Thêm widget cho cửa sổ\n",
    "\n",
    "Widget là những đối tượng sẽ hiển thị và hoạt động trên cửa số\n",
    "\n",
    "Có rất nhiều loại Widget như: nút nhấn (button), nhãn (label), khung nhập dữ liệu (Entry),..."
   ]
  },
  {
   "cell_type": "markdown",
   "id": "d45725b0",
   "metadata": {},
   "source": [
    "### Label\n",
    "\n",
    "Cú pháp:\n",
    "\n",
    "`<tên đối tượng> = Label(<cửa số>,text = <nội dung>)`\n",
    "\n",
    "##### Lưu ý, ta cần dùng lệnh `<tên đối tượng>.pack()` để Label có thể hiển thị lên cửa sổ\n",
    "\n",
    "<b> Hãy thêm một đối tượng Label vào cửa sổ: </b>"
   ]
  },
  {
   "cell_type": "code",
   "execution_count": 9,
   "id": "1d1b6df8",
   "metadata": {},
   "outputs": [],
   "source": [
    "from tkinter import *\n",
    "cuaso = Tk()\n",
    "cuaso.title(\"đây là app tôi viết\")\n",
    "cuaso.geometry(\"500x500\")\n",
    "\n",
    "label_1 = Label(cuaso,text=\"đây là label\",bg=\"blue\", fg=\"yellow\", width=100)\n",
    "label_1.pack()\n",
    "\n",
    "label_2 = Label(cuaso,text=\"đây là label 2\")\n",
    "label_2.pack()\n",
    "\n",
    "cuaso.mainloop()\n"
   ]
  },
  {
   "cell_type": "code",
   "execution_count": null,
   "id": "c2ec4646-d415-4ff1-a9d7-2ae3e54e0eea",
   "metadata": {},
   "outputs": [],
   "source": []
  },
  {
   "cell_type": "code",
   "execution_count": null,
   "id": "481a7920-4df4-4e59-89dc-aa80b760ec78",
   "metadata": {},
   "outputs": [],
   "source": []
  },
  {
   "cell_type": "code",
   "execution_count": null,
   "id": "c62b54f6-6dbe-428a-babc-275deb1ceb07",
   "metadata": {},
   "outputs": [],
   "source": []
  },
  {
   "cell_type": "code",
   "execution_count": null,
   "id": "471e1a28-4ace-4b35-9217-03c225a1af67",
   "metadata": {},
   "outputs": [],
   "source": []
  },
  {
   "cell_type": "code",
   "execution_count": null,
   "id": "f6602321-4720-4970-a1f6-6f24bab57fad",
   "metadata": {},
   "outputs": [],
   "source": []
  },
  {
   "cell_type": "code",
   "execution_count": null,
   "id": "9470c4e8-b141-4d24-98e1-958718352408",
   "metadata": {},
   "outputs": [],
   "source": []
  },
  {
   "cell_type": "markdown",
   "id": "12ac622f",
   "metadata": {},
   "source": [
    "### Button\n",
    "\n",
    "Cú pháp:\n",
    "\n",
    "`<tên đối tượng> = Label(<cửa số>,text = <nội dung>)`\n",
    "\n",
    "##### Lưu ý, ta cần dùng lệnh `<tên đối tượng>.pack()` để Button có thể hiển thị lên cửa sổ\n",
    "\n",
    "<b> Hãy thêm một đối tượng Button vào cửa sổ: </b>"
   ]
  },
  {
   "cell_type": "code",
   "execution_count": 29,
   "id": "e6b93091",
   "metadata": {},
   "outputs": [],
   "source": [
    "from tkinter import *\n",
    "cuaso = Tk()\n",
    "cuaso.title(\"đây là app tôi viết\")\n",
    "cuaso.geometry(\"500x500\")\n",
    "\n",
    "def nhan_nut_1():\n",
    "    #print(\"helloooo\")\n",
    "    button_1.config(bg= \"white\")\n",
    "button_1 = Button(cuaso,text=\"đây là label\",bg=\"blue\", fg=\"yellow\", width=100, command=nhan_nut_1)\n",
    "button_1.pack()\n",
    "\n",
    "button_2 = Button(cuaso,text=\"đây là label 2\")\n",
    "button_2.pack()\n",
    "\n",
    "cuaso.mainloop()"
   ]
  },
  {
   "cell_type": "code",
   "execution_count": null,
   "id": "1ebe369e-f3b4-449c-9b1d-aacb97d16589",
   "metadata": {},
   "outputs": [],
   "source": []
  },
  {
   "cell_type": "code",
   "execution_count": 34,
   "id": "98afba45-cc8f-4ea4-89ed-896b4b0af19d",
   "metadata": {
    "scrolled": true
   },
   "outputs": [
    {
     "name": "stderr",
     "output_type": "stream",
     "text": [
      "Exception in Tkinter callback\n",
      "Traceback (most recent call last):\n",
      "  File \"C:\\Users\\Vuong\\AppData\\Local\\Programs\\Python\\Python312\\Lib\\tkinter\\__init__.py\", line 1968, in __call__\n",
      "    return self.func(*args)\n",
      "           ^^^^^^^^^^^^^^^^\n",
      "  File \"C:\\Users\\Vuong\\AppData\\Local\\Temp\\ipykernel_32352\\767156117.py\", line 15, in nhan_nut_1\n",
      "    label_1.config(bg=\"blue\")\n",
      "  File \"C:\\Users\\Vuong\\AppData\\Local\\Programs\\Python\\Python312\\Lib\\tkinter\\__init__.py\", line 1722, in configure\n",
      "    return self._configure('configure', cnf, kw)\n",
      "           ^^^^^^^^^^^^^^^^^^^^^^^^^^^^^^^^^^^^^\n",
      "  File \"C:\\Users\\Vuong\\AppData\\Local\\Programs\\Python\\Python312\\Lib\\tkinter\\__init__.py\", line 1712, in _configure\n",
      "    self.tk.call(_flatten((self._w, cmd)) + self._options(cnf))\n",
      "_tkinter.TclError: invalid command name \".!label\"\n",
      "Exception in Tkinter callback\n",
      "Traceback (most recent call last):\n",
      "  File \"C:\\Users\\Vuong\\AppData\\Local\\Programs\\Python\\Python312\\Lib\\tkinter\\__init__.py\", line 1968, in __call__\n",
      "    return self.func(*args)\n",
      "           ^^^^^^^^^^^^^^^^\n",
      "  File \"C:\\Users\\Vuong\\AppData\\Local\\Temp\\ipykernel_32352\\767156117.py\", line 17, in nhan_nut_1\n",
      "    label_1.config(bg=\"green\")\n",
      "  File \"C:\\Users\\Vuong\\AppData\\Local\\Programs\\Python\\Python312\\Lib\\tkinter\\__init__.py\", line 1722, in configure\n",
      "    return self._configure('configure', cnf, kw)\n",
      "           ^^^^^^^^^^^^^^^^^^^^^^^^^^^^^^^^^^^^^\n",
      "  File \"C:\\Users\\Vuong\\AppData\\Local\\Programs\\Python\\Python312\\Lib\\tkinter\\__init__.py\", line 1712, in _configure\n",
      "    self.tk.call(_flatten((self._w, cmd)) + self._options(cnf))\n",
      "_tkinter.TclError: invalid command name \".!label\"\n",
      "Exception in Tkinter callback\n",
      "Traceback (most recent call last):\n",
      "  File \"C:\\Users\\Vuong\\AppData\\Local\\Programs\\Python\\Python312\\Lib\\tkinter\\__init__.py\", line 1968, in __call__\n",
      "    return self.func(*args)\n",
      "           ^^^^^^^^^^^^^^^^\n",
      "  File \"C:\\Users\\Vuong\\AppData\\Local\\Temp\\ipykernel_32352\\767156117.py\", line 17, in nhan_nut_1\n",
      "    label_1.config(bg=\"green\")\n",
      "  File \"C:\\Users\\Vuong\\AppData\\Local\\Programs\\Python\\Python312\\Lib\\tkinter\\__init__.py\", line 1722, in configure\n",
      "    return self._configure('configure', cnf, kw)\n",
      "           ^^^^^^^^^^^^^^^^^^^^^^^^^^^^^^^^^^^^^\n",
      "  File \"C:\\Users\\Vuong\\AppData\\Local\\Programs\\Python\\Python312\\Lib\\tkinter\\__init__.py\", line 1712, in _configure\n",
      "    self.tk.call(_flatten((self._w, cmd)) + self._options(cnf))\n",
      "_tkinter.TclError: invalid command name \".!label\"\n",
      "Exception in Tkinter callback\n",
      "Traceback (most recent call last):\n",
      "  File \"C:\\Users\\Vuong\\AppData\\Local\\Programs\\Python\\Python312\\Lib\\tkinter\\__init__.py\", line 1968, in __call__\n",
      "    return self.func(*args)\n",
      "           ^^^^^^^^^^^^^^^^\n",
      "  File \"C:\\Users\\Vuong\\AppData\\Local\\Temp\\ipykernel_32352\\767156117.py\", line 17, in nhan_nut_1\n",
      "    label_1.config(bg=\"green\")\n",
      "  File \"C:\\Users\\Vuong\\AppData\\Local\\Programs\\Python\\Python312\\Lib\\tkinter\\__init__.py\", line 1722, in configure\n",
      "    return self._configure('configure', cnf, kw)\n",
      "           ^^^^^^^^^^^^^^^^^^^^^^^^^^^^^^^^^^^^^\n",
      "  File \"C:\\Users\\Vuong\\AppData\\Local\\Programs\\Python\\Python312\\Lib\\tkinter\\__init__.py\", line 1712, in _configure\n",
      "    self.tk.call(_flatten((self._w, cmd)) + self._options(cnf))\n",
      "_tkinter.TclError: invalid command name \".!label\"\n"
     ]
    }
   ],
   "source": [
    "from tkinter import *\n",
    "cuaso = Tk()\n",
    "cuaso.title(\"đây là app tôi viết\")\n",
    "cuaso.geometry(\"500x500\")\n",
    "mau_xanh_la = True\n",
    "    \n",
    "def nhan_nut_1():\n",
    "    global mau_xanh_la \n",
    "    #print(\"helloooo\")\n",
    "    #button_1.config(bg= \"white\")\n",
    "    #khi click vào nút thì label 1 xanh lá qua xanh dương và ngược lại\n",
    "\n",
    "    if mau_xanh_la:\n",
    "        mau_xanh_la = False\n",
    "        label_1.config(bg=\"blue\")\n",
    "    else:\n",
    "        label_1.config(bg=\"green\")\n",
    "        mau_xanh_la = True \n",
    "        \n",
    "button_1 = Button(cuaso,text=\"đây là label\",bg=\"blue\", fg=\"yellow\", width=100, command=nhan_nut_1)\n",
    "button_1.pack()\n",
    "\n",
    "button_2 = Button(cuaso,text=\"đây là label 2\")\n",
    "button_2.pack()\n",
    "\n",
    "cuaso.mainloop()"
   ]
  },
  {
   "cell_type": "code",
   "execution_count": null,
   "id": "3c606911-27f6-466b-a19e-c3bedc58cdd1",
   "metadata": {},
   "outputs": [],
   "source": []
  },
  {
   "cell_type": "code",
   "execution_count": null,
   "id": "cc40dadd-fc16-490a-851a-3e9f723cee62",
   "metadata": {},
   "outputs": [],
   "source": []
  },
  {
   "cell_type": "code",
   "execution_count": null,
   "id": "5b2f7e1c-f181-43c4-9ae4-06a00e12e978",
   "metadata": {},
   "outputs": [],
   "source": []
  },
  {
   "cell_type": "code",
   "execution_count": null,
   "id": "2ecf03db-f066-4733-8ad5-5c693230563d",
   "metadata": {},
   "outputs": [],
   "source": []
  },
  {
   "cell_type": "code",
   "execution_count": null,
   "id": "e3a50908-20c6-4201-be8c-3912cf06a56e",
   "metadata": {},
   "outputs": [],
   "source": []
  },
  {
   "cell_type": "code",
   "execution_count": null,
   "id": "1203e1d2-4a0e-4990-a49f-6ec89d045011",
   "metadata": {},
   "outputs": [],
   "source": []
  },
  {
   "cell_type": "markdown",
   "id": "ebe86e9e",
   "metadata": {},
   "source": [
    "### Entry\n",
    "\n",
    "Cú pháp:\n",
    "\n",
    "`<tên đối tượng> = Entry(<cửa số>,text = <nội dung>)`\n",
    "\n",
    "##### Lưu ý, ta cần dùng lệnh `<tên đối tượng>.pack()` để Entry có thể hiển thị lên cửa sổ\n",
    "\n",
    "<b> Hãy thêm một đối tượng Entry vào cửa sổ: </b>"
   ]
  },
  {
   "cell_type": "code",
   "execution_count": 35,
   "id": "fadee207",
   "metadata": {},
   "outputs": [],
   "source": [
    "from tkinter import *\n",
    "cuaso = Tk()\n",
    "cuaso.title(\"đây là app tôi viết\")\n",
    "cuaso.geometry(\"500x500\")\n",
    "\n",
    "#Khi người dùng nhập C0624L1 và click nút -> hiển thị ok lên label_1 với màu xanh lá\n",
    "#Khi người dùng nhập không đúng C0624L1 và click nút -> hiển thị error lên label_1 với màu đỏ\n",
    "\n",
    "def nhan_nut_1():\n",
    "    \n",
    "    print(entry_string_var.get())\n",
    "    label_1.config(text=\"ok\")\n",
    "\n",
    "entry_string_var = StringVar()\n",
    "entry_1 = Entry(cuaso, font-(\"Arial\", 16, \"bold\"),textvariable=entry_string_var)\n",
    "entry_1.pack()\n",
    "\n",
    "button_1 = Button(cuaso,text=\"đây là button\",bg=\"blue\", fg=\"yellow\", width=100, command=nhan_nut_1)\n",
    "button_1.pack()\n",
    "\n",
    "label_1 = Label(cuaso,text=\"đây là label\",bg=\"blue\", fg=\"yellow\", width=100)\n",
    "label_1.pack()\n",
    "\n",
    "cuaso.mainloop()"
   ]
  },
  {
   "cell_type": "code",
   "execution_count": null,
   "id": "bd87a15c-a2ee-4675-a972-0aecc8ec7af1",
   "metadata": {},
   "outputs": [],
   "source": []
  },
  {
   "cell_type": "markdown",
   "id": "97038368",
   "metadata": {},
   "source": [
    "### pack()\n",
    "\n",
    "Lệnh `pack()` sẽ giúp sắp xếp các đối tượng theo thứ tự nhất định\n",
    "\n",
    "pack() có các tham số:\n",
    "\n",
    "- <b>expand</b>:  Tùy chọn này sẽ quyết định các widget có được mở rộng để lấp đầy bất kì khoảng trống thừa trong tống thể hình học hay không. Nó có các giá trị Boolean, True hoặc False, giá trị mặc định là False\n",
    "- <b>fill</b>: Nó được sử dụng để lấp đầy các khoảng trống thừa . Giá trị mặc định là NONE, và có giá định khác như X (lấp theo chiều ngang) , Y(lấp theo chiều dọc) hoặc BOTH (lấp theo chiều ngang và dọc)\n",
    "- <b>side</b>: Được sử dụng để chỉ hướng mặt của widget được đóng gói bên trong cửa sổ , có các giá trị TOP(mặc định) ,BOTTOM, LEFT hoặc RIGHT"
   ]
  },
  {
   "attachments": {
    "image.png": {
     "image/png": "[encoded data removed]"
    }
   },
   "cell_type": "markdown",
   "id": "76d95ede",
   "metadata": {},
   "source": [
    "<b>Hãy ứng dụng lệnh pack() để xây dựng cửa sổ sau:</b>\n",
    "\n",
    "![image.png](attachment:image.png)"
   ]
  },
  {
   "cell_type": "code",
   "execution_count": 37,
   "id": "27d2610f",
   "metadata": {},
   "outputs": [],
   "source": [
    "from tkinter import *\n",
    "\n",
    "cua_so = Tk()\n",
    "\n",
    "cua_so.title(\"Đây là một phần mềm tui viết\")\n",
    "cua_so.geometry(\"400x400\")\n",
    "\n",
    "title_label = Label(cua_so,text=\"Please enter email and password to login\")\n",
    "title_label.pack()\n",
    "\n",
    "username_label = Label(cua_so,text=\"Username\")\n",
    "username_label.pack()\n",
    "\n",
    "username_entry = Entry(cua_so)\n",
    "username_entry.pack()\n",
    "\n",
    "password_label = Label(cua_so,text=\"Password\")\n",
    "password_label.pack()\n",
    "\n",
    "password_entry = Entry(cua_so)\n",
    "password_entry.pack()\n",
    "\n",
    "login_button = Button(cua_so,text=\"Login\")\n",
    "login_button.pack()\n",
    "\n",
    "cua_so.mainloop()"
   ]
  },
  {
   "cell_type": "code",
   "execution_count": null,
   "id": "330d1e95-07e2-4e79-8763-140df52c7f1b",
   "metadata": {},
   "outputs": [],
   "source": []
  },
  {
   "cell_type": "code",
   "execution_count": 25,
   "id": "1daf4344-6be9-410b-8a6c-e3c75c974658",
   "metadata": {},
   "outputs": [
    {
     "name": "stdout",
     "output_type": "stream",
     "text": [
      "line admin,admin123\n",
      "line guest,123\n",
      "line admin,admin123\n",
      "line admin,1234\n",
      "line admin,as\n",
      "line ['admin', 'admin123']\n",
      "line ['guest', '123']\n",
      "line ['admin', 'admin123']\n",
      "line ['admin', '1234']\n",
      "line ['admin', 'as']\n"
     ]
    }
   ],
   "source": [
    "from tkinter import *\n",
    "\n",
    "cua_so = Tk()\n",
    "def doc_username():\n",
    "    f = open(\"user.csv\") \n",
    "    tieude= f.readline()\n",
    "    noidung= f.readlines() #nội dung là List\n",
    "    L_username = []\n",
    "\n",
    "    for line in noidung:\n",
    "        line = line[:-1] #bỏ đi \\n ở cuối dòng\n",
    "        #line=line.split(\",\") #cắt chuỗi thành 1 list với mỗi phần tử cách nhau = dấu phẩy\n",
    "        L_username.append(line[0])\n",
    "        print(\"line\", line)\n",
    "    f.close()\n",
    "    return L_username\n",
    "    \n",
    "\n",
    "def doc_pass():\n",
    "    f = open(\"user.csv\") \n",
    "    tieude= f.readline()\n",
    "    noidung= f.readlines() #nội dung là List\n",
    "    L_pass = []\n",
    "\n",
    "    for line in noidung:\n",
    "        line = line[:-1] #bỏ đi \\n ở cuối dòng\n",
    "        line=line.split(\",\") #cắt chuỗi thành 1 list với mỗi phần tử cách nhau = dấu phẩy\n",
    "        L_pass.append(line[1])\n",
    "        print(\"line\", line)\n",
    "    f.close()\n",
    "    return L_pass\n",
    "L_username = doc_username()    \n",
    "L_pass = doc_pass()\n",
    "\n",
    "\n",
    "def nhan_nut_1():\n",
    "    if (entry_string_var_1.get() == \"ADMIN\") and (entry_string_var_2.get() == \"HELLO\"):\n",
    "        label_1.config(text = \"OKAY\", fg = \"green\")\n",
    "    else:\n",
    "        label_1.config(text = \"nhập lại\", fg = \"red\")\n",
    "cua_so.title(\"Đây là một phần mềm tui viết\")\n",
    "cua_so.geometry(\"400x400\")\n",
    "\n",
    "title_label = Label(cua_so,text=\"Please enter email and password to login\")\n",
    "title_label.grid(column = 2, row = 1)\n",
    "\n",
    "username_label = Label(cua_so,text=\"Username\")\n",
    "username_label.grid(column = 1, row = 2)\n",
    "\n",
    "entry_string_var_1 = StringVar()\n",
    "username_entry = Entry(cua_so, textvariable=entry_string_var_1)\n",
    "username_entry.grid(column = 2, row = 2)\n",
    "\n",
    "password_label = Label(cua_so,text=\"Password\")\n",
    "password_label.grid(column = 1, row = 3)\n",
    "\n",
    "entry_string_var_2 = StringVar()\n",
    "password_entry = Entry(cua_so,show = \"*\", textvariable=entry_string_var_2)\n",
    "password_entry.grid(column = 2, row = 3)\n",
    "\n",
    "login_button = Button(cua_so,text=\"Login\", command= nhan_nut_1)\n",
    "login_button.grid(column = 2, row = 4)\n",
    "\n",
    "label_1 = Label(cua_so,text=\"\", font = (\"Arial\", 16, \"bold\"))\n",
    "label_1.grid(column = 2, row = 5)\n",
    "\n",
    "cua_so.mainloop()"
   ]
  },
  {
   "cell_type": "code",
   "execution_count": null,
   "id": "e97e2f3b-f66d-46f6-95a3-112c6dfdf3f9",
   "metadata": {},
   "outputs": [],
   "source": []
  },
  {
   "cell_type": "code",
   "execution_count": null,
   "id": "3dd96c8c-a007-4546-a199-7e55fe80bd87",
   "metadata": {},
   "outputs": [],
   "source": []
  },
  {
   "cell_type": "code",
   "execution_count": null,
   "id": "b70ebf9a-8767-402c-955e-97e0b70f8c89",
   "metadata": {},
   "outputs": [],
   "source": []
  },
  {
   "cell_type": "markdown",
   "id": "22e11c16",
   "metadata": {},
   "source": [
    "### pack()\n",
    "\n",
    "Lệnh `grid()` sẽ giúp sắp xếp các đối tượng theo một bảng\n",
    "\n",
    "grid() có các tham số:\n",
    "\n",
    "- column : Tùy chọn này chỉ định số cột mà widget sẽ được đặt. Giá trị mặc định là 0\n",
    "- columnspan:  Dùng chỉ định số lượng cột mà widget sẽ được mở rộng\n",
    "- row: Tùy chọn này chỉ định số hàng cho widget sẽ được đặt .  Giá trị mặc định là 0\n",
    "- rowspan: Dùng chỉ định số lượng hàng mà widget sẽ được mở rộng\n",
    "- padx, pady: Dùng thể hiện pixel của padding được thêm vào bên ngoài đường viền widget . padx,  là phần padding theo chiều ngang, còn pady là phần padding theo chiều dọc.\n",
    "- ipadx, ipady : Dùng thể hiện pixel của padding được thêm vào bên trong đường viền widget. ipadx,  là phần padding theo chiều ngang, còn ipady là phần padding theo chiều dọc.\n",
    "- sticky : Được sử dụng trong điều kiện ô lớn hơn widget, được sử dụng chỉ định vị trí của widget bên trong ô. Nếu không sử dụng sticky, thì widget mặc định đặt ở giữa ô. Sticky có thể có các giá trị như N, E, S, W, NE, NW, SE & SW."
   ]
  },
  {
   "attachments": {
    "image.png": {
     "image/png": "[encoded data removed]"
    }
   },
   "cell_type": "markdown",
   "id": "80da0d3e",
   "metadata": {},
   "source": [
    "<b>Hãy ứng dụng lệnh grid() để xây dựng cửa sổ sau:</b>\n",
    "\n",
    "![image.png](attachment:image.png)"
   ]
  },
  {
   "cell_type": "code",
   "execution_count": 22,
   "id": "166d9f77",
   "metadata": {},
   "outputs": [
    {
     "name": "stdout",
     "output_type": "stream",
     "text": [
      "Đăng nhập...\n"
     ]
    }
   ],
   "source": [
    "import tkinter as tk\n",
    "\n",
    "# Tạo một cửa sổ chính\n",
    "root = tk.Tk()\n",
    "root.title(\"Đăng Nhập\")\n",
    "\n",
    "# Tạo các widget\n",
    "label_username = tk.Label(root, text=\"Tên đăng nhập:\")\n",
    "entry_username = tk.Entry(root)\n",
    "label_password = tk.Label(root, text=\"Mật khẩu:\")\n",
    "entry_password = tk.Entry(root, show='*')\n",
    "login_button = tk.Button(root, text=\"Đăng Nhập\", command=lambda: print(\"Đăng nhập...\"))\n",
    "\n",
    "# Sử dụng grid() để sắp xếp các widget\n",
    "label_username.grid(row=0, column=0, padx=10, pady=5, sticky='e')\n",
    "entry_username.grid(row=0, column=1, padx=10, pady=5, sticky='w')\n",
    "label_password.grid(row=1, column=0, padx=10, pady=5, sticky='e')\n",
    "entry_password.grid(row=1, column=1, padx=10, pady=5, sticky='w')\n",
    "login_button.grid(row=2, column=0, columnspan=2, pady=10)\n",
    "\n",
    "# Chạy vòng lặp chính của Tkinter\n",
    "root.mainloop()\n"
   ]
  },
  {
   "cell_type": "code",
   "execution_count": null,
   "id": "a64e0ddb-aab3-4ebd-8442-3e0533198361",
   "metadata": {},
   "outputs": [],
   "source": []
  },
  {
   "cell_type": "code",
   "execution_count": null,
   "id": "9e16b860-a827-4346-a657-7ec6177dc87e",
   "metadata": {},
   "outputs": [],
   "source": []
  },
  {
   "cell_type": "code",
   "execution_count": 21,
   "id": "68812c7a-0293-4ca6-a046-56fe1e11a62b",
   "metadata": {},
   "outputs": [],
   "source": [
    "from tkinter import*\n",
    "cuaso = Tk()\n",
    "\n",
    "def nhan_nut_1():\n",
    "    print(entry_string_var_1.get())\n",
    "    if (entry_string_var_1.get() == \"admin\"):\n",
    "        label_1.config(text = \"ok\", fg = \"green\")\n",
    "    else:\n",
    "        label_1.config(text = \"nhập lại username\", fg=\"red\")\n",
    "\n",
    "    if (entry_string_var_2.get() == \"hello\"):\n",
    "        label_1.config(text = \"ok\", fg = \"green\")\n",
    "    else:\n",
    "        label_1.config(text = \"nhập lại username\", fg=\"red\")"
   ]
  },
  {
   "cell_type": "code",
   "execution_count": null,
   "id": "b464e483-ba9f-4b9d-a3ff-89c8dd26aa22",
   "metadata": {},
   "outputs": [],
   "source": []
  },
  {
   "cell_type": "code",
   "execution_count": null,
   "id": "37beb4d1-c57b-4705-98f9-cffbe551d571",
   "metadata": {},
   "outputs": [],
   "source": []
  },
  {
   "cell_type": "code",
   "execution_count": null,
   "id": "6e8dee72-b57f-4956-be03-55dae4c7fa47",
   "metadata": {},
   "outputs": [],
   "source": []
  },
  {
   "cell_type": "code",
   "execution_count": null,
   "id": "9f2ec203-aa93-4a2d-b4be-93798718c948",
   "metadata": {},
   "outputs": [],
   "source": []
  },
  {
   "cell_type": "code",
   "execution_count": null,
   "id": "3721c585-4c08-4d3a-b31b-09e019063bc9",
   "metadata": {},
   "outputs": [],
   "source": []
  },
  {
   "cell_type": "markdown",
   "id": "c42c2771",
   "metadata": {},
   "source": [
    "<b>Lập trình cho ứng dụng trên hoạt động:</b>"
   ]
  },
  {
   "cell_type": "code",
   "execution_count": null,
   "id": "e44682d9-4f95-407e-b7c9-1723591367e6",
   "metadata": {},
   "outputs": [
    {
     "name": "stdout",
     "output_type": "stream",
     "text": [
      "\n",
      "\n",
      "\n",
      "\n",
      "\n",
      "\n"
     ]
    }
   ],
   "source": [
    "from tkinter import *\n",
    "\n",
    "cua_so = Tk()\n",
    "\n",
    "def nhan_nut_1():\n",
    "    print(entry_string_var_1.get())\n",
    "    print(entry_string_var_2.get())\n",
    "    if (entry_string_var_1.get() == \"ADMIN\") and (entry_string_var_2.get() == \"HELLO\"):\n",
    "        label_1.config(text = \"OKAY\", fg = \"green\")\n",
    "    else:\n",
    "        label_1.config(text = \"nhập lại\", fg = \"red\")\n",
    "cua_so.title(\"Đây là một phần mềm tui viết\")\n",
    "cua_so.geometry(\"400x400\")\n",
    "\n",
    "title_label = Label(cua_so,text=\"Please enter email and password to login\")\n",
    "title_label.grid(column = 2, row = 1)\n",
    "\n",
    "username_label = Label(cua_so,text=\"Username\")\n",
    "username_label.grid(column = 1, row = 2)\n",
    "\n",
    "entry_string_var_1 = StringVar()\n",
    "username_entry = Entry(cua_so, textvariable=entry_string_var_1)\n",
    "username_entry.grid(column = 2, row = 2)\n",
    "\n",
    "password_label = Label(cua_so,text=\"Password\")\n",
    "password_label.grid(column = 1, row = 3)\n",
    "\n",
    "entry_string_var_2 = StringVar()\n",
    "password_entry = Entry(cua_so,show = \"*\", textvariable=entry_string_var_2)\n",
    "password_entry.grid(column = 2, row = 3)\n",
    "\n",
    "login_button = Button(cua_so,text=\"Login\", command= nhan_nut_1)\n",
    "login_button.grid(column = 2, row = 4)\n",
    "\n",
    "label_1 = Label(cua_so,text=\"\", font = (\"Arial\", 16, \"bold\"))\n",
    "label_1.grid(column = 2, row = 5)\n",
    "\n",
    "cua_so.mainloop()\n"
   ]
  },
  {
   "cell_type": "code",
   "execution_count": 8,
   "id": "79449ecf-a79f-4843-ac23-b1d247a58e05",
   "metadata": {},
   "outputs": [
    {
     "name": "stdout",
     "output_type": "stream",
     "text": [
      "data.txt\n",
      "helu\n"
     ]
    }
   ],
   "source": [
    "f = open(\"data.txt\") #khi k khai báo 1 chế độ cụ thể, khi mở file, mặc định sẽ là đọc\n",
    "#f là đối tượng tượng trưng cho file\n",
    "a = f.read()\n",
    "print(f.name)\n",
    "print(a)\n",
    "f.close()"
   ]
  },
  {
   "cell_type": "code",
   "execution_count": null,
   "id": "757bb1a7-a52d-49b2-85e4-59fa3b52b3fd",
   "metadata": {},
   "outputs": [],
   "source": []
  },
  {
   "cell_type": "code",
   "execution_count": 13,
   "id": "2e1cf93f-615a-4244-b266-8e6a847de3cb",
   "metadata": {},
   "outputs": [],
   "source": [
    "f = open(\"data.txt\",\"w\", encoding=\"utf-8\") \n",
    "#chế độ write, mở ghi lại từ đầu\n",
    "#khi mở file chế độ này, thì nội dung sẽ bị xóa hết và ghi lại từ đầu\n",
    "f.write(\"chào chào mới\")\n",
    "f.close()"
   ]
  },
  {
   "cell_type": "code",
   "execution_count": null,
   "id": "82d3ea59-11d8-4db0-8022-8b10c954964b",
   "metadata": {},
   "outputs": [],
   "source": []
  },
  {
   "cell_type": "code",
   "execution_count": null,
   "id": "aeb2a7ab-7a85-4631-9f4b-1da487094c05",
   "metadata": {},
   "outputs": [],
   "source": [
    "f = open(\"data.txt\",\"w\", encoding=\"utf-8\") \n",
    "#chế độ a là chế độ append\n",
    "#khi dùng chế độ này để mở file thì toàn bộ giữ nguyên, k bị mất\n",
    "f.write(\"chào chào mới 2024\")\n",
    "f.close()"
   ]
  },
  {
   "cell_type": "code",
   "execution_count": null,
   "id": "27658295-9574-4792-8b59-e17945a61e88",
   "metadata": {},
   "outputs": [],
   "source": []
  },
  {
   "cell_type": "code",
   "execution_count": 10,
   "id": "1c9d9ae9-4536-4fa0-9144-10dd460d0f03",
   "metadata": {},
   "outputs": [],
   "source": [
    "f = open(\"data.txt\",\"a\", encoding=\"utf-8\") \n",
    "#chế độ a là chế độ append\n",
    "#khi dùng chế độ này để mở file thì toàn bộ giữ nguyên, k bị mất\n",
    "f.write(\"chào chào mới 2025\")\n",
    "f.close()"
   ]
  },
  {
   "cell_type": "code",
   "execution_count": null,
   "id": "80fb554f-0080-4035-82d8-78f0681cd64b",
   "metadata": {},
   "outputs": [],
   "source": []
  },
  {
   "cell_type": "code",
   "execution_count": 2,
   "id": "38267324-65fa-4949-9cbc-7d065e5e1635",
   "metadata": {},
   "outputs": [
    {
     "name": "stdout",
     "output_type": "stream",
     "text": [
      "username,pass,email\n",
      "admin,adminadmin 1,admin 1a,q\n",
      "\n"
     ]
    }
   ],
   "source": [
    "#đuôi csv -> coma seperated value\n",
    "#username, pass, mail\n",
    "\n",
    "f = open(\"user.csv\") \n",
    "a = f.read()\n",
    "print(a)\n",
    "f.close()"
   ]
  },
  {
   "cell_type": "code",
   "execution_count": null,
   "id": "e9893dd6-385b-4b3c-ba99-f2fd6ef8a9ff",
   "metadata": {},
   "outputs": [],
   "source": [
    "#iu cầu user nhập user, pass, sau khi nhập thì lưu vào trong file user.csv\n",
    "username = input(\"nhập username:\")\n",
    "password = input(\"nhập pass:\")\n",
    "L_username = doc_username()\n",
    "f = open(\"user.csv\",\"a\") \n",
    "a = f.write(username+\",\"+password+\"\\n\")\n",
    "\n",
    "f.close()"
   ]
  },
  {
   "cell_type": "code",
   "execution_count": null,
   "id": "f0d5fae3-8cac-4332-8340-1d5e728cdd4a",
   "metadata": {},
   "outputs": [],
   "source": []
  },
  {
   "cell_type": "code",
   "execution_count": 24,
   "id": "81b1aa12-0300-4a5f-acca-b06fde557cd4",
   "metadata": {},
   "outputs": [
    {
     "name": "stdin",
     "output_type": "stream",
     "text": [
      "nhập username: admin\n",
      "nhập pass: as\n"
     ]
    },
    {
     "name": "stdout",
     "output_type": "stream",
     "text": [
      "line ['admin', 'admin123']\n",
      "line ['guest', '123']\n",
      "line ['admin', 'admin123']\n",
      "line ['admin', '1234']\n"
     ]
    }
   ],
   "source": [
    "#iu cầu user nhập user, pass, sau khi nhập thì lưu vào trong file user.csv\n",
    "username = input(\"nhập username:\")\n",
    "password = input(\"nhập pass:\")\n",
    "\n",
    "def doc_username():\n",
    "    f = open(\"user.csv\") \n",
    "    tieude= f.readline()\n",
    "    noidung= f.readlines() #nội dung là List\n",
    "    L_username = []\n",
    "\n",
    "    for line in noidung:\n",
    "        line = line[:-1] #bỏ đi \\n ở cuối dòng\n",
    "        line=line.split(\",\") #cắt chuỗi thành 1 list với mỗi phần tử cách nhau = dấu phẩy\n",
    "        L_username.append(line[1])\n",
    "        print(\"line\", line)\n",
    "    f.close()\n",
    "    return L_username\n",
    "    \n",
    "L_username = doc_username()\n",
    "f = open(\"user.csv\",\"a\") \n",
    "if username in L_username:\n",
    "    print(\"user đã tồn tại\")\n",
    "\n",
    "a = f.write(username+\",\"+password+\"\\n\")\n",
    "\n",
    "f.close()\n",
    "\n",
    "\n",
    "\n",
    "\n",
    "\n"
   ]
  },
  {
   "cell_type": "code",
   "execution_count": null,
   "id": "dd83858c-04fc-4ea5-9d7d-d2c737cf10c7",
   "metadata": {},
   "outputs": [],
   "source": []
  },
  {
   "cell_type": "code",
   "execution_count": null,
   "id": "548ad8db-8a3a-4db6-986b-ab9abad4ba11",
   "metadata": {},
   "outputs": [],
   "source": []
  },
  {
   "cell_type": "code",
   "execution_count": null,
   "id": "29d93ebb-4779-4d5a-8a7e-c9f693a59821",
   "metadata": {},
   "outputs": [],
   "source": []
  },
  {
   "cell_type": "code",
   "execution_count": null,
   "id": "0c964269-fb73-4cb7-b574-0c70f80fb466",
   "metadata": {},
   "outputs": [],
   "source": []
  },
  {
   "cell_type": "code",
   "execution_count": 20,
   "id": "6c1fbf63-c4b6-4d69-9b4a-d23d7e54b136",
   "metadata": {},
   "outputs": [
    {
     "name": "stdout",
     "output_type": "stream",
     "text": [
      "line admin,admin123\n",
      "line guest,123\n",
      "line admin,admin123\n"
     ]
    }
   ],
   "source": [
    "#đọc ra username\n",
    "#viết hàm để lấy ds username\n",
    "\n",
    "def doc_username():\n",
    "    f = open(\"user.csv\") \n",
    "    tieude= f.readline()\n",
    "    noidung= f.readlines() #nội dung là List\n",
    "    L_username = []\n",
    "\n",
    "    for line in noidung:\n",
    "        line = line[:-1] #bỏ đi \\n ở cuối dòng\n",
    "        #line=line.split(\",\") #cắt chuỗi thành 1 list với mỗi phần tử cách nhau = dấu phẩy\n",
    "        L_username.append(line[0])\n",
    "        print(\"line\", line)\n",
    "    f.close()\n",
    "    return L_username\n",
    "    \n",
    "L_username = doc_username()\n",
    "\n"
   ]
  },
  {
   "cell_type": "code",
   "execution_count": null,
   "id": "4abd1c96-85d7-4162-9457-ce39d95d4cde",
   "metadata": {},
   "outputs": [],
   "source": []
  },
  {
   "cell_type": "code",
   "execution_count": null,
   "id": "8c2dc054-2da3-4ee6-a1b6-b17e7f3dd02f",
   "metadata": {},
   "outputs": [],
   "source": []
  },
  {
   "cell_type": "code",
   "execution_count": null,
   "id": "7b20ae12-568a-45bb-9e00-0aea4190fa7e",
   "metadata": {},
   "outputs": [],
   "source": []
  },
  {
   "cell_type": "code",
   "execution_count": 18,
   "id": "ee2a888c-53c5-4457-a505-c7670434c95a",
   "metadata": {},
   "outputs": [
    {
     "name": "stdout",
     "output_type": "stream",
     "text": [
      "line ['admin', 'admin123']\n",
      "line ['guest', '123']\n"
     ]
    }
   ],
   "source": [
    "def doc_pass():\n",
    "    f = open(\"user.csv\") \n",
    "    tieude= f.readline()\n",
    "    noidung= f.readlines() #nội dung là List\n",
    "    L_pass = []\n",
    "\n",
    "    for line in noidung:\n",
    "        line = line[:-1] #bỏ đi \\n ở cuối dòng\n",
    "        line=line.split(\",\") #cắt chuỗi thành 1 list với mỗi phần tử cách nhau = dấu phẩy\n",
    "        L_pass.append(line[1])\n",
    "        print(\"line\", line)\n",
    "    f.close()\n",
    "    return L_pass\n",
    "    \n",
    "L_pass = doc_pass()"
   ]
  },
  {
   "cell_type": "code",
   "execution_count": null,
   "id": "d2db4aaa-4fd4-4e4b-ae91-1b2c18ea6d75",
   "metadata": {},
   "outputs": [],
   "source": []
  },
  {
   "cell_type": "code",
   "execution_count": null,
   "id": "5e041593-a3df-4680-aa8b-c8d00891aa40",
   "metadata": {},
   "outputs": [],
   "source": []
  },
  {
   "cell_type": "code",
   "execution_count": null,
   "id": "242aa5ee-3384-45ad-90fa-fc9569372058",
   "metadata": {},
   "outputs": [],
   "source": []
  },
  {
   "cell_type": "code",
   "execution_count": null,
   "id": "e4993569-a60c-4d43-ba37-0b7bb8c9af27",
   "metadata": {},
   "outputs": [],
   "source": []
  },
  {
   "cell_type": "code",
   "execution_count": null,
   "id": "178e65a5-bf29-4d6a-9832-30ea88664c70",
   "metadata": {},
   "outputs": [],
   "source": []
  },
  {
   "cell_type": "code",
   "execution_count": null,
   "id": "8b4fb106-7cdf-4abc-980e-edf84826814e",
   "metadata": {},
   "outputs": [],
   "source": []
  },
  {
   "cell_type": "code",
   "execution_count": null,
   "id": "a89d29ef-1422-4eb4-b08d-b6e36659b186",
   "metadata": {},
   "outputs": [],
   "source": []
  },
  {
   "cell_type": "code",
   "execution_count": null,
   "id": "ed6989a9-4815-4bc3-b4b9-3a3e4ebf398c",
   "metadata": {},
   "outputs": [],
   "source": []
  },
  {
   "cell_type": "code",
   "execution_count": null,
   "id": "23ead64a-7d19-4429-baa1-ca731531205b",
   "metadata": {},
   "outputs": [],
   "source": []
  },
  {
   "cell_type": "code",
   "execution_count": null,
   "id": "f3aa9730-fbf4-418f-b070-2f2a302c3311",
   "metadata": {},
   "outputs": [],
   "source": []
  },
  {
   "cell_type": "code",
   "execution_count": null,
   "id": "1c849304-247b-4d3d-8989-49a2bee4e759",
   "metadata": {},
   "outputs": [],
   "source": []
  },
  {
   "cell_type": "code",
   "execution_count": 2,
   "id": "0e415cb3-7055-4152-8aa4-66d694dc5466",
   "metadata": {},
   "outputs": [
    {
     "name": "stdout",
     "output_type": "stream",
     "text": [
      "hello\n"
     ]
    }
   ],
   "source": [
    "print(\"hello\")"
   ]
  },
  {
   "cell_type": "code",
   "execution_count": null,
   "id": "deb2b4ae-190f-4ca1-822e-43f336f560b8",
   "metadata": {},
   "outputs": [],
   "source": []
  },
  {
   "cell_type": "code",
   "execution_count": null,
   "id": "3c3808cf-625c-4a81-9dc5-69d4f6068960",
   "metadata": {},
   "outputs": [],
   "source": []
  },
  {
   "cell_type": "code",
   "execution_count": null,
   "id": "9e8a8ca6-a933-4f39-939f-058817c1ae44",
   "metadata": {},
   "outputs": [],
   "source": []
  },
  {
   "cell_type": "code",
   "execution_count": 17,
   "id": "196a0855-89ed-4448-931a-f4dd2f0fba40",
   "metadata": {},
   "outputs": [],
   "source": [
    "#hàm đọc username\n",
    "def doc_username():\n",
    "    # Mở file CSV ở chế độ đọc\n",
    "    with open(\"user.csv\", \"r\") as f:\n",
    "        # Đọc tiêu đề (dòng đầu tiên)\n",
    "        tieude = f.readline().strip()\n",
    "        \n",
    "        # Đọc các dòng còn lại vào danh sách\n",
    "        noidung = f.readlines()\n",
    "    \n",
    "    # In tiêu đề\n",
    "    print(f\"Tiêu đề: {tieude}\")\n",
    "    \n",
    "    \n",
    "    # In nội dung\n",
    "    print(\"Nội dung:\")\n",
    "    "
   ]
  },
  {
   "cell_type": "code",
   "execution_count": null,
   "id": "cdcab1d6-845a-4a17-9b32-7429ede7721e",
   "metadata": {},
   "outputs": [],
   "source": []
  },
  {
   "cell_type": "code",
   "execution_count": null,
   "id": "2e5ea36d-5340-4968-a9db-8562a7c4931c",
   "metadata": {},
   "outputs": [],
   "source": []
  },
  {
   "cell_type": "code",
   "execution_count": null,
   "id": "b7b2c4d7-8935-4e61-92a2-5712ff42253c",
   "metadata": {},
   "outputs": [],
   "source": []
  },
  {
   "cell_type": "code",
   "execution_count": null,
   "id": "d73cda20-96d5-49cd-a263-a5e6a3c25677",
   "metadata": {},
   "outputs": [
    {
     "name": "stdout",
     "output_type": "stream",
     "text": [
      "Đăng nhập...\n"
     ]
    }
   ],
   "source": [
    "import tkinter as tk\n",
    "\n",
    "# Tạo một cửa sổ chính\n",
    "root = tk.Tk()\n",
    "root.title(\"Đăng Nhập\")\n",
    "\n",
    "# Tạo các widget\n",
    "label_username = tk.Label(root, text=\"Tên đăng nhập:\")\n",
    "entry_username = tk.Entry(root)\n",
    "label_password = tk.Label(root, text=\"Mật khẩu:\")\n",
    "entry_password = tk.Entry(root, show='*')\n",
    "login_button = tk.Button(root, text=\"Đăng Nhập\", command=lambda: print(\"Đăng nhập...\"))\n",
    "\n",
    "# Sử dụng grid() để sắp xếp các widget\n",
    "label_username.grid(row=0, column=0, padx=10, pady=5, sticky='e')\n",
    "entry_username.grid(row=0, column=1, padx=10, pady=5, sticky='w')\n",
    "label_password.grid(row=1, column=0, padx=10, pady=5, sticky='e')\n",
    "entry_password.grid(row=1, column=1, padx=10, pady=5, sticky='w')\n",
    "login_button.grid(row=2, column=0, columnspan=2, pady=10)\n",
    "\n",
    "# Chạy vòng lặp chính của Tkinter\n",
    "root.mainloop()\n",
    "f = open(\"user.csv\") \n",
    "a = f.write(entry_username)\n",
    "print(a)\n",
    "f.close()"
   ]
  },
  {
   "cell_type": "code",
   "execution_count": null,
   "id": "6ccae20a-d939-4e4c-8e2f-7824a79acfbf",
   "metadata": {},
   "outputs": [],
   "source": []
  },
  {
   "cell_type": "code",
   "execution_count": null,
   "id": "b112d0a9-7d67-4ac8-aca3-6aa6c41df35b",
   "metadata": {},
   "outputs": [],
   "source": []
  },
  {
   "cell_type": "code",
   "execution_count": null,
   "id": "39426a2e-ab9e-4e73-8925-42a99d63550e",
   "metadata": {},
   "outputs": [],
   "source": []
  },
  {
   "cell_type": "code",
   "execution_count": null,
   "id": "9f250aba-2564-4b2c-b13a-4ef2153afc75",
   "metadata": {},
   "outputs": [],
   "source": []
  },
  {
   "cell_type": "code",
   "execution_count": null,
   "id": "b26c4e31-179e-4306-a69c-d57298fe0178",
   "metadata": {},
   "outputs": [],
   "source": []
  },
  {
   "cell_type": "code",
   "execution_count": null,
   "id": "7d7161fb-52af-4cc7-bee7-f1ba5e217dc3",
   "metadata": {},
   "outputs": [],
   "source": []
  },
  {
   "cell_type": "code",
   "execution_count": null,
   "id": "c163850a-4e2f-44bd-ab51-806e4b093355",
   "metadata": {},
   "outputs": [],
   "source": []
  },
  {
   "cell_type": "code",
   "execution_count": null,
   "id": "7b3427af-93b2-413b-8219-089d2709643b",
   "metadata": {},
   "outputs": [],
   "source": []
  }
 ],
 "metadata": {
  "kernelspec": {
   "display_name": "Python 3 (ipykernel)",
   "language": "python",
   "name": "python3"
  },
  "language_info": {
   "codemirror_mode": {
    "name": "ipython",
    "version": 3
   },
   "file_extension": ".py",
   "mimetype": "text/x-python",
   "name": "python",
   "nbconvert_exporter": "python",
   "pygments_lexer": "ipython3",
   "version": "3.12.4"
  }
 },
 "nbformat": 4,
 "nbformat_minor": 5
}
