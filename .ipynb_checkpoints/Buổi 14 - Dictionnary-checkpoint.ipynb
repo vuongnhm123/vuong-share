{
 "cells": [
  {
   "cell_type": "markdown",
   "id": "a20f121d",
   "metadata": {},
   "source": [
    "# Dictionnary\n",
    "\n",
    "Dictionnary là một dạng list đặc biệt, nó khác list ở chỗ không lưu trữ các giá trị theo chỉ số vị trí, thay vào đó Dictionary sẽ lưu trữ các giá trị theo key\n",
    "\n",
    "##### Tài liệu tham khảo: https://www.w3schools.com/python/python_dictionaries.asp\n",
    "\n",
    "### Khai báo một dictionary\n",
    "\n",
    "Cú pháp:\n",
    "\n",
    "`<tên dictionary> = {}`\n",
    "\n",
    "### Dictionary được khai báo bằng hai dấu hoặc nhọn\n",
    "\n",
    "Đây là một dictionary rỗng\n",
    "\n",
    "<b>Ví dụ 1:</b>\n",
    "\n",
    "`a = {}`\n",
    "\n",
    "a là một dictionary rỗng\n",
    "\n",
    "<b>Ví dụ 2:</b>\n",
    "\n",
    "`a = {\"tên\": \"Nguyễn Tâm Điền\", \"tuổi\": 13, \"giới tính\": \"Nam\"}`\n",
    "\n",
    "b là một dictionary có 3 key, mõi key đều có một giá trị riêng biệt\n",
    "\n",
    "Key có thể mang kiểu dữ liệu là chuỗi hoặc số\n",
    "\n",
    "##### Mỗi một key đều phải có giá trị của riêng nó, không thể khai báo key không có giá trị\n",
    "\n",
    "<b>Hãy khai báo một dictionary có 3 phần tử</b>"
   ]
  },
  {
   "cell_type": "code",
   "execution_count": 1,
   "id": "d835f461",
   "metadata": {},
   "outputs": [
    {
     "name": "stdout",
     "output_type": "stream",
     "text": [
      "1\n"
     ]
    }
   ],
   "source": [
    "#L = [1,2,3]\n",
    "\n",
    "D = {\"a\":1,\"b\":2,\"c\":3}\n",
    "print(D[\"a\"])"
   ]
  },
  {
   "cell_type": "code",
   "execution_count": 5,
   "id": "5a1d5f34-74e6-4f8c-8476-86ba3db88cb1",
   "metadata": {},
   "outputs": [
    {
     "name": "stdout",
     "output_type": "stream",
     "text": [
      "a đã có trong D\n"
     ]
    }
   ],
   "source": [
    "#kiểm tra key\n",
    "D = {\"a\":1,\"b\":2,\"c\":3}\n",
    "b = \"a\"\n",
    "if b in D:\n",
    "    print(b, \"đã có trong D\")\n",
    "else:\n",
    "    print(b, \"không là 1 key của D\")\n",
    "    "
   ]
  },
  {
   "cell_type": "code",
   "execution_count": null,
   "id": "45f00b3f-bb8f-4865-8de8-284c6761e672",
   "metadata": {},
   "outputs": [],
   "source": []
  },
  {
   "cell_type": "code",
   "execution_count": null,
   "id": "3441981c-23b2-4503-b260-408067f53a4a",
   "metadata": {},
   "outputs": [],
   "source": []
  },
  {
   "cell_type": "code",
   "execution_count": null,
   "id": "5c7117ca-e336-4c6d-b58f-1dad44b9d9df",
   "metadata": {},
   "outputs": [],
   "source": []
  },
  {
   "cell_type": "code",
   "execution_count": null,
   "id": "14cd49b7-ca11-4d2e-9c48-d0bfac0e3c43",
   "metadata": {},
   "outputs": [],
   "source": []
  },
  {
   "cell_type": "markdown",
   "id": "be1e321c",
   "metadata": {},
   "source": [
    "### Thêm key vào dictionary\n",
    "\n",
    "Cú pháp:\n",
    "\n",
    "`<tên dictionary>[<key>] = <giá trị>`\n",
    "\n",
    "<b>Ví dụ 1:</b>\n",
    "\n",
    "```\n",
    "a = {}\n",
    "a[\"tên\"] = \"NTD\"\n",
    "```\n",
    "\n",
    "a là một dictionary có một phần tử, phần tử đó có key là \"tên\" và giá trị của key đó là \"NTD\"\n",
    "\n",
    "##### Lưu ý, nếu trong trường hợp đã tồn tại key trong dictionary, dùng lệnh trên sẽ thay đổi giá trị key đó (không phải thêm key khác vào)\n",
    "\n",
    "<b>Ví dụ 2:</b>\n",
    "\n",
    "```\n",
    "a = {}\n",
    "a[\"tên\"] = \"NTD\"\n",
    "a[\"tên\"] = \"Nguyễn Tâm Điền\"\n",
    "```\n",
    "\n",
    "a vẫn là một dictionary có một phần tử, phần tử đó có key là \"tên\" và giá trị của key đó là \"Nguyễn Tâm Điền\"\n",
    "\n",
    "<b>Hãy khai báo một dictionary không có phần tử nào, sau đó thêm một phần tử vào dictionary đó</b>"
   ]
  },
  {
   "cell_type": "code",
   "execution_count": null,
   "id": "7573ebef",
   "metadata": {},
   "outputs": [],
   "source": []
  },
  {
   "cell_type": "markdown",
   "id": "65c98825",
   "metadata": {},
   "source": [
    "### Truy xuất phần tử trong dictionary\n",
    "\n",
    "Cú pháp:\n",
    "\n",
    "`<tên dictionary>[<key>]`\n",
    "\n",
    "<b>Ví dụ:</b>\n",
    "\n",
    "`a = {\"tên\": \"Nguyễn Tâm Điền\", \"tuổi\": 13, \"giới tính\": \"Nam\"}\n",
    "print(a[\"tên\"])`\n",
    "\n",
    "Màn hình sẽ in: Nguyễn Tâm Điền\n",
    "\n",
    "<b>Hãy khai báo một dictionary rồi in ra màn hình một phần tử bất kỳ trong dictionary đó</b>"
   ]
  },
  {
   "cell_type": "code",
   "execution_count": null,
   "id": "f6159385",
   "metadata": {},
   "outputs": [],
   "source": []
  },
  {
   "cell_type": "markdown",
   "id": "afa92f87",
   "metadata": {},
   "source": [
    "### Sao chép dictionary\n",
    "\n",
    "##### Việc sao chép dictionary được thực hiện hệt như sao chép list, chúng ta cần phải sử dụng lệnh copy()"
   ]
  },
  {
   "cell_type": "markdown",
   "id": "ef7e800d",
   "metadata": {},
   "source": [
    "### Duyệt dictionary bằng lệnh for\n",
    "\n",
    "Cú pháp:\n",
    "\n",
    "`for <tên biến> in <tên dictionary>:`\n",
    "\n",
    "Biến sẽ có giá trị là từng key trong dictionary\n",
    "\n",
    "<b>Ví dụ:</b>\n",
    "\n",
    "`a = {\"tên\": \"Nguyễn Tâm Điền\", \"tuổi\": 13, \"giới tính\": \"Nam\"}\n",
    "for i in a:\n",
    "    print(i)`\n",
    "    \n",
    "Màn hình sẽ in ra:\n",
    "\n",
    "tên\n",
    "\n",
    "tuổi\n",
    "\n",
    "giới tính\n",
    "\n",
    "<b>Hãy khai báo một dictionary rồi in ra màn hình toàn bộ giá trị trong dictionary đó</b>"
   ]
  },
  {
   "cell_type": "code",
   "execution_count": 28,
   "id": "6528085b-c215-4340-bedf-676cd14e9013",
   "metadata": {},
   "outputs": [
    {
     "name": "stdout",
     "output_type": "stream",
     "text": [
      "a\n",
      "b\n",
      "c\n"
     ]
    }
   ],
   "source": [
    "D = {\"a\":1,\"b\":2,\"c\":3}\n",
    "for k in D:\n",
    "    print(k)    "
   ]
  },
  {
   "cell_type": "code",
   "execution_count": 29,
   "id": "d75a3c6f-9353-4b51-88fb-901ed8e6447f",
   "metadata": {},
   "outputs": [
    {
     "name": "stdout",
     "output_type": "stream",
     "text": [
      "a 1\n",
      "b 2\n",
      "c 3\n"
     ]
    }
   ],
   "source": [
    "D = {\"a\":1,\"b\":2,\"c\":3}\n",
    "for k in D:\n",
    "    print(k,D[k])    "
   ]
  },
  {
   "cell_type": "code",
   "execution_count": null,
   "id": "e9b5f509-1373-4396-b65c-f6f040bd4a0e",
   "metadata": {},
   "outputs": [],
   "source": []
  },
  {
   "cell_type": "code",
   "execution_count": null,
   "id": "be9fb51f-dcd5-4796-93ac-ea97ed93e9ae",
   "metadata": {},
   "outputs": [],
   "source": []
  },
  {
   "cell_type": "code",
   "execution_count": 26,
   "id": "3bdd1508",
   "metadata": {},
   "outputs": [
    {
     "name": "stdin",
     "output_type": "stream",
     "text": [
      "nhập vào key: 10\n"
     ]
    },
    {
     "ename": "SyntaxError",
     "evalue": "'break' outside loop (1828803747.py, line 14)",
     "output_type": "error",
     "traceback": [
      "\u001b[1;36m  Cell \u001b[1;32mIn[26], line 14\u001b[1;36m\u001b[0m\n\u001b[1;33m    break\u001b[0m\n\u001b[1;37m    ^\u001b[0m\n\u001b[1;31mSyntaxError\u001b[0m\u001b[1;31m:\u001b[0m 'break' outside loop\n"
     ]
    }
   ],
   "source": [
    "#cho 1 dictionary D rỗng\n",
    "#b1: nhập vào key, \n",
    "         #nếu key chưa có trong dict D thì iu cầu nhập vào giá trị của key đó và quay lại B1\n",
    "          #nếu key đã có trong dict D thì tiếp tục sang B2\n",
    "#b2 in dict và kết thúc\n",
    "\n",
    "D = {}\n",
    "\n",
    "a = int(input(\"nhập vào key:\"))\n",
    "if a not in D:\n",
    "    k=int(input(\"nhập vào key:\"))\n",
    "    D[a] = k\n",
    "    a = int(input(\"nhập vào key:\"))\n",
    "    break\n"
   ]
  },
  {
   "cell_type": "code",
   "execution_count": null,
   "id": "729c1bec-829b-43de-aeca-ca73f1156a3e",
   "metadata": {},
   "outputs": [],
   "source": []
  },
  {
   "cell_type": "code",
   "execution_count": null,
   "id": "28304058-9e3f-4950-9efb-a1f7bf4e7e93",
   "metadata": {},
   "outputs": [],
   "source": []
  },
  {
   "cell_type": "code",
   "execution_count": 31,
   "id": "8083f3bf-1d4d-48fd-baca-e42a130ce983",
   "metadata": {},
   "outputs": [
    {
     "name": "stdin",
     "output_type": "stream",
     "text": [
      "nhập vào key: chào\n"
     ]
    },
    {
     "ename": "ValueError",
     "evalue": "invalid literal for int() with base 10: 'chào'",
     "output_type": "error",
     "traceback": [
      "\u001b[1;31m---------------------------------------------------------------------------\u001b[0m",
      "\u001b[1;31mValueError\u001b[0m                                Traceback (most recent call last)",
      "Cell \u001b[1;32mIn[31], line 1\u001b[0m\n\u001b[1;32m----> 1\u001b[0m key \u001b[38;5;241m=\u001b[39m \u001b[38;5;28;43mint\u001b[39;49m\u001b[43m(\u001b[49m\u001b[38;5;28;43minput\u001b[39;49m\u001b[43m(\u001b[49m\u001b[38;5;124;43m\"\u001b[39;49m\u001b[38;5;124;43mnhập vào key:\u001b[39;49m\u001b[38;5;124;43m\"\u001b[39;49m\u001b[43m)\u001b[49m\u001b[43m)\u001b[49m\n\u001b[0;32m      2\u001b[0m \u001b[38;5;28;01mwhile\u001b[39;00m key \u001b[38;5;129;01mnot\u001b[39;00m \u001b[38;5;129;01min\u001b[39;00m D:\n\u001b[0;32m      3\u001b[0m     value \u001b[38;5;241m=\u001b[39m \u001b[38;5;28minput\u001b[39m(\u001b[38;5;124m\"\u001b[39m\u001b[38;5;124mnhập vào giá trị\u001b[39m\u001b[38;5;124m\"\u001b[39m)\n",
      "\u001b[1;31mValueError\u001b[0m: invalid literal for int() with base 10: 'chào'"
     ]
    }
   ],
   "source": [
    "key = int(input(\"nhập vào key:\"))\n",
    "while key not in D:\n",
    "    value = input(\"nhập vào giá trị\")\n",
    "    D[key] = value\n",
    "    key = int(input(\"nhập vào key:\"))\n",
    "print(D)"
   ]
  },
  {
   "cell_type": "code",
   "execution_count": null,
   "id": "b6d53994-da32-41e1-b945-50ac68a3c80b",
   "metadata": {},
   "outputs": [],
   "source": []
  },
  {
   "cell_type": "code",
   "execution_count": null,
   "id": "f82b0211-e537-45ea-8476-980b194da518",
   "metadata": {},
   "outputs": [],
   "source": []
  },
  {
   "cell_type": "code",
   "execution_count": null,
   "id": "930a4435-1379-4bad-8c5a-2e7c3e7d3743",
   "metadata": {},
   "outputs": [],
   "source": []
  },
  {
   "cell_type": "markdown",
   "id": "1982f4b1",
   "metadata": {},
   "source": [
    "### Bài tập"
   ]
  },
  {
   "cell_type": "markdown",
   "id": "3060a950",
   "metadata": {},
   "source": [
    "Viết chương trình đếm số lần xuất hiện của một từ trong một văn bản nhất định"
   ]
  },
  {
   "cell_type": "code",
   "execution_count": 55,
   "id": "af64832c",
   "metadata": {},
   "outputs": [
    {
     "name": "stdout",
     "output_type": "stream",
     "text": [
      "{'hằng': 1, 'năm': 3, 'cứ': 2, 'vào': 8, 'cuối': 1, 'thu': 2, 'lá': 1, 'ngoài': 2, 'đường': 5, 'rụng': 1, 'nhiều': 3, 'và': 18, 'trên': 11, 'không': 16, 'có': 11, 'những': 10, 'đám': 2, 'mây': 2, 'bàng': 1, 'bạc': 1, 'lòng': 10, 'tôi': 78, 'lại': 13, 'nao': 1, 'nức': 2, 'kỷ': 2, 'niệm': 2, 'hoang': 1, 'mang': 1, 'của': 6, 'buổi': 4, 'tựu': 1, 'trường': 10, 'thể': 1, 'nào': 6, 'quên': 2, 'được': 9, 'cảm': 8, 'giác': 2, 'trong': 14, 'sáng': 3, 'ấy': 7, 'nảy': 1, 'nở': 2, 'như': 12, 'mấy': 14, 'cành': 1, 'hoa': 1, 'tươi': 2, 'mỉm': 1, 'cười': 1, 'giữa': 2, 'bầu': 1, 'trời': 2, 'quang': 1, 'đãng': 1, 'ý': 3, 'tưởng': 3, 'chưa': 4, 'lần': 9, 'ghi': 2, 'lên': 7, 'giấy': 2, 'vì': 5, 'hồi': 2, 'biết': 4, 'ngày': 4, 'nay': 2, 'nhớ': 1, 'hết': 5, 'nhưng': 10, 'mỗi': 1, 'thấy': 12, 'em': 11, 'nhỏ': 3, 'rụt': 3, 'rè': 3, 'núp': 1, 'dưới': 4, 'nón': 1, 'mẹ': 11, 'đầu': 7, 'tiên': 1, 'đến': 5, 'tưng': 1, 'bừng': 1, 'rộn': 2, 'rã': 1, 'mai': 3, 'hôm': 4, 'một': 18, 'đầy': 4, 'sương': 1, 'gió': 1, 'lạnh': 1, 'âu': 2, 'yếm': 2, 'nắm': 3, 'tay': 7, 'dẫn': 1, 'đi': 12, 'con': 7, 'làng': 6, 'dài': 2, 'hẹp': 1, 'này': 8, 'đã': 9, 'quen': 2, 'lắm': 1, 'tự': 5, 'nhiên': 5, 'lạ': 8, 'cảnh': 3, 'vật': 2, 'chung': 3, 'quanh': 3, 'đều': 3, 'thay': 2, 'đổi': 2, 'chính': 2, 'đang': 7, 'sự': 3, 'lớn': 2, 'học': 11, 'lội': 1, 'qua': 3, 'sông': 2, 'thả': 1, 'diều': 1, 'thằng': 3, 'quý': 1, 'ra': 6, 'đồng': 3, 'nô': 1, 'hò': 1, 'sơn': 1, 'nữa': 5, 'chiếc': 1, 'áo': 4, 'vải': 1, 'dù': 1, 'đen': 2, 'mình': 5, 'trang': 1, 'trọng': 1, 'đứng': 11, 'đắn': 1, 'dọc': 1, 'cậu': 19, 'trạc': 1, 'bằng': 1, 'quần': 2, 'tươm': 1, 'tất': 1, 'nhí': 1, 'nhảnh': 1, 'gọi': 3, 'tên': 4, 'nhau': 3, 'hay': 6, 'trao': 1, 'sách': 2, 'vở': 4, 'cho': 4, 'xem': 1, 'mà': 3, 'thèm': 3, 'hai': 3, 'quyển': 2, 'mới': 5, 'ở': 2, 'bắt': 1, 'nặng': 2, 'bặm': 1, 'ghì': 1, 'thật': 4, 'chặt': 1, 'cũng': 12, 'chì': 1, 'chênh': 1, 'chúi': 1, 'xuống': 2, 'đất': 1, 'xóc': 1, 'cẩn': 2, 'thận': 2, 'trước': 7, 'thiệt': 1, 'kèm': 1, 'cả': 7, 'bút': 3, 'thước': 3, 'để': 8, 'lộ': 1, 'vẻ': 1, 'khó': 1, 'khăn': 1, 'gì': 3, 'muốn': 2, 'thử': 1, 'sức': 2, 'nên': 2, 'nhìn': 16, 'đưa': 3, 'cầm': 2, 'cúi': 1, 'với': 6, 'cặp': 4, 'mắt': 4, 'thôi': 2, 'ngay': 1, 'cái': 2, 'kiến': 1, 'vừa': 4, 'non': 1, 'nớt': 1, 'ngây': 1, 'thơ': 2, 'chắc': 1, 'chỉ': 4, 'người': 13, 'thạo': 1, 'nổi': 1, 'nghĩ': 1, 'thoáng': 1, 'trí': 2, 'nhẹ': 3, 'nhàng': 1, 'làn': 1, 'lướt': 1, 'ngang': 2, 'ngọn': 1, 'núi': 1, 'sân': 3, 'mỹ': 3, 'lý': 3, 'đặc': 1, 'sạch': 2, 'sẽ': 3, 'gương': 2, 'mặt': 4, 'vui': 2, 'sủa': 1, 'đó': 1, 'lúc': 4, 'hòa': 2, 'an': 1, 'bẫy': 2, 'chim': 5, 'quyên': 1, 'minh': 1, 'ghé': 1, 'đối': 1, 'là': 5, 'nơi': 2, 'xa': 5, 'các': 20, 'lớp': 12, 'cửa': 3, 'kính': 2, 'bản': 1, 'đồ': 1, 'treo': 2, 'tường': 2, 'khác': 2, 'nhà': 4, 'cao': 3, 'ráo': 1, 'hơn': 5, 'xinh': 1, 'xắn': 1, 'oai': 1, 'nghiêm': 1, 'đình': 1, 'ấp': 1, 'nó': 2, 'rộng': 2, 'trưa': 2, 'hè': 1, 'vắng': 1, 'lặng': 1, 'đâm': 1, 'lo': 1, 'sợ': 2, 'vẩn': 1, 'vơ': 1, 'trò': 7, 'bở': 1, 'ngỡ': 1, 'nép': 1, 'bên': 2, 'thân': 4, 'dám': 4, 'từng': 2, 'bước': 3, 'họ': 2, 'bờ': 3, 'tổ': 1, 'quãng': 1, 'bay': 3, 'còn': 1, 'ngập': 2, 'ngừng': 3, 'e': 1, 'vụng': 2, 'ước': 1, 'ao': 1, 'thầm': 1, 'cũ': 3, 'thầy': 6, 'khỏi': 1, 'phải': 2, 'sau': 6, 'trống': 1, 'thúc': 1, 'vang': 1, 'dội': 1, 'sắp': 3, 'hàng': 3, 'hiên': 3, 'rồi': 5, 'bé': 1, 'về': 3, 'lúng': 4, 'túng': 4, 'theo': 4, 'mạnh': 3, 'kéo': 1, 'dìu': 1, 'tới': 2, 'nói': 3, 'càng': 2, 'đúng': 1, 'chân': 2, 'dềnh': 1, 'dàng': 2, 'mãi': 1, 'co': 1, 'duỗi': 1, 'đá': 1, 'quả': 2, 'banh': 1, 'tượng': 1, 'toàn': 1, 'run': 2, 'nhịp': 1, 'ràng': 1, 'ông': 8, 'đốc': 7, 'ba': 3, 'phòng': 1, 'riêng': 2, 'đọc': 3, 'tim': 1, 'đập': 1, 'nghe': 4, 'giật': 1, 'khi': 2, 'xong': 1, 'mươi': 2, 'viết': 3, 'sẵn': 1, 'mảnh': 1, 'chúng': 9, 'thế': 1, 'cố': 1, 'gắng': 1, 'dạy': 1, 'sung': 1, 'sướng': 1, 'trả': 1, 'lời': 1, 'may': 1, 'tiếng': 4, 'dạ': 1, 'rang': 1, 'phụ': 1, 'huynh': 1, 'đáp': 1, 'hiền': 2, 'từ': 4, 'động': 1, 'đua': 1, 'quay': 2, 'dừng': 1, 'phút': 1, 'giây': 1, 'ta': 1, 'ngắm': 1, 'vậy': 1, 'lấy': 2, 'trắng': 1, 'đây': 1, 'lưng': 3, 'bàn': 4, 'dịu': 1, 'đẩy': 1, 'nề': 1, 'cách': 1, 'giữ': 1, 'chéo': 1, 'cáng': 1, 'vài': 2, 'lủng': 1, 'lẻo': 1, 'lưu': 1, 'luyến': 2, 'ôm': 1, 'khóc': 3, 'bất': 2, 'dúi': 1, 'thút': 1, 'thít': 1, 'cổ': 1, 'vuốt': 1, 'mái': 1, 'tóc': 1, 'nhẫn': 1, 'nại': 1, 'chờ': 1, 'đừng': 1, 'cơ': 1, 'nghỉ': 1, 'tám': 1, 'đặn': 1, 'liền': 1, 'dấu': 1, 'trẻ': 1, 'tuổi': 1, 'đón': 1, 'thời': 1, 'ấu': 1, 'bao': 1, 'giờ': 1, 'làm': 1, 'nhũng': 1, 'chơi': 1, 'suốt': 1, 'bạn': 3, 'lệ': 1, 'xá': 1, 'vẫn': 2, 'chút': 2, 'mùi': 1, 'hương': 1, 'xông': 1, 'trông': 1, 'hình': 1, 'ghế': 1, 'chỗ': 1, 'ngồi': 2, 'rất': 1, 'nhận': 1, 'tí': 1, 'hon': 1, 'hề': 1, 'quyến': 1, 'ngờ': 1, 'quá': 1, 'tin': 1, 'liệng': 1, 'sổ': 1, 'hót': 1, 'vỗ': 1, 'cánh': 3, 'thuồng': 1, 'lúa': 1, 'viêm': 1, 'sống': 1, 'dẫy': 1, 'phấn': 1, 'gạch': 1, 'bảng': 1, 'vòng': 1, 'chăm': 1, 'lẩm': 1, 'bẩm': 1, 'bài': 1, 'tập': 1}\n"
     ]
    }
   ],
   "source": [
    "van_ban = '''Hằng năm cứ vào cuối thu, lá ngoài đường rụng nhiều và trên không có những đám mây bàng bạc, lòng tôi lại nao nức những kỷ niệm hoang mang của buổi tựu trường.\n",
    "\n",
    "Tôi không thể nào quên được những cảm giác trong sáng ấy nảy nở trong lòng tôi như mấy cành hoa tươi mỉm cười giữa bầu trời quang đãng.\n",
    "\n",
    "Những ý tưởng ấy tôi chưa lần nào ghi lên giấy, vì hồi ấy tôi không biết ghi và ngày nay tôi không nhớ hết. Nhưng mỗi lần thấy mấy em nhỏ rụt rè núp dưới nón mẹ lần đầu tiên đến trường, lòng tôi lại tưng bừng rộn rã.\n",
    "\n",
    "Buổi sáng mai hôm ấy, một buổi mai đầy sương thu và gió lạnh. Mẹ tôi âu yếm nắm tay tôi dẫn đi trên con đường làng dài và hẹp. Con đường này tôi đã quen đi lại lắm lần, nhưng lần này tự nhiên tôi thấy lạ. Cảnh vật chung quanh tôi đều thay đổi, vì chính lòng tôi đang có sự thay đổi lớn: Hôm nay tôi đi học.\n",
    "\n",
    "Tôi không lội qua sông thả diều như thằng Quý và không ra đồng nô hò như thằng Sơn nữa.\n",
    "\n",
    "Trong chiếc áo vải dù đen dài tôi cảm thấy mình trang trọng và đứng đắn.\n",
    "\n",
    "Dọc đường tôi thấy mấy cậu nhỏ trạc bằng tôi, áo quần tươm tất, nhí nhảnh gọi tên nhau hay trao sách vở cho nhau xem mà tôi thèm. Hai quyển vở mới đang ở trên tay tôi đã bắt đầu thấy nặng. Tôi bặm tay ghì thật chặt, nhưng một quyển vở cũng chì ra và chênh đầu chúi xuống đất. Tôi xóc lên và nắm lại cẩn thận. Mấy cậu đi trước sách vở thiệt nhiều lại kèm cả bút thước nữa. Nhưng mấy cậu không để lộ vẻ khó khăn gì hết.\n",
    "\n",
    "Tôi muốn thử sức mình nên nhìn mẹ tôi:\n",
    "\n",
    "- Mẹ đưa bút thước cho con cầm.\n",
    "\n",
    "Mẹ tôi cúi đầu nhìn tôi với cặp mắt thật âu yếm:\n",
    "\n",
    "- Thôi để mẹ nắm cũng được.\n",
    "\n",
    "Tôi có ngay cái ý kiến vừa non nớt vừa ngây thơ này: chắc chỉ người thạo mới cầm nổi bút thước.\n",
    "\n",
    "Ý nghĩ thoáng qua trong trí tôi nhẹ nhàng như một làn mây lướt ngang trên ngọn núi.\n",
    "\n",
    "Trước sân trường làng Mỹ Lý đầy đặc cả người. Người nào áo quần cũng sạch sẽ, gương mặt cũng vui tươi và sáng sủa.\n",
    "\n",
    "Trước đó mấy hôm, lúc đi ngang làng Hòa An bẫy chim quyên với thằng Minh, tôi có ghé trường một lần.\n",
    "\n",
    "Lần ấy trường đối với tôi là một nơi xa lạ. Tôi đi chung quanh các lớp để nhìn qua cửa kính mấy bản đồ treo trên tường. Tôi không có cảm tưởng gì khác là nhà trường cao ráo sạch sẽ hơn các nhà trong làng.\n",
    "\n",
    "\n",
    "\n",
    "Nhưng lần này lại khác. Trước mặt tôi, trường Mỹ Lý vừa xinh xắn vừa oai nghiêm như cái đình Hòa Ấp. Sân nó rộng, mình nó cao hơn những buổi trưa hè đầy vắng lặng. Lòng tôi đâm ra lo sợ vẩn vơ.\n",
    "\n",
    "Cũng như tôi, mấy cậu học trò mới bở ngỡ đứng nép bên người thân, chỉ dám nhìn một nữa hay dám đi từng bước nhẹ. Họ như con chim con đứng trên bờ tổ, nhìn quãng trời rộng muốn bay, nhưng còn ngập ngừng e sợ. Họ thèm vụng và ước ao thầm được như những học trò cũ, biết lớp, biết thầy để khỏi phải rụt rè trong cảnh lạ.\n",
    "\n",
    "Sau một hồi trống thúc vang dội cả lòng tôi, mấy người học trò cũ đến sắp hàng dưới hiên rồi đi vào lớp. Chung quanh những cậu bé vụng về lúng túng như tôi cả. Các cậu không đi. Các cậu chỉ theo sức mạnh kéo dìu các cậu tới trước. Nói các cậu không đứng lại càng đúng hơn nữa. Vì hai chân các cậu cứ dềnh dàng mãi. Hết co lên một chân, các cậu lại duỗi mạnh như đá một quả banh tưởng tượng. Chính lúc này toàn thân các cậu cũng đang run run theo nhịp bước rộn ràng trong các lớp.\n",
    "\n",
    "Ông đốc trường Mỹ Lý cho gọi mấy cậu học trò mới đứng lên trước lớp ba. Trường làng nhỏ nên không có phòng riêng của ông đốc. Trong lúc ông đọc tên từng người, tôi cảm thấy như quả tim tôi ngừng đập. Tôi quên cả mẹ tôi đang đứng sau tôi. Nghe gọi đến tên, tôi tự nhiên giật mình và lúng túng. Sau khi đọc xong mấy mươi tên đã viết sẵn trên mảnh giấy lớn, ông đốc nhìn chúng tôi nói sẽ:\n",
    "\n",
    "- Thế là các em đã vào lớp năm. Các em phải cố gắng học để thầy mẹ được vui lòng, và để thầy dạy chúng em được sung sướng. Các em đã nghe chưa? (Các em đều nghe nhưng không em nào dám trả lời. Cũng may đã có tiếng dạ rang của phụ huynh đáp lại).\n",
    "\n",
    "Ông đốc nhìn chúng tôi với cặp mắt hiền từ và cảm động. Mấy cậu học trò lớp ba cũng đua nhau quay đầu nhìn ra. Và ngoài đường cũng có mấy người đứng dừng lại để nhìn vào. Trong những phút giây này chúng tôi được người ta ngắm nhìn nhiều hơn hết. Vì vậy đã lúng túng chúng tôi càng lúng túng hơn.\n",
    "\n",
    "Ông đốc lấy cặp kính trắng xuống rồi nói:\n",
    "\n",
    "- Thôi, các em đứng đây sắp hàng để vào lớp học.\n",
    "\n",
    "Tôi cảm thấy sau lưng tôi có một bàn tay dịu dàng đẩy tôi tới trước. Nhưng người tôi lúc ấy tự nhiên thấy nặng nề một cách lạ. Không giữ được chéo áo hay cáng tay của người thân, vài ba cậu đã từ từ bước lên đứng dưới hiên lớp. Các cậu lủng lẻo nhìn ra sân, nơi mà những người thân đang nhìn các cậu với cặp mắt lưu luyến. Một cậu đứng đầu ôm mặt khóc. Tôi bất giác quay lưng lại rồi dúi đầu vào lòng mẹ tôi nức nở khóc theo. Tôi nghe sau lưng tôi, trong đám học trò mới, vài tiếng thút thít đang ngập ngừng trong cổ. Một bàn tay quen nhẹ vuốt mái tóc tôi.\n",
    "\n",
    "Ông đốc nhẫn nại chờ chúng tôi.\n",
    "\n",
    "- Các em đừng khóc. Trưa này các em được về nhà cơ mà. Và ngày mai các em lại được nghỉ cả ngày nữa.\n",
    "\n",
    "Sau khi thấy hai mươi tám cậu học trò sắp hàng đều đặn dưới hiên trường, ông đốc liền ra dấu cho chúng tôi vào lớp năm. Một thầy trẻ tuổi, gương mặt hiền từ, đang đón chúng tôi vào cửa lớp. Trong thời thơ ấu tôi chưa bao giờ xa mẹ tôi như lần này. Tôi cũng lấy làm lạ vì có nhũng hôm đi chơi suốt cả ngày với chúng bạn ở đồng làng Lệ Xá, lòng tôi vẫn không cảm thấy xa nhà hay xa mẹ tôi chút nào hết.\n",
    "\n",
    "Một mùi hương lạ xông lên trong lớp. Trông hình gì treo trên tường tôi cũng thấy lạ và hay hay. Tôi nhìn bàn ghế chỗ tôi ngồi rất cẩn thận rồi tự nhiên nhận là vật riêng của mình. Tôi nhìn người bạn tí hon ngồi bên tôi, một người bạn tôi chưa hề biết, nhưng lòng tôi vẫn không cảm thấy sự xa lạ chút nào. Sự quyến luyến ấy tự nhiên và bất ngờ quá đến tôi cũng không dám tin là có thật. Một con chim con liệng đến đứng trên bờ cửa sổ, hót mấy tiếng rụt rè rồi vỗ cánh bay cao.\n",
    "\n",
    "Tôi đưa mắt thèm thuồng nhìn theo cánh chim. Một kỷ niệm cũ đi bẫy chim giữa cánh đồng lúa bay trên bờ sông Viêm sống lại đầy dẫy trong trí tôi.\n",
    "\n",
    "Nhưng những tiếng phấn của thầy tôi gạch mạnh trên bảng đen đã đưa tôi về cảnh thật. Tôi vòng tay lên bàn chăm chỉ nhìn thầy viết và lẩm bẩm đọc: Bài tập viết: Tôi đi học'''\n",
    "\n",
    "#b1 lấy hết các kí tự đặc biệt và lưu vào bên trong 1 list\n",
    "\n",
    "# B1: lấy hết tất cả các ký tự đặc biệt và lưu vào bên trong một list\n",
    "L_ky_tu = []\n",
    "\n",
    "for ky_tu in van_ban:\n",
    "    if not ky_tu.isalpha() and not ky_tu.isnumeric() and ky_tu != \" \" and ky_tu != \"\\n\":\n",
    "        if ky_tu not in L_ky_tu:\n",
    "            L_ky_tu.append(ky_tu)\n",
    "\n",
    "# B2: xoá hết tất cả các ký bên trong van_ban\n",
    "for ky_tu in L_ky_tu:\n",
    "    van_ban = van_ban.replace(ky_tu,\"\")\n",
    "\n",
    "van_ban = van_ban.lower()\n",
    "van_ban = van_ban.split()\n",
    "# print(van_ban)\n",
    "\n",
    "D = {}\n",
    "# B3: đếm và xây dựng dictionary D\n",
    "for tu in van_ban:     \n",
    "    # Nếu từ đã có trong văn bản, tăng số đếm lên 1\n",
    "    if tu in D:\n",
    "        D[tu] += 1\n",
    "    # Nếu từ chưa có trong văn bản, thêm vào với số đếm là 1\n",
    "    else:\n",
    "        D[tu] = 1\n",
    "    \n",
    "    \n",
    "print(D)"
   ]
  },
  {
   "cell_type": "code",
   "execution_count": null,
   "id": "42b75d28-33c3-42e9-8b7c-496f083bc865",
   "metadata": {},
   "outputs": [],
   "source": []
  },
  {
   "cell_type": "code",
   "execution_count": null,
   "id": "68bca130-8aab-4531-823a-674318c9fa82",
   "metadata": {},
   "outputs": [],
   "source": []
  },
  {
   "cell_type": "code",
   "execution_count": 32,
   "id": "d81525ce-eff5-406f-829e-2313e58b2cab",
   "metadata": {},
   "outputs": [
    {
     "ename": "NameError",
     "evalue": "name 'van_ban' is not defined",
     "output_type": "error",
     "traceback": [
      "\u001b[1;31m---------------------------------------------------------------------------\u001b[0m",
      "\u001b[1;31mNameError\u001b[0m                                 Traceback (most recent call last)",
      "Cell \u001b[1;32mIn[32], line 2\u001b[0m\n\u001b[0;32m      1\u001b[0m L_ky_tu \u001b[38;5;241m=\u001b[39m []\n\u001b[1;32m----> 2\u001b[0m \u001b[38;5;28;01mfor\u001b[39;00m ky_tu \u001b[38;5;129;01min\u001b[39;00m \u001b[43mvan_ban\u001b[49m:\n\u001b[0;32m      3\u001b[0m       \u001b[38;5;28;01mif\u001b[39;00m \u001b[38;5;129;01mnot\u001b[39;00m ky_tu\u001b[38;5;241m.\u001b[39misalnumeric() \u001b[38;5;129;01mand\u001b[39;00m \u001b[38;5;129;01mnot\u001b[39;00m ky_tu\u001b[38;5;241m.\u001b[39misalpha():\n\u001b[0;32m      4\u001b[0m             L_ky_tu\u001b[38;5;241m.\u001b[39mappend(ky_tu)\n",
      "\u001b[1;31mNameError\u001b[0m: name 'van_ban' is not defined"
     ]
    }
   ],
   "source": [
    "L_ky_tu = []\n",
    "for ky_tu in van_ban:\n",
    "      if not ky_tu.isalnumeric() and not ky_tu.isalpha():\n",
    "            L_ky_tu.append(ky_tu)\n",
    "print (L_ky_tu)"
   ]
  },
  {
   "cell_type": "code",
   "execution_count": 78,
   "id": "21691205-228f-42f6-b547-1d3779f549cd",
   "metadata": {},
   "outputs": [
    {
     "name": "stdout",
     "output_type": "stream",
     "text": [
      "{'i': 6}\n"
     ]
    },
    {
     "ename": "KeyError",
     "evalue": "'đen'",
     "output_type": "error",
     "traceback": [
      "\u001b[1;31m---------------------------------------------------------------------------\u001b[0m",
      "\u001b[1;31mKeyError\u001b[0m                                  Traceback (most recent call last)",
      "Cell \u001b[1;32mIn[78], line 33\u001b[0m\n\u001b[0;32m     30\u001b[0m L_ma_hoa \u001b[38;5;241m=\u001b[39m []\n\u001b[0;32m     32\u001b[0m \u001b[38;5;28;01mfor\u001b[39;00m i \u001b[38;5;129;01min\u001b[39;00m L:\n\u001b[1;32m---> 33\u001b[0m     L_ma_hoa\u001b[38;5;241m.\u001b[39mappend(\u001b[43mD_ma_hoa\u001b[49m\u001b[43m[\u001b[49m\u001b[43mi\u001b[49m\u001b[43m]\u001b[49m)\n\u001b[0;32m     34\u001b[0m \u001b[38;5;28mprint\u001b[39m(L_ma_hoa)\n",
      "\u001b[1;31mKeyError\u001b[0m: 'đen'"
     ]
    }
   ],
   "source": [
    "# Cho một list là một tập các chuỗi\n",
    "\n",
    "# Hãy mã hóa list trên theo nguyên tắc sau:\n",
    "\n",
    "# Mỗi một phần tử, ta mã hóa thành những con số theo thứ tự tăng dần\n",
    "\n",
    "# Ví dụ:\n",
    "\n",
    "# List = [\"đen\",\"vàng\",\"xanh\",\"vàng\",\"xanh\",\"đỏ\",\"hồng\"]\n",
    "\n",
    "# List mã hóa = [0,1,2,1,2,3,4]\n",
    "\n",
    "# - \"đen\" mã hóa thành 0\n",
    "# - \"vàng\" mã hóa thành 1\n",
    "# - \"xanh\" mã hóa thành 2\n",
    "# - \"đỏ\" mã hòa thánh 3\n",
    "# - \"hồng\" mã hòa thành 4\n",
    "\n",
    "L = [\"đen\",\"vàng\",\"xanh\",\"vàng\",\"xanh\",\"đỏ\",\"hồng\"]\n",
    "#tạo ra 1 D_ma_hoa có key là từng giá trị bên trong list L, và giá trị của key là giá trị mã hóa tương ứng\n",
    "D_ma_hoa = {}\n",
    "a = 0\n",
    "for i in L:\n",
    "    \n",
    "    if i not in D_ma_hoa:\n",
    "        D_ma_hoa['i'] = a\n",
    "        a+=1\n",
    "print(D_ma_hoa)\n",
    "\n",
    "L_ma_hoa = []\n",
    "\n",
    "for i in L:\n",
    "    L_ma_hoa.append(D_ma_hoa[i])\n",
    "print(L_ma_hoa)\n",
    "    "
   ]
  },
  {
   "cell_type": "code",
   "execution_count": null,
   "id": "1bb4115d-c45f-416c-a4f4-26333fe1797e",
   "metadata": {},
   "outputs": [],
   "source": []
  },
  {
   "cell_type": "code",
   "execution_count": null,
   "id": "3ec5bc1c-409d-4a7f-a7e0-97b4b23df6a2",
   "metadata": {},
   "outputs": [],
   "source": []
  },
  {
   "cell_type": "code",
   "execution_count": null,
   "id": "ffc7c713-2368-48f4-bdae-27ed0848b2ac",
   "metadata": {},
   "outputs": [],
   "source": []
  },
  {
   "cell_type": "code",
   "execution_count": null,
   "id": "63b3f583-5e8b-434e-a2b5-7f6ad538c45e",
   "metadata": {},
   "outputs": [],
   "source": []
  },
  {
   "cell_type": "code",
   "execution_count": 79,
   "id": "ed4b2e42-9b16-4f7f-ac05-c7ca6942a004",
   "metadata": {},
   "outputs": [
    {
     "name": "stdout",
     "output_type": "stream",
     "text": [
      "{'đen': 0, 'vàng': 1, 'xanh': 2, 'đỏ': 3, 'hồng': 4}\n",
      "[0, 1, 2, 1, 2, 3, 4]\n"
     ]
    }
   ],
   "source": [
    "L = [\"đen\",\"vàng\",\"xanh\",\"vàng\",\"xanh\",\"đỏ\",\"hồng\"]\n",
    "#tạo ra 1 D_ma_hoa có key là từng giá trị bên trong list L, và giá trị của key là giá trị mã hóa tương ứng\n",
    "D_ma_hoa = { }\n",
    "a = 0\n",
    "for i in L:\n",
    "    \n",
    "    if i not in D_ma_hoa:\n",
    "        D_ma_hoa[i] = a\n",
    "        a+=1\n",
    "print(D_ma_hoa)\n",
    "\n",
    "L_ma_hoa = []\n",
    "\n",
    "for i in L:\n",
    "    L_ma_hoa.append(D_ma_hoa[i])\n",
    "print(L_ma_hoa)"
   ]
  },
  {
   "cell_type": "code",
   "execution_count": null,
   "id": "0b11c058-4987-44b0-a1c9-cf36773aca1b",
   "metadata": {},
   "outputs": [],
   "source": []
  },
  {
   "cell_type": "code",
   "execution_count": null,
   "id": "28e7e2b3-6ab4-489e-b1f2-1580e39833ac",
   "metadata": {},
   "outputs": [],
   "source": []
  },
  {
   "cell_type": "code",
   "execution_count": 82,
   "id": "1d06b7aa-3ec1-4b85-9d02-f910a9464aa1",
   "metadata": {},
   "outputs": [
    {
     "name": "stdout",
     "output_type": "stream",
     "text": [
      "{0: 'vuông', 1: 'tròn', 2: 'tam giác', 3: 'chữ nhật', 4: 'bình hành'}\n",
      "['vuông', 'tròn', 'tam giác', 'tròn', 'chữ nhật', 'bình hành']\n"
     ]
    }
   ],
   "source": [
    "L_ma_hoa = [0, 1, 2, 1, 3, 4]\n",
    "D_ma_hoa = {\"vuông\":0, \"tròn\":1,\"tam giác\":2,\"chữ nhật\":3,\"bình hành\":4}\n",
    "#mã hóa ngược lại thành L thông thường\n",
    "D_ma_hoa_nguoc = {}\n",
    "for k in D_ma_hoa:\n",
    "    v = D_ma_hoa[k]\n",
    "    D_ma_hoa_nguoc[v] = k\n",
    "print(D_ma_hoa_nguoc)\n",
    "L = []\n",
    "for i in L_ma_hoa:\n",
    "    L.append(D_ma_hoa_nguoc[i])\n",
    "print(L)"
   ]
  },
  {
   "cell_type": "code",
   "execution_count": null,
   "id": "c7275c8e-4e0a-4b6b-a9a7-bdcfe1c265ac",
   "metadata": {},
   "outputs": [],
   "source": []
  },
  {
   "cell_type": "code",
   "execution_count": null,
   "id": "87bb5d97-0665-478a-a641-8218129ae40b",
   "metadata": {},
   "outputs": [],
   "source": []
  },
  {
   "cell_type": "code",
   "execution_count": 83,
   "id": "090246c8-4550-49e6-a688-ebc7b8936706",
   "metadata": {},
   "outputs": [
    {
     "name": "stdout",
     "output_type": "stream",
     "text": [
      "aaa\n"
     ]
    }
   ],
   "source": [
    "def tim_k_max(D):\n",
    "    k_max = None\n",
    "    for k in D:\n",
    "        if k_max == None or D[k] > D[k_max]:\n",
    "            k_max = k\n",
    "    return k_max\n",
    "print(tim_k_max({\"abc\":10, \"bcd\":20, \"aaa\":100}))"
   ]
  },
  {
   "cell_type": "code",
   "execution_count": null,
   "id": "d2f60d48-5efc-447e-89e7-11767f229fc6",
   "metadata": {},
   "outputs": [],
   "source": []
  },
  {
   "cell_type": "code",
   "execution_count": null,
   "id": "e7e38fb5-d443-44b2-8a1d-bdec8a51d757",
   "metadata": {},
   "outputs": [],
   "source": []
  },
  {
   "cell_type": "code",
   "execution_count": null,
   "id": "ddb98bfc-4e92-4a47-b722-fcffef8d28f0",
   "metadata": {},
   "outputs": [],
   "source": []
  },
  {
   "cell_type": "code",
   "execution_count": null,
   "id": "aee5a49d-0ab4-4ce1-8fab-447785555e06",
   "metadata": {},
   "outputs": [],
   "source": []
  },
  {
   "cell_type": "code",
   "execution_count": null,
   "id": "055bad00-e7b1-4d97-8a14-662ec458daeb",
   "metadata": {},
   "outputs": [],
   "source": []
  },
  {
   "cell_type": "code",
   "execution_count": null,
   "id": "ffa3e23f-a206-43aa-b37a-fb3670bdf141",
   "metadata": {},
   "outputs": [],
   "source": []
  },
  {
   "cell_type": "code",
   "execution_count": null,
   "id": "3052fd6d-7e5a-4c1e-b635-9918dfda7310",
   "metadata": {},
   "outputs": [],
   "source": []
  },
  {
   "cell_type": "code",
   "execution_count": null,
   "id": "bcc1242e-fd64-4869-a77b-719829a0a29a",
   "metadata": {},
   "outputs": [],
   "source": []
  },
  {
   "cell_type": "code",
   "execution_count": null,
   "id": "f4ee1c71-48ed-4574-8e74-15000058dcb7",
   "metadata": {},
   "outputs": [],
   "source": []
  },
  {
   "cell_type": "code",
   "execution_count": null,
   "id": "60468356-31e1-4abe-a45f-71b912f471fe",
   "metadata": {},
   "outputs": [],
   "source": []
  },
  {
   "cell_type": "code",
   "execution_count": null,
   "id": "41b7bc24-af3b-4f32-8f1f-8de891712f1c",
   "metadata": {},
   "outputs": [],
   "source": []
  },
  {
   "cell_type": "code",
   "execution_count": null,
   "id": "8ea21566-fa9c-47d4-b58d-1efb7d902609",
   "metadata": {},
   "outputs": [],
   "source": []
  },
  {
   "cell_type": "code",
   "execution_count": null,
   "id": "b63bab9d-1638-486c-81f1-9428ca6e1a86",
   "metadata": {},
   "outputs": [],
   "source": []
  },
  {
   "cell_type": "code",
   "execution_count": null,
   "id": "272952fa-5b6f-4db8-8ee9-fbe50f9b1a76",
   "metadata": {},
   "outputs": [],
   "source": []
  },
  {
   "cell_type": "code",
   "execution_count": null,
   "id": "3ea1f0d5-3bb0-4f25-b00f-74e78abe932a",
   "metadata": {},
   "outputs": [],
   "source": []
  },
  {
   "cell_type": "code",
   "execution_count": null,
   "id": "09540526-58c8-456b-8ab7-83c9c52d6e5b",
   "metadata": {},
   "outputs": [],
   "source": []
  },
  {
   "cell_type": "markdown",
   "id": "57c6f1e7",
   "metadata": {},
   "source": [
    "Viết chương trình cho phép người dùng quản lý sản phẩm, gồm các chức năng sau: \n",
    "\n",
    "- Hiển thị danh sách sản phẩm\n",
    "- Thêm sản phẩm mới vào danh sách\n",
    "- Sửa tên của sản phẩm trong danh sách\n",
    "- Xoá một sản phẩm khỏi danh sách"
   ]
  },
  {
   "cell_type": "code",
   "execution_count": 56,
   "id": "8541b8c3",
   "metadata": {},
   "outputs": [
    {
     "ename": "SyntaxError",
     "evalue": "cannot assign to subscript here. Maybe you meant '==' instead of '='? (3179831165.py, line 3)",
     "output_type": "error",
     "traceback": [
      "\u001b[1;36m  Cell \u001b[1;32mIn[56], line 3\u001b[1;36m\u001b[0m\n\u001b[1;33m    if L[\"đen\"] = 0:\u001b[0m\n\u001b[1;37m       ^\u001b[0m\n\u001b[1;31mSyntaxError\u001b[0m\u001b[1;31m:\u001b[0m cannot assign to subscript here. Maybe you meant '==' instead of '='?\n"
     ]
    }
   ],
   "source": [
    "D_ma_hoa = {}\n",
    "for i in L:\n",
    "    if L[\"đen\"] = 0:\n",
    "        print('0')"
   ]
  },
  {
   "cell_type": "code",
   "execution_count": null,
   "id": "e2608aad-16d3-4483-a368-b6d5201f1488",
   "metadata": {},
   "outputs": [],
   "source": []
  }
 ],
 "metadata": {
  "kernelspec": {
   "display_name": "Python 3 (ipykernel)",
   "language": "python",
   "name": "python3"
  },
  "language_info": {
   "codemirror_mode": {
    "name": "ipython",
    "version": 3
   },
   "file_extension": ".py",
   "mimetype": "text/x-python",
   "name": "python",
   "nbconvert_exporter": "python",
   "pygments_lexer": "ipython3",
   "version": "3.12.4"
  }
 },
 "nbformat": 4,
 "nbformat_minor": 5
}
