{
 "cells": [
  {
   "cell_type": "code",
   "execution_count": 9,
   "id": "7b19e012-3029-4ea8-91cd-cd5364866388",
   "metadata": {},
   "outputs": [
    {
     "ename": "KeyboardInterrupt",
     "evalue": "",
     "output_type": "error",
     "traceback": [
      "\u001b[1;31m---------------------------------------------------------------------------\u001b[0m",
      "\u001b[1;31mKeyboardInterrupt\u001b[0m                         Traceback (most recent call last)",
      "Cell \u001b[1;32mIn[9], line 12\u001b[0m\n\u001b[0;32m      9\u001b[0m \u001b[38;5;66;03m# Open a website\u001b[39;00m\n\u001b[0;32m     10\u001b[0m driver\u001b[38;5;241m.\u001b[39mget(\u001b[38;5;124m'\u001b[39m\u001b[38;5;124mhttps://www.chatgpt.com/\u001b[39m\u001b[38;5;124m'\u001b[39m)\n\u001b[1;32m---> 12\u001b[0m \u001b[38;5;28;01mwhile\u001b[39;00m \u001b[38;5;28;01mTrue\u001b[39;00m:\n\u001b[0;32m     13\u001b[0m     \u001b[38;5;28;01mpass\u001b[39;00m\n\u001b[0;32m     14\u001b[0m \u001b[38;5;66;03m# Close the browser\u001b[39;00m\n",
      "\u001b[1;31mKeyboardInterrupt\u001b[0m: "
     ]
    }
   ],
   "source": [
    "\n",
    "from selenium import webdriver\n",
    "from selenium.webdriver.chrome.service import Service\n",
    "from selenium import webdriver.commond.by import By\n",
    "# Make sure it is .exe file\n",
    "PATH = (r\"D:\\python\\chrome driver\\chromedriver-win64\\chromedriver.exe\")\n",
    "service = Service(executable_path=PATH) \n",
    "driver = webdriver.Chrome(service=service)\n",
    "\n",
    "# Open a website\n",
    "driver.get('https://www.nhatot.com/mua-ban-bat-dong-san-tp-ho-chi-minh?page=3')\n",
    "input()\n",
    "text_area = driver.findelement(By.ID,\"prompt-textarea\")\n",
    "text_area.send_keys(\"xin chào nha\")\n",
    "\n",
    "while True:\n",
    "    pass\n",
    "# Close the browser\n",
    "driver.quit()\n"
   ]
  },
  {
   "cell_type": "code",
   "execution_count": null,
   "id": "af820c93-5619-4105-960c-eec505960e02",
   "metadata": {},
   "outputs": [],
   "source": []
  },
  {
   "cell_type": "code",
   "execution_count": null,
   "id": "061b2d47-18b0-4308-9158-15a80fb7c8de",
   "metadata": {},
   "outputs": [],
   "source": []
  },
  {
   "cell_type": "code",
   "execution_count": null,
   "id": "ff5c4de9-c316-4d22-94c1-cddcde59b1be",
   "metadata": {},
   "outputs": [],
   "source": []
  },
  {
   "cell_type": "code",
   "execution_count": null,
   "id": "e1bbaa52-ee69-46ce-944f-59379aa3f421",
   "metadata": {},
   "outputs": [],
   "source": []
  },
  {
   "cell_type": "code",
   "execution_count": null,
   "id": "7f8817fc-513b-433e-9e96-3575dd6ac485",
   "metadata": {},
   "outputs": [],
   "source": []
  },
  {
   "cell_type": "code",
   "execution_count": null,
   "id": "da0b984e-bbb0-447b-9fe6-f0fc11a54ef7",
   "metadata": {},
   "outputs": [],
   "source": []
  },
  {
   "cell_type": "code",
   "execution_count": null,
   "id": "f5251d72-899c-4aff-8b01-064ce2f2b9e0",
   "metadata": {},
   "outputs": [],
   "source": []
  },
  {
   "cell_type": "code",
   "execution_count": null,
   "id": "feb45815-9ae8-4035-ad48-ca84ae596917",
   "metadata": {},
   "outputs": [],
   "source": []
  },
  {
   "cell_type": "code",
   "execution_count": null,
   "id": "d077e941-d907-4ad1-9237-30fb9cf1392a",
   "metadata": {},
   "outputs": [],
   "source": []
  },
  {
   "cell_type": "code",
   "execution_count": null,
   "id": "4809f6dd-0415-4485-907f-fcc2d692c6ed",
   "metadata": {},
   "outputs": [],
   "source": []
  }
 ],
 "metadata": {
  "kernelspec": {
   "display_name": "Python 3 (ipykernel)",
   "language": "python",
   "name": "python3"
  },
  "language_info": {
   "codemirror_mode": {
    "name": "ipython",
    "version": 3
   },
   "file_extension": ".py",
   "mimetype": "text/x-python",
   "name": "python",
   "nbconvert_exporter": "python",
   "pygments_lexer": "ipython3",
   "version": "3.12.4"
  }
 },
 "nbformat": 4,
 "nbformat_minor": 5
}
