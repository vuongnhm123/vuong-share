{
 "cells": [
  {
   "cell_type": "code",
   "execution_count": 1,
   "id": "fd9b5af3-bd9d-449d-b09a-0090d4623d5e",
   "metadata": {},
   "outputs": [
    {
     "name": "stdout",
     "output_type": "stream",
     "text": [
      "Hai số lớn nhất trong danh sách là: 78 và 78\n"
     ]
    }
   ],
   "source": [
    "# tìm 2 số lớn nhất trong list\n",
    "def find_two_largest_numbers(num_list):\n",
    "    # Tìm số lớn nhất đầu tiên\n",
    "    first_max = max(num_list)\n",
    "    \n",
    "    # Loại bỏ số lớn nhất đầu tiên khỏi danh sách\n",
    "    num_list.remove(first_max)\n",
    "    \n",
    "    # Tìm số lớn nhất thứ hai trong danh sách còn lại\n",
    "    second_max = max(num_list)\n",
    "    \n",
    "    return first_max, second_max\n",
    "\n",
    "def main():\n",
    "    # Khởi tạo một danh sách các số cho trước\n",
    "    num_list = [10, 45, 3, 21, 78, 34, 78, 23]\n",
    "    \n",
    "    # Gọi hàm để tìm hai số lớn nhất\n",
    "    largest, second_largest = find_two_largest_numbers(num_list)\n",
    "    \n",
    "    # In kết quả\n",
    "    print(f\"Hai số lớn nhất trong danh sách là: {largest} và {second_largest}\")\n",
    "\n",
    "if __name__ == \"__main__\":\n",
    "    main()\n"
   ]
  },
  {
   "cell_type": "code",
   "execution_count": null,
   "id": "d2cef691-ed82-49d6-beda-ba15c117b8f4",
   "metadata": {},
   "outputs": [],
   "source": []
  }
 ],
 "metadata": {
  "kernelspec": {
   "display_name": "Python 3 (ipykernel)",
   "language": "python",
   "name": "python3"
  },
  "language_info": {
   "codemirror_mode": {
    "name": "ipython",
    "version": 3
   },
   "file_extension": ".py",
   "mimetype": "text/x-python",
   "name": "python",
   "nbconvert_exporter": "python",
   "pygments_lexer": "ipython3",
   "version": "3.12.4"
  }
 },
 "nbformat": 4,
 "nbformat_minor": 5
}
