{
 "cells": [
  {
   "cell_type": "code",
   "execution_count": 11,
   "id": "ce43eaa5-7128-461a-8506-138da6e829c6",
   "metadata": {},
   "outputs": [
    {
     "name": "stdout",
     "output_type": "stream",
     "text": [
      "Giá trị nhỏ nhất trong danh sách là: 10\n"
     ]
    }
   ],
   "source": [
    "#tìm số nhỏ nhất\n",
    "def find_min_value(num_list):\n",
    "    # Giả sử giá trị đầu tiên là nhỏ nhất\n",
    "    min_value = num_list[0]\n",
    "    \n",
    "    # Lặp qua từng phần tử để tìm giá trị nhỏ nhất\n",
    "    for num in num_list:\n",
    "        if num < min_value:\n",
    "            min_value = num\n",
    "    \n",
    "    return min_value\n",
    "\n",
    "# Danh sách các số cho trước\n",
    "num_list = [10, 20, 30, 40, 50]\n",
    "\n",
    "# Gọi hàm và in ra giá trị nhỏ nhất\n",
    "min_value = find_min_value(num_list)\n",
    "print(f\"Giá trị nhỏ nhất trong danh sách là: {min_value}\")\n",
    "\n"
   ]
  },
  {
   "cell_type": "code",
   "execution_count": null,
   "id": "13c572d9-5a8f-449e-83d5-d7f384b0d5c8",
   "metadata": {},
   "outputs": [],
   "source": []
  },
  {
   "cell_type": "code",
   "execution_count": null,
   "id": "a113495a-3032-40a1-a252-a62196bfa208",
   "metadata": {},
   "outputs": [],
   "source": []
  },
  {
   "cell_type": "code",
   "execution_count": null,
   "id": "5bfeef0f-a73d-4bfd-ab6f-c426db57c382",
   "metadata": {},
   "outputs": [],
   "source": []
  },
  {
   "cell_type": "code",
   "execution_count": null,
   "id": "e8a765ce-e16e-4fb5-88fd-1a9482bf270a",
   "metadata": {},
   "outputs": [],
   "source": []
  },
  {
   "cell_type": "code",
   "execution_count": null,
   "id": "bfb6a4c3-2073-4b4b-bde4-19adf5b3620f",
   "metadata": {},
   "outputs": [],
   "source": []
  },
  {
   "cell_type": "code",
   "execution_count": null,
   "id": "091f07c3-a3f6-4180-8efb-ad9ea7f2d838",
   "metadata": {},
   "outputs": [],
   "source": []
  },
  {
   "cell_type": "code",
   "execution_count": null,
   "id": "057d0315-60f5-44b3-ba83-6788ac6f1de2",
   "metadata": {},
   "outputs": [],
   "source": []
  },
  {
   "cell_type": "code",
   "execution_count": null,
   "id": "603c4f40-f665-40fe-9d04-014c628ef3e8",
   "metadata": {},
   "outputs": [],
   "source": []
  },
  {
   "cell_type": "code",
   "execution_count": null,
   "id": "9e6a7d47-1c43-4cb3-bc94-ecb1f723e5f7",
   "metadata": {},
   "outputs": [],
   "source": []
  },
  {
   "cell_type": "code",
   "execution_count": null,
   "id": "7a950a0a-67db-49c5-b3ac-7f3c9be6bfbf",
   "metadata": {},
   "outputs": [],
   "source": []
  },
  {
   "cell_type": "code",
   "execution_count": null,
   "id": "5ad93897-1e8c-4685-be63-d61734a1e7c5",
   "metadata": {},
   "outputs": [],
   "source": []
  }
 ],
 "metadata": {
  "kernelspec": {
   "display_name": "Python 3 (ipykernel)",
   "language": "python",
   "name": "python3"
  },
  "language_info": {
   "codemirror_mode": {
    "name": "ipython",
    "version": 3
   },
   "file_extension": ".py",
   "mimetype": "text/x-python",
   "name": "python",
   "nbconvert_exporter": "python",
   "pygments_lexer": "ipython3",
   "version": "3.12.4"
  }
 },
 "nbformat": 4,
 "nbformat_minor": 5
}
