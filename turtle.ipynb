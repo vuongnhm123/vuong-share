{
 "cells": [
  {
   "cell_type": "code",
   "execution_count": null,
   "id": "4b055c7a-21de-4944-aeb3-cef97527975b",
   "metadata": {},
   "outputs": [],
   "source": []
  },
  {
   "cell_type": "code",
   "execution_count": 3,
   "id": "3af917e4-90e9-403b-9637-b76059be2b0e",
   "metadata": {},
   "outputs": [
    {
     "name": "stdout",
     "output_type": "stream",
     "text": [
      "Rất tiếc! Con rùa brown đã thắng. Bạn đã đoán sai.\n",
      "Rất tiếc! Con rùa green đã thắng. Bạn đã đoán sai.\n",
      "Rất tiếc! Con rùa orange đã thắng. Bạn đã đoán sai.\n",
      "Rất tiếc! Con rùa pink đã thắng. Bạn đã đoán sai.\n"
     ]
    }
   ],
   "source": [
    "import turtle as t\n",
    "import random\n",
    "\n",
    "# Thiết lập màn hình\n",
    "screen = t.Screen()\n",
    "screen.setup(height=500, width=600)\n",
    "\n",
    "# Nhập dự đoán của người dùng\n",
    "guess = screen.textinput(\n",
    "    prompt=\"Dự đoán con rùa nào chiến thắng?\", \n",
    "    title=\"Nhập vào màu rùa (đỏ, nâu, xanh dương, xanh lá cây, cam, hồng)\"\n",
    ")\n",
    "\n",
    "# Danh sách màu sắc và vị trí của rùa\n",
    "colors = [\"red\", \"brown\", \"blue\", \"green\", \"orange\", \"pink\"]\n",
    "y_position = [0, -30, 30, -60, 60, 90]\n",
    "turtle_speed = [5, 10, 15, 20, 25, 30]\n",
    "\n",
    "# Tạo các con rùa\n",
    "all_turtles = []\n",
    "for i in range(6):\n",
    "    new_turtle = t.Turtle(shape=\"turtle\")\n",
    "    new_turtle.penup()\n",
    "    new_turtle.goto(x=-250, y=y_position[i])\n",
    "    new_turtle.color(colors[i])\n",
    "    all_turtles.append(new_turtle)\n",
    "\n",
    "# Hàm di chuyển ngẫu nhiên cho các con rùa\n",
    "def random_walk(turtles):\n",
    "    global run\n",
    "    for turtle in turtles:\n",
    "        turtle.forward(random.choice(turtle_speed))\n",
    "        if turtle.xcor() > 250:\n",
    "            run = False\n",
    "            winning_color = turtle.pencolor()\n",
    "            if winning_color == guess:\n",
    "                print(f\"Chúc mừng! Con rùa {winning_color} đã thắng và bạn đã đoán đúng!\")\n",
    "            else:\n",
    "                print(f\"Rất tiếc! Con rùa {winning_color} đã thắng. Bạn đã đoán sai.\")\n",
    "\n",
    "# Bắt đầu cuộc đua\n",
    "run = True\n",
    "while run:\n",
    "    random_walk(all_turtles)\n",
    "\n",
    "screen.exitonclick()\n"
   ]
  },
  {
   "cell_type": "code",
   "execution_count": null,
   "id": "3a4cd6d2-f8db-460b-956e-27a373cfc5f7",
   "metadata": {},
   "outputs": [],
   "source": []
  },
  {
   "cell_type": "code",
   "execution_count": null,
   "id": "1de0a30a-9037-4327-a61b-7d73ab178d7b",
   "metadata": {},
   "outputs": [],
   "source": []
  }
 ],
 "metadata": {
  "kernelspec": {
   "display_name": "Python 3 (ipykernel)",
   "language": "python",
   "name": "python3"
  },
  "language_info": {
   "codemirror_mode": {
    "name": "ipython",
    "version": 3
   },
   "file_extension": ".py",
   "mimetype": "text/x-python",
   "name": "python",
   "nbconvert_exporter": "python",
   "pygments_lexer": "ipython3",
   "version": "3.12.4"
  }
 },
 "nbformat": 4,
 "nbformat_minor": 5
}
