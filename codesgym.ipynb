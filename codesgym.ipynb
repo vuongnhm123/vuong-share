{
 "cells": [
  {
   "cell_type": "code",
   "execution_count": null,
   "id": "d4665dda-c797-4602-858e-e1a20c95963b",
   "metadata": {},
   "outputs": [],
   "source": [
    "\n",
    "f = float(input(\"Nhập nhiệt độ: \"))\n",
    "a = (f * 1.8) + 32\n",
    "print(f\"Temperature in Fahrenheit: {a}\")"
   ]
  },
  {
   "cell_type": "code",
   "execution_count": 2,
   "id": "9e99294a-355c-49ee-9084-c7f2ea777cdc",
   "metadata": {},
   "outputs": [
    {
     "name": "stdin",
     "output_type": "stream",
     "text": [
      "Enter the radius:  100\n"
     ]
    },
    {
     "name": "stdout",
     "output_type": "stream",
     "text": [
      "Chu vi của hình tròn có bán kính = 100 là 628.3185307179587\n",
      "Diện tích của hình tròn có bán kính = 100 là 31415.926535897932\n"
     ]
    }
   ],
   "source": [
    "#[Thực hành] Tính chu vi và diện tích hình tròn\n",
    "import turtle\n",
    "import math\n",
    "\n",
    "r = int(input(\"Enter the radius: \"))\n",
    "t = turtle.Turtle()\n",
    "t.hideturtle()\n",
    "t.pensize(1)\n",
    "t.color(\"red\")\n",
    "t.circle(r)\n",
    "turtle.done()\n",
    "\n",
    "c = 2 * math.pi * r\n",
    "s = math.pi * r * r\n",
    "\n",
    "\n",
    "print(\"Chu vi của hình tròn có bán kính = {r} là {c}\".format(r=r, c=c))\n",
    "print(\"Diện tích của hình tròn có bán kính = {r} là {s}\".format(r=r, s=s))"
   ]
  },
  {
   "cell_type": "code",
   "execution_count": null,
   "id": "cfa4af3f-bd58-45d1-b918-8ee6826b395c",
   "metadata": {},
   "outputs": [],
   "source": []
  },
  {
   "cell_type": "code",
   "execution_count": 3,
   "id": "0ba8cac2-296e-4f09-8250-d267dcf8f1ae",
   "metadata": {},
   "outputs": [
    {
     "name": "stdin",
     "output_type": "stream",
     "text": [
      "Nhập số tiền USD cần chuyển đổi:  100\n"
     ]
    },
    {
     "name": "stdout",
     "output_type": "stream",
     "text": [
      "100.0 USD = 2500000.00 VND\n"
     ]
    }
   ],
   "source": [
    "#Ứng dụng chuyển đổi tiền tệ cho phép tính giá trị tiền tệ giữa các đồng tiền khác nhau dựa vào một tỉ giá cho trước.\n",
    "def convert_usd_to_vnd(usd_amount, exchange_rate):\n",
    "    \n",
    "    return usd_amount * exchange_rate\n",
    "\n",
    "def main():\n",
    "    print\n",
    "    \n",
    "    usd_amount = float(input(\"Nhập số tiền USD cần chuyển đổi: \"))\n",
    "    \n",
    "    exchange_rate = 25000.0  \n",
    "    \n",
    "    vnd_amount = convert_usd_to_vnd(usd_amount, exchange_rate)\n",
    "    \n",
    "   \n",
    "    print(f\"{usd_amount} USD = {vnd_amount:.2f} VND\")\n",
    "\n",
    "if __name__ == \"__main__\":\n",
    "    main()\n"
   ]
  },
  {
   "cell_type": "code",
   "execution_count": 6,
   "id": "be87c922-9ba0-4529-8d68-acb2d3845eb6",
   "metadata": {},
   "outputs": [
    {
     "name": "stdout",
     "output_type": "stream",
     "text": [
      "Chương trình kiểm tra số chẵn hay lẻ\n"
     ]
    },
    {
     "name": "stdin",
     "output_type": "stream",
     "text": [
      "Nhập vào một số nguyên:  10\n"
     ]
    },
    {
     "name": "stdout",
     "output_type": "stream",
     "text": [
      "10 là Số chẵn.\n"
     ]
    }
   ],
   "source": [
    "#[Bài tập] Luyện tập với toán tử ba ngôi\n",
    "def check_even_or_odd(number):\n",
    "    # Kiểm tra nếu số nguyên chia hết cho 2\n",
    "    if number % 2 == 0:\n",
    "        return \"Số chẵn\"\n",
    "    else:\n",
    "        return \"Số lẻ\"\n",
    "\n",
    "def main():\n",
    "    print(\"Chương trình kiểm tra số chẵn hay lẻ\")\n",
    "    \n",
    "    # Nhập số nguyên từ người dùng\n",
    "    try:\n",
    "        number = int(input(\"Nhập vào một số nguyên: \"))\n",
    "        \n",
    "        # Kiểm tra số đó là chẵn hay lẻ\n",
    "        result = check_even_or_odd(number)\n",
    "        \n",
    "        # Hiển thị kết quả\n",
    "        print(f\"{number} là {result}.\")\n",
    "    except ValueError:\n",
    "        print(\"Vui lòng nhập một số nguyên hợp lệ.\")\n",
    "\n",
    "if __name__ == \"__main__\":\n",
    "    main()\n"
   ]
  },
  {
   "cell_type": "code",
   "execution_count": null,
   "id": "09e39078-e829-4e9c-9eda-2a6795f04ec2",
   "metadata": {},
   "outputs": [],
   "source": []
  },
  {
   "cell_type": "code",
   "execution_count": null,
   "id": "bfa6c54c-f269-4d22-a347-b0f6b613a21d",
   "metadata": {},
   "outputs": [],
   "source": []
  },
  {
   "cell_type": "code",
   "execution_count": null,
   "id": "b8fe0049-f7e2-4fe3-acd9-9aa105093887",
   "metadata": {},
   "outputs": [],
   "source": []
  }
 ],
 "metadata": {
  "kernelspec": {
   "display_name": "Python 3 (ipykernel)",
   "language": "python",
   "name": "python3"
  },
  "language_info": {
   "codemirror_mode": {
    "name": "ipython",
    "version": 3
   },
   "file_extension": ".py",
   "mimetype": "text/x-python",
   "name": "python",
   "nbconvert_exporter": "python",
   "pygments_lexer": "ipython3",
   "version": "3.12.4"
  }
 },
 "nbformat": 4,
 "nbformat_minor": 5
}
