{
 "cells": [
  {
   "cell_type": "code",
   "execution_count": null,
   "id": "2bea6d1a-a156-44c5-a79f-10ec2034cabf",
   "metadata": {},
   "outputs": [
    {
     "name": "stdin",
     "output_type": "stream",
     "text": [
      "Bạn cảm thấy thoải mái khi làm quen với người lạ?\n",
      " a. Có\n",
      " b. Không\n",
      "Chọn (a/b):  a\n"
     ]
    }
   ],
   "source": [
    "# Hàm hiển thị một câu hỏi và lấy câu trả lời từ người dùng\n",
    "def ask_question(question, option_a, option_b):\n",
    "    while True:\n",
    "        answer = input(f\"{question}\\n a. {option_a}\\n b. {option_b}\\nChọn (a/b): \").lower()\n",
    "        if answer in ['a', 'b']:\n",
    "            return answer\n",
    "        else:\n",
    "            print(\"Vui lòng chọn 'a' hoặc 'b'.\")\n",
    "\n",
    "# Hàm tính điểm cho một loại tính cách cụ thể dựa trên câu trả lời\n",
    "def calculate_score(answers):\n",
    "    score = {\n",
    "        \"E\": answers.count(\"E\"),\n",
    "        \"I\": answers.count(\"I\"),\n",
    "        \"S\": answers.count(\"S\"),\n",
    "        \"N\": answers.count(\"N\"),\n",
    "        \"T\": answers.count(\"T\"),\n",
    "        \"F\": answers.count(\"F\"),\n",
    "        \"J\": answers.count(\"J\"),\n",
    "        \"P\": answers.count(\"P\"),\n",
    "    }\n",
    "    return score\n",
    "\n",
    "# Hàm xác định loại MBTI dựa trên điểm số\n",
    "def determine_mbti(score):\n",
    "    mbti = \"\"\n",
    "    mbti += \"E\" if score[\"E\"] >= score[\"I\"] else \"I\"\n",
    "    mbti += \"S\" if score[\"S\"] >= score[\"N\"] else \"N\"\n",
    "    mbti += \"T\" if score[\"T\"] >= score[\"F\"] else \"F\"\n",
    "    mbti += \"J\" if score[\"J\"] >= score[\"P\"] else \"P\"\n",
    "    return mbti\n",
    "\n",
    "# Hàm xử lý từng câu hỏi và trả về danh sách câu trả lời\n",
    "def process_questions(questions):\n",
    "    answers = []\n",
    "    for q, (option_a, option_b, personality_a, personality_b) in questions.items():\n",
    "        answer = ask_question(q, option_a, option_b)\n",
    "        if answer == 'a':\n",
    "            answers.append(personality_a)\n",
    "        else:\n",
    "            answers.append(personality_b)\n",
    "    return answers\n",
    "\n",
    "# Hàm chính để chạy chương trình\n",
    "def main():\n",
    "    questions = {\n",
    "        \"Bạn cảm thấy thoải mái khi làm quen với người lạ?\": (\"Có\", \"Không\", \"E\", \"I\"),\n",
    "        \"Bạn thường chú trọng đến các chi tiết nhỏ?\": (\"Có\", \"Không\", \"S\", \"N\"),\n",
    "        \"Bạn đưa ra quyết định dựa trên lý trí?\": (\"Có\", \"Không\", \"T\", \"F\"),\n",
    "        \"Bạn thích lên kế hoạch chi tiết trước khi làm?\": (\"Có\", \"Không\", \"J\", \"P\")\n",
    "    }\n",
    "\n",
    "    # Xử lý các câu hỏi và lấy câu trả lời\n",
    "    answers = process_questions(questions)\n",
    "    \n",
    "    # Tính điểm dựa trên câu trả lời\n",
    "    score = calculate_score(answers)\n",
    "\n",
    "    # Xác định loại MBTI\n",
    "    mbti_type = determine_mbti(score)\n",
    "    \n",
    "    print(f\"Loại tính cách MBTI của bạn là: {mbti_type}\")\n",
    "\n",
    "if __name__ == \"__main__\":\n",
    "    main()\n"
   ]
  },
  {
   "cell_type": "code",
   "execution_count": null,
   "id": "a7e11522-8704-4e4d-871c-d9abdb648b4a",
   "metadata": {},
   "outputs": [],
   "source": []
  }
 ],
 "metadata": {
  "kernelspec": {
   "display_name": "Python 3 (ipykernel)",
   "language": "python",
   "name": "python3"
  },
  "language_info": {
   "codemirror_mode": {
    "name": "ipython",
    "version": 3
   },
   "file_extension": ".py",
   "mimetype": "text/x-python",
   "name": "python",
   "nbconvert_exporter": "python",
   "pygments_lexer": "ipython3",
   "version": "3.12.4"
  }
 },
 "nbformat": 4,
 "nbformat_minor": 5
}
