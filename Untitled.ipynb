{
 "cells": [
  {
   "cell_type": "code",
   "execution_count": 7,
   "id": "41a8e190-0f33-47fc-bdbe-b3443318e883",
   "metadata": {},
   "outputs": [
    {
     "name": "stdin",
     "output_type": "stream",
     "text": [
      "nhập số: 8\n"
     ]
    },
    {
     "name": "stdout",
     "output_type": "stream",
     "text": [
      "a la so chan\n"
     ]
    }
   ],
   "source": [
    "#Viết một hàm Python để kiểm tra xem một số có phải là số chẵn hay số lẻ không và trả về kết quả tương ứng.\n",
    "a = float(input (\"nhập số:\"))\n",
    "if (a%2==0):\n",
    "    print(\"a la so chan\")\n",
    "else:\n",
    "    print(\"a la so le\")"
   ]
  },
  {
   "cell_type": "code",
   "execution_count": null,
   "id": "85a1eeda-a428-4808-a105-f5a8f4ee3e89",
   "metadata": {},
   "outputs": [],
   "source": []
  },
  {
   "cell_type": "code",
   "execution_count": 11,
   "id": "b66c3c7c-22d8-4c15-8af7-d3c33d3d4e19",
   "metadata": {},
   "outputs": [
    {
     "name": "stdin",
     "output_type": "stream",
     "text": [
      "nhập năm sinh: 1991\n"
     ]
    },
    {
     "name": "stdout",
     "output_type": "stream",
     "text": [
      "33.0\n"
     ]
    }
   ],
   "source": [
    "a = float(input (\"nhập năm sinh:\"))\n",
    "age = 2024 - a\n",
    "print(age)\n"
   ]
  },
  {
   "cell_type": "code",
   "execution_count": 24,
   "id": "d7e449d4-5d95-4400-b814-2ba7680f9d9b",
   "metadata": {},
   "outputs": [
    {
     "name": "stdin",
     "output_type": "stream",
     "text": [
      "nhập chuỗi: aaaaaaaaaaaaaaaa\n"
     ]
    },
    {
     "name": "stdout",
     "output_type": "stream",
     "text": [
      "16\n",
      "yes\n"
     ]
    }
   ],
   "source": [
    "a = input (\"nhập chuỗi:\")\n",
    "b = a.count(\"a\")\n",
    "print(b)\n",
    "if \"a\" in a:\n",
    "    print (\"yes\")\n",
    "else:\n",
    "    print (\"no\")"
   ]
  },
  {
   "cell_type": "code",
   "execution_count": null,
   "id": "3a833112-ed6d-4f3d-a41e-82aef5793ae4",
   "metadata": {},
   "outputs": [],
   "source": [
    "#Nhập vào giá trị độ °C muốn chuyển đổi\n",
    "#Tính độ °F tương ứng qua công thức:\n",
    "#°F  =  ( °C × 1.8 ) +  32\n",
    "#Hiển thị độ °F (In ra màn hình)"
   ]
  },
  {
   "cell_type": "code",
   "execution_count": null,
   "id": "b1a9f7ba-0c3b-4565-9209-cd32d840d695",
   "metadata": {},
   "outputs": [],
   "source": [
    "f = float(input(\"Nhập nhiệt độ:\"))\n",
    "a = (f * 1.8) +32\n",
    "print(a)"
   ]
  },
  {
   "cell_type": "code",
   "execution_count": null,
   "id": "429603d8-44da-4692-aa19-8dd529e7831d",
   "metadata": {},
   "outputs": [],
   "source": []
  },
  {
   "cell_type": "code",
   "execution_count": 4,
   "id": "6156e7ca-5792-409b-921b-68a7247362b2",
   "metadata": {},
   "outputs": [
    {
     "name": "stdin",
     "output_type": "stream",
     "text": [
      "Nhập nhiệt độ (Celsius):  10\n"
     ]
    },
    {
     "name": "stdout",
     "output_type": "stream",
     "text": [
      "Temperature in Fahrenheit: 50.0\n"
     ]
    }
   ],
   "source": [
    "# Input temperature in Celsius\n",
    "f = float(input(\"Nhập nhiệt độ (Celsius): \"))\n",
    "\n",
    "# Convert Celsius to Fahrenheit\n",
    "a = (f * 1.8) + 32\n",
    "\n",
    "# Print the result\n",
    "print(f\"Temperature in Fahrenheit: {a}\")\n"
   ]
  },
  {
   "cell_type": "code",
   "execution_count": null,
   "id": "a4191412-fe1b-4d56-b9c0-3eb18a941fe2",
   "metadata": {},
   "outputs": [],
   "source": []
  },
  {
   "cell_type": "code",
   "execution_count": null,
   "id": "1bbeca96-f0a9-4fc3-b836-09dd128a7db2",
   "metadata": {},
   "outputs": [],
   "source": []
  },
  {
   "cell_type": "code",
   "execution_count": null,
   "id": "d279a840-0def-43a8-b6e5-346765d9deca",
   "metadata": {},
   "outputs": [],
   "source": []
  },
  {
   "cell_type": "code",
   "execution_count": null,
   "id": "66ca36ca-7e48-49eb-9909-2e8765d128b9",
   "metadata": {},
   "outputs": [],
   "source": []
  },
  {
   "cell_type": "code",
   "execution_count": null,
   "id": "de306cbf-5dba-4241-a739-c0e336c84136",
   "metadata": {},
   "outputs": [],
   "source": []
  },
  {
   "cell_type": "code",
   "execution_count": null,
   "id": "ef7bfb3e-74f5-44cc-9128-5428b68ca656",
   "metadata": {},
   "outputs": [],
   "source": []
  },
  {
   "cell_type": "code",
   "execution_count": null,
   "id": "e3f82a9c-3242-47e3-863f-ee494a9e4e93",
   "metadata": {},
   "outputs": [],
   "source": []
  },
  {
   "cell_type": "code",
   "execution_count": null,
   "id": "96f5bd4a-cae0-4bd9-8881-16b318b81018",
   "metadata": {},
   "outputs": [],
   "source": []
  },
  {
   "cell_type": "code",
   "execution_count": null,
   "id": "e8d5561a-9875-4281-ad65-e6334254fb28",
   "metadata": {},
   "outputs": [],
   "source": []
  },
  {
   "cell_type": "code",
   "execution_count": null,
   "id": "208a3cad-968d-441f-ab46-b200011b6dbe",
   "metadata": {},
   "outputs": [],
   "source": []
  },
  {
   "cell_type": "code",
   "execution_count": null,
   "id": "19654d4f-6837-4d69-8ceb-65d88387b08d",
   "metadata": {},
   "outputs": [],
   "source": []
  },
  {
   "cell_type": "code",
   "execution_count": null,
   "id": "b91b6615-5368-4475-9de5-7d9671e817b3",
   "metadata": {},
   "outputs": [],
   "source": []
  },
  {
   "cell_type": "code",
   "execution_count": null,
   "id": "69e166a1-66f6-4c77-9823-a9190580a0c2",
   "metadata": {},
   "outputs": [],
   "source": []
  },
  {
   "cell_type": "code",
   "execution_count": null,
   "id": "07aa3774-4910-44b9-ba76-fbd0a109e2e5",
   "metadata": {},
   "outputs": [],
   "source": []
  },
  {
   "cell_type": "code",
   "execution_count": null,
   "id": "54cc3ac4-2193-4a63-a1bb-d70ea7d33996",
   "metadata": {},
   "outputs": [],
   "source": []
  },
  {
   "cell_type": "code",
   "execution_count": null,
   "id": "6326d041-4af1-4c29-8f82-665bee5a45f7",
   "metadata": {},
   "outputs": [],
   "source": []
  },
  {
   "cell_type": "code",
   "execution_count": null,
   "id": "1458e04f-fae8-4cd4-a842-b79545738ea7",
   "metadata": {},
   "outputs": [],
   "source": []
  },
  {
   "cell_type": "code",
   "execution_count": null,
   "id": "4694087e-a0f0-42f0-8965-a263793bc2ff",
   "metadata": {},
   "outputs": [],
   "source": []
  },
  {
   "cell_type": "code",
   "execution_count": null,
   "id": "b4e93608-fc99-4f64-90f5-e7cbc2b61a4c",
   "metadata": {},
   "outputs": [],
   "source": []
  },
  {
   "cell_type": "code",
   "execution_count": null,
   "id": "2297578d-9002-463e-92c8-58d28224ad6f",
   "metadata": {},
   "outputs": [],
   "source": []
  },
  {
   "cell_type": "code",
   "execution_count": null,
   "id": "6c3a428f-fce6-4f56-9440-b78f3e4a20f9",
   "metadata": {},
   "outputs": [],
   "source": []
  },
  {
   "cell_type": "code",
   "execution_count": null,
   "id": "16d8805a-5293-477e-bf80-f4ab945b4273",
   "metadata": {},
   "outputs": [],
   "source": []
  }
 ],
 "metadata": {
  "kernelspec": {
   "display_name": "Python 3 (ipykernel)",
   "language": "python",
   "name": "python3"
  },
  "language_info": {
   "codemirror_mode": {
    "name": "ipython",
    "version": 3
   },
   "file_extension": ".py",
   "mimetype": "text/x-python",
   "name": "python",
   "nbconvert_exporter": "python",
   "pygments_lexer": "ipython3",
   "version": "3.12.4"
  }
 },
 "nbformat": 4,
 "nbformat_minor": 5
}
