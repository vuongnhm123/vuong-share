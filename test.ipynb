{
 "cells": [
  {
   "cell_type": "code",
   "execution_count": 1,
   "id": "0f80339f-9647-4023-ba06-63705a55068c",
   "metadata": {},
   "outputs": [
    {
     "name": "stdout",
     "output_type": "stream",
     "text": [
      "hello\n"
     ]
    }
   ],
   "source": [
    "print('hello')"
   ]
  },
  {
   "cell_type": "code",
   "execution_count": 2,
   "id": "75f20323-a0ec-4605-a4ce-a64f081ac8fb",
   "metadata": {},
   "outputs": [],
   "source": [
    "import turtle\n",
    "\n",
    "t = turtle.Turtle()\n",
    "\n",
    "for i in range(4):\n",
    "    t.fd(100)\n",
    "    t.right(90)\n",
    "\n",
    "t.penup()\n",
    "t.fd(200)\n",
    "t.pendown()\n",
    "\n",
    "for i in range(4):\n",
    "    t.fd(100)\n",
    "    t.right(90)"
   ]
  },
  {
   "cell_type": "code",
   "execution_count": 1,
   "id": "ca1b0515-2d67-4e3b-a836-154e776992b0",
   "metadata": {},
   "outputs": [
    {
     "ename": "AttributeError",
     "evalue": "'DataFrame' object has no attribute 'add_perfix'",
     "output_type": "error",
     "traceback": [
      "\u001b[1;31m---------------------------------------------------------------------------\u001b[0m",
      "\u001b[1;31mAttributeError\u001b[0m                            Traceback (most recent call last)",
      "\u001b[1;32m~\\AppData\\Local\\Temp\\ipykernel_6648\\1525489519.py\u001b[0m in \u001b[0;36m?\u001b[1;34m()\u001b[0m\n\u001b[0;32m      7\u001b[0m \u001b[1;33m\u001b[0m\u001b[0m\n\u001b[0;32m      8\u001b[0m \u001b[0mdf_flights_airlines\u001b[0m \u001b[1;33m=\u001b[0m \u001b[0mflights\u001b[0m\u001b[1;33m.\u001b[0m\u001b[0mmerge\u001b[0m\u001b[1;33m(\u001b[0m\u001b[0mairlines\u001b[0m\u001b[1;33m,\u001b[0m\u001b[0mon\u001b[0m\u001b[1;33m=\u001b[0m\u001b[1;34m\"carrier_code\"\u001b[0m\u001b[1;33m)\u001b[0m\u001b[1;33m\u001b[0m\u001b[1;33m\u001b[0m\u001b[0m\n\u001b[0;32m      9\u001b[0m \u001b[0mdf_flights_airlines\u001b[0m\u001b[1;33m.\u001b[0m\u001b[0mto_csv\u001b[0m\u001b[1;33m(\u001b[0m\u001b[1;34m\"flights_airlines.csv\"\u001b[0m\u001b[1;33m)\u001b[0m\u001b[1;33m\u001b[0m\u001b[1;33m\u001b[0m\u001b[0m\n\u001b[0;32m     10\u001b[0m \u001b[1;33m\u001b[0m\u001b[0m\n\u001b[1;32m---> 11\u001b[1;33m \u001b[0morigin_airport\u001b[0m \u001b[1;33m=\u001b[0m \u001b[0mairports\u001b[0m\u001b[1;33m.\u001b[0m\u001b[0madd_perfix\u001b[0m\u001b[1;33m(\u001b[0m\u001b[1;34m\"origin\"\u001b[0m\u001b[1;33m)\u001b[0m\u001b[1;33m\u001b[0m\u001b[1;33m\u001b[0m\u001b[0m\n\u001b[0m\u001b[0;32m     12\u001b[0m \u001b[0mdestination_airports\u001b[0m \u001b[1;33m=\u001b[0m \u001b[0mairports\u001b[0m\u001b[1;33m.\u001b[0m\u001b[0madd_perfix\u001b[0m\u001b[1;33m(\u001b[0m\u001b[1;34m\"destionation_\"\u001b[0m\u001b[1;33m)\u001b[0m\u001b[1;33m\u001b[0m\u001b[1;33m\u001b[0m\u001b[0m\n\u001b[0;32m     13\u001b[0m \u001b[0mprint\u001b[0m\u001b[1;33m(\u001b[0m\u001b[0morigin_airports\u001b[0m\u001b[1;33m)\u001b[0m\u001b[1;33m\u001b[0m\u001b[1;33m\u001b[0m\u001b[0m\n",
      "\u001b[1;32m~\\AppData\\Local\\Programs\\Python\\Python312\\Lib\\site-packages\\pandas\\core\\generic.py\u001b[0m in \u001b[0;36m?\u001b[1;34m(self, name)\u001b[0m\n\u001b[0;32m   6295\u001b[0m             \u001b[1;32mand\u001b[0m \u001b[0mname\u001b[0m \u001b[1;32mnot\u001b[0m \u001b[1;32min\u001b[0m \u001b[0mself\u001b[0m\u001b[1;33m.\u001b[0m\u001b[0m_accessors\u001b[0m\u001b[1;33m\u001b[0m\u001b[1;33m\u001b[0m\u001b[0m\n\u001b[0;32m   6296\u001b[0m             \u001b[1;32mand\u001b[0m \u001b[0mself\u001b[0m\u001b[1;33m.\u001b[0m\u001b[0m_info_axis\u001b[0m\u001b[1;33m.\u001b[0m\u001b[0m_can_hold_identifiers_and_holds_name\u001b[0m\u001b[1;33m(\u001b[0m\u001b[0mname\u001b[0m\u001b[1;33m)\u001b[0m\u001b[1;33m\u001b[0m\u001b[1;33m\u001b[0m\u001b[0m\n\u001b[0;32m   6297\u001b[0m         \u001b[1;33m)\u001b[0m\u001b[1;33m:\u001b[0m\u001b[1;33m\u001b[0m\u001b[1;33m\u001b[0m\u001b[0m\n\u001b[0;32m   6298\u001b[0m             \u001b[1;32mreturn\u001b[0m \u001b[0mself\u001b[0m\u001b[1;33m[\u001b[0m\u001b[0mname\u001b[0m\u001b[1;33m]\u001b[0m\u001b[1;33m\u001b[0m\u001b[1;33m\u001b[0m\u001b[0m\n\u001b[1;32m-> 6299\u001b[1;33m         \u001b[1;32mreturn\u001b[0m \u001b[0mobject\u001b[0m\u001b[1;33m.\u001b[0m\u001b[0m__getattribute__\u001b[0m\u001b[1;33m(\u001b[0m\u001b[0mself\u001b[0m\u001b[1;33m,\u001b[0m \u001b[0mname\u001b[0m\u001b[1;33m)\u001b[0m\u001b[1;33m\u001b[0m\u001b[1;33m\u001b[0m\u001b[0m\n\u001b[0m",
      "\u001b[1;31mAttributeError\u001b[0m: 'DataFrame' object has no attribute 'add_perfix'"
     ]
    }
   ],
   "source": [
    "import pandas\n",
    "\n",
    "aircraft = pandas.read_csv(\"ontimeperformance_aircrafts(cleaned).csv\")\n",
    "airlines = pandas.read_csv(\"ontimeperformance_airlines.csv\")\n",
    "airports = pandas.read_csv(\"ontimeperformance_airports.csv\")\n",
    "flights = pandas.read_csv(\"ontimeperformance_flights_small.csv\")\n",
    "\n",
    "df_flights_airlines = flights.merge(airlines,on=\"carrier_code\")\n",
    "df_flights_airlines.to_csv(\"flights_airlines.csv\")\n",
    "\n",
    "origin_airport = airports.add_perfix(\"origin\")\n",
    "destination_airports = airports.add_perfix(\"destionation_\")\n",
    "print(origin_airports)"
   ]
  },
  {
   "cell_type": "code",
   "execution_count": null,
   "id": "c4caeb71-374c-4610-9fda-526b9707ec04",
   "metadata": {},
   "outputs": [],
   "source": []
  },
  {
   "cell_type": "code",
   "execution_count": null,
   "id": "09b1c093-4b48-4255-91dd-df714a6e898c",
   "metadata": {},
   "outputs": [],
   "source": []
  },
  {
   "cell_type": "code",
   "execution_count": 1,
   "id": "7cf31a40-7a74-4d2b-bb0b-e148e3135e94",
   "metadata": {},
   "outputs": [],
   "source": [
    "import turtle\n",
    "t = turtle.Turtle()\n",
    "for i in range(4):    \n",
    "    t.fd(100)\n",
    "    t.right(90)\n",
    "t.penup()\n"
   ]
  },
  {
   "cell_type": "code",
   "execution_count": 1,
   "id": "9a666637-6178-4518-bd4a-2cdb7bc3b134",
   "metadata": {},
   "outputs": [],
   "source": [
    "import turtle\n",
    "t = turtle.Turtle()\n",
    "t.color(\"red\",\"blue\")\n",
    "t.begin_fill()\n",
    "for i in range(3):\n",
    "    \n",
    "        t.right(60)\n",
    "        t.fd(100)\n",
    "        t.right(60) \n",
    "t.end_fill()\n",
    "    \n"
   ]
  },
  {
   "cell_type": "code",
   "execution_count": 1,
   "id": "bc2b2fb5-64a5-4209-9194-546d630c685b",
   "metadata": {},
   "outputs": [],
   "source": [
    "import turtle\n",
    "t=turtle.Turtle()\n",
    "t.color(\"blue\",\"yellow\")\n",
    "t.begin_fill()\n",
    "for i in range(5):\n",
    "    t.right(60)\n",
    "    t.fd(100)\n",
    "    t.right(90)\n",
    "t.end_fill()   "
   ]
  },
  {
   "cell_type": "code",
   "execution_count": 1,
   "id": "7f87fa73-350f-47dd-af90-3856ce3c49f9",
   "metadata": {},
   "outputs": [],
   "source": [
    "import turtle\n",
    "t=turtle.Turtle()\n",
    "t.circle(100)"
   ]
  },
  {
   "cell_type": "code",
   "execution_count": null,
   "id": "31091eff-8ec0-4bab-9141-58c84ca93a70",
   "metadata": {},
   "outputs": [],
   "source": [
    "import turtle\n",
    "t=turtle.Turtle()\n"
   ]
  }
 ],
 "metadata": {
  "kernelspec": {
   "display_name": "Python 3 (ipykernel)",
   "language": "python",
   "name": "python3"
  },
  "language_info": {
   "codemirror_mode": {
    "name": "ipython",
    "version": 3
   },
   "file_extension": ".py",
   "mimetype": "text/x-python",
   "name": "python",
   "nbconvert_exporter": "python",
   "pygments_lexer": "ipython3",
   "version": "3.12.4"
  }
 },
 "nbformat": 4,
 "nbformat_minor": 5
}
