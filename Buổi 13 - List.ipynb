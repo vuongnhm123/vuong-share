{
 "cells": [
  {
   "cell_type": "markdown",
   "id": "fad0ff18",
   "metadata": {},
   "source": [
    "# List\n",
    "\n",
    "### Đặt vấn đề\n",
    "\n",
    "Nếu như ta có một lượng dữ liệu không biết trước được số lượng cần lưu vào biến, ta không thể lưu bằng cách thông thường\n",
    "\n",
    "Lấy ví dụ:\n",
    "\n",
    "Nhập vào số n, sau đó nhập tiếp n số và lưu trữ n số đó vào biến\n",
    "\n",
    "Vậy ta hoàn toàn không biết được người dùng sẽ nhập bao nhiêu số để lưu trữ\n",
    "\n",
    "Lúc này ta cần đến List\n",
    "\n",
    "List giúp chúng ta lưu nhiều giá trị cùng 1 lúc, nhưng chỉ cần đặt tên cho nó lần\n",
    "\n",
    "##### Tài liệu tham khảo: https://www.w3schools.com/python/python_lists.asp"
   ]
  },
  {
   "cell_type": "markdown",
   "id": "4ca9e91e",
   "metadata": {},
   "source": [
    "### Cách thức khai báo List\n",
    "\n",
    "Cú pháp:\n",
    "\n",
    "`<tên list> = []`\n",
    "\n",
    "##### List được khai báo bằng 2 dấu ngoặc vuông\n",
    "\n",
    "<b> Ví dụ 1: </b>\n",
    "\n",
    "`a = []`\n",
    "\n",
    "a là một list, không có bất kỳ phần tử nào trong đó\n",
    "\n",
    "<b> Ví dụ 2: </b>\n",
    "\n",
    "`b = [1,2,3]`\n",
    "\n",
    "##### Các phần tử trong list được khai báo, mỗi phần tử cách nhau một dấu phẩy\n",
    "\n",
    "b là một list có 3 phần tử\n",
    "\n",
    "<b> Ví dụ 3: </b>\n",
    "\n",
    "`c = [\"abc\",5,1.5]`\n",
    "\n",
    "##### Các phần tử trong list có thể có những kiểu dữ liệu khác nhau\n",
    "\n",
    "c là một list có 3 phần tử, phần tử thứ nhất có kiểu dữ liệu là chuỗi, phần tử thứ hai có kiểu dữ liệu là số nguyên và phần tử cuối cùng có kiểu dữ liệu là số thực\n",
    "\n",
    "<b> Hãy khai báo một list xong rồi in list đó lên màn hình </b>"
   ]
  },
  {
   "cell_type": "code",
   "execution_count": 3,
   "id": "c2f37351",
   "metadata": {},
   "outputs": [
    {
     "ename": "IndentationError",
     "evalue": "unexpected indent (3476879392.py, line 3)",
     "output_type": "error",
     "traceback": [
      "\u001b[1;36m  Cell \u001b[1;32mIn[3], line 3\u001b[1;36m\u001b[0m\n\u001b[1;33m    if L_a[-1] == 1 and L_a[-2] == 2:\u001b[0m\n\u001b[1;37m    ^\u001b[0m\n\u001b[1;31mIndentationError\u001b[0m\u001b[1;31m:\u001b[0m unexpected indent\n"
     ]
    }
   ],
   "source": [
    "#cho 1 list a, kiemy63 tra xem 2 phần tử cuối cũng có phải là 1 hoa85c2 hay không, có thì true, k thì false\n",
    "L_a = [1,2,3,4]\n",
    "    if L_a[-1] == 1 and L_a[-2] == 2:\n",
    "        print(\"true\")\n",
    "        \n",
    "    else:\n",
    "        print(\"false\")"
   ]
  },
  {
   "cell_type": "code",
   "execution_count": null,
   "id": "99af8720-7411-4dd4-a1c6-f530d13cca53",
   "metadata": {},
   "outputs": [],
   "source": []
  },
  {
   "cell_type": "code",
   "execution_count": 4,
   "id": "ca3253c3-0dca-4ba8-a592-8ee48c96b0d1",
   "metadata": {},
   "outputs": [
    {
     "name": "stdout",
     "output_type": "stream",
     "text": [
      "false\n"
     ]
    }
   ],
   "source": [
    "L_a = [1,2,3,4]\n",
    "\n",
    "L_b = L_a[-2:]\n",
    "if L_b == [1,2]:\n",
    "   print(\"true\") \n",
    "else:\n",
    "        print(\"false\")"
   ]
  },
  {
   "cell_type": "code",
   "execution_count": null,
   "id": "13762d18-d479-4701-b6f1-c85ddb02c852",
   "metadata": {},
   "outputs": [],
   "source": []
  },
  {
   "cell_type": "code",
   "execution_count": 6,
   "id": "ed5650f6-3700-416f-b4d0-1a76e8f1472a",
   "metadata": {},
   "outputs": [
    {
     "name": "stdout",
     "output_type": "stream",
     "text": [
      "['hello']\n"
     ]
    }
   ],
   "source": [
    "L_a = [\"hello\",\"mọi\",\"người\"]\n",
    "L_b = L_a[:1]\n",
    "print(L_b)"
   ]
  },
  {
   "cell_type": "code",
   "execution_count": null,
   "id": "298af27b-bde8-41bf-8491-f30dcfa06b00",
   "metadata": {},
   "outputs": [],
   "source": []
  },
  {
   "cell_type": "code",
   "execution_count": 8,
   "id": "efb3dff9-a495-4599-8306-e80be8d7e968",
   "metadata": {},
   "outputs": [
    {
     "name": "stdout",
     "output_type": "stream",
     "text": [
      "['hello', 'mọi', 'người']\n"
     ]
    }
   ],
   "source": [
    "L_a = [\"hello\",\"mọi\",\"người\"]\n",
    "L_b = L_a[:]\n",
    "print(L_b)"
   ]
  },
  {
   "cell_type": "code",
   "execution_count": null,
   "id": "af1bec04-9263-4178-91d2-c8f312bc3c84",
   "metadata": {},
   "outputs": [],
   "source": []
  },
  {
   "cell_type": "code",
   "execution_count": 9,
   "id": "13c5afe3-84cb-4735-9cb1-2dc33355db15",
   "metadata": {},
   "outputs": [
    {
     "name": "stdout",
     "output_type": "stream",
     "text": [
      "['người', 'mọi', 'hello']\n"
     ]
    }
   ],
   "source": [
    "#đảo list\n",
    "L_a = [\"hello\",\"mọi\",\"người\"]\n",
    "L_b = L_a[::-1]\n",
    "print(L_b)"
   ]
  },
  {
   "cell_type": "code",
   "execution_count": null,
   "id": "77d6fa09-de49-4c74-8f0a-a26c21975db2",
   "metadata": {},
   "outputs": [],
   "source": []
  },
  {
   "cell_type": "markdown",
   "id": "be8e19b0",
   "metadata": {},
   "source": [
    "### Truy xuất phần tử trong List\n",
    "\n",
    "Giống như chuỗi, các phần tử trong list được truy xuất theo cú pháp:\n",
    "\n",
    "<code>\\<tên list\\>[\\<vị trí của phần tử\\>]</code>\n",
    "\n",
    "<b> Ví dụ 1: </b>\n",
    "\n",
    "```a = [1,4,6]\n",
    "print(a[1])\n",
    "```\n",
    "\n",
    "Màn hình sẽ in ra 4\n",
    "\n",
    "<b> Hãy khai báo một list có một chuỗi và một số rồi in chuỗi trong list đó ra màn hình </b>"
   ]
  },
  {
   "cell_type": "code",
   "execution_count": null,
   "id": "bb3f9141",
   "metadata": {},
   "outputs": [],
   "source": []
  },
  {
   "cell_type": "markdown",
   "id": "ad61e236",
   "metadata": {},
   "source": [
    "### Thêm phần tử vào List\n",
    "\n",
    "Cú pháp:\n",
    "\n",
    "<code>\\<tên list\\>.append()</code>\n",
    "\n",
    "<b>Ví dụ:</b>\n",
    "\n",
    "```\n",
    "a = []\n",
    "a.append(5)\n",
    "```\n",
    "\n",
    "a sẽ có 1 phần tử là 5\n",
    "\n",
    "<b> Hãy khai báo một list rỗng, rồi thêm 2 phần tử bất kỳ vào list đó, sau đó in list đó ra</b>"
   ]
  },
  {
   "cell_type": "code",
   "execution_count": 10,
   "id": "5823ddca",
   "metadata": {},
   "outputs": [
    {
     "name": "stdout",
     "output_type": "stream",
     "text": [
      "[5]\n"
     ]
    }
   ],
   "source": [
    "L_a = []\n",
    "L_a.append(5)\n",
    "print(L_a)"
   ]
  },
  {
   "cell_type": "code",
   "execution_count": 11,
   "id": "4e46fb8c-e5f7-4e16-986a-babd9680c01c",
   "metadata": {},
   "outputs": [
    {
     "name": "stdout",
     "output_type": "stream",
     "text": [
      "[1, 2]\n"
     ]
    }
   ],
   "source": [
    "#muốn thêm là append 2 số, thì append 2 lần\n",
    "L_a = []\n",
    "L_a.append(1)\n",
    "L_a.append(2)\n",
    "print(L_a)"
   ]
  },
  {
   "cell_type": "code",
   "execution_count": 20,
   "id": "272aa193-9c59-410d-96bc-846ee579f161",
   "metadata": {},
   "outputs": [
    {
     "ename": "SyntaxError",
     "evalue": "'(' was never closed (1848740600.py, line 6)",
     "output_type": "error",
     "traceback": [
      "\u001b[1;36m  Cell \u001b[1;32mIn[20], line 6\u001b[1;36m\u001b[0m\n\u001b[1;33m    so = int(input(\"nhập vào số nguyên\"+str(i+1))\u001b[0m\n\u001b[1;37m            ^\u001b[0m\n\u001b[1;31mSyntaxError\u001b[0m\u001b[1;31m:\u001b[0m '(' was never closed\n"
     ]
    }
   ],
   "source": [
    "#cho 1 list a\n",
    "#hãy nhập vào 5 số, và thêm 5 số, đó vào trong list a\n",
    "#in list ra màn hình\n",
    "L_a = []\n",
    "for i in range (5):\n",
    "    so = int(input(\"nhập vào số nguyên\"+str(i+1))\n",
    "    L_a.append(so)\n",
    "print(L_a)"
   ]
  },
  {
   "cell_type": "code",
   "execution_count": 21,
   "id": "3b95f8df-4b1f-4307-98a4-4232df03b4fe",
   "metadata": {},
   "outputs": [
    {
     "name": "stdin",
     "output_type": "stream",
     "text": [
      "Nhập vào số nguyên thứ 1: \n"
     ]
    },
    {
     "ename": "ValueError",
     "evalue": "invalid literal for int() with base 10: ''",
     "output_type": "error",
     "traceback": [
      "\u001b[1;31m---------------------------------------------------------------------------\u001b[0m",
      "\u001b[1;31mValueError\u001b[0m                                Traceback (most recent call last)",
      "Cell \u001b[1;32mIn[21], line 4\u001b[0m\n\u001b[0;32m      1\u001b[0m L_a \u001b[38;5;241m=\u001b[39m []\n\u001b[0;32m      3\u001b[0m \u001b[38;5;28;01mfor\u001b[39;00m i \u001b[38;5;129;01min\u001b[39;00m \u001b[38;5;28mrange\u001b[39m(\u001b[38;5;241m5\u001b[39m):\n\u001b[1;32m----> 4\u001b[0m     so \u001b[38;5;241m=\u001b[39m \u001b[38;5;28;43mint\u001b[39;49m\u001b[43m(\u001b[49m\u001b[38;5;28;43minput\u001b[39;49m\u001b[43m(\u001b[49m\u001b[38;5;124;43m\"\u001b[39;49m\u001b[38;5;124;43mNhập vào số nguyên thứ \u001b[39;49m\u001b[38;5;124;43m\"\u001b[39;49m\u001b[43m \u001b[49m\u001b[38;5;241;43m+\u001b[39;49m\u001b[43m \u001b[49m\u001b[38;5;28;43mstr\u001b[39;49m\u001b[43m(\u001b[49m\u001b[43mi\u001b[49m\u001b[38;5;241;43m+\u001b[39;49m\u001b[38;5;241;43m1\u001b[39;49m\u001b[43m)\u001b[49m\u001b[43m \u001b[49m\u001b[38;5;241;43m+\u001b[39;49m\u001b[43m \u001b[49m\u001b[38;5;124;43m\"\u001b[39;49m\u001b[38;5;124;43m:\u001b[39;49m\u001b[38;5;124;43m\"\u001b[39;49m\u001b[43m)\u001b[49m\u001b[43m)\u001b[49m\n\u001b[0;32m      5\u001b[0m     L_a\u001b[38;5;241m.\u001b[39mappend(so)\n\u001b[0;32m      7\u001b[0m \u001b[38;5;28mprint\u001b[39m(L_a)\n",
      "\u001b[1;31mValueError\u001b[0m: invalid literal for int() with base 10: ''"
     ]
    }
   ],
   "source": [
    "L_a = []\n",
    "\n",
    "for i in range(5):\n",
    "    so = int(input(\"Nhập vào số nguyên thứ \" + str(i+1) + \":\"))\n",
    "    L_a.append(so)\n",
    "\n",
    "print(L_a)"
   ]
  },
  {
   "cell_type": "code",
   "execution_count": null,
   "id": "61d98364-66d7-40f7-8b24-79ca4f7e5cc0",
   "metadata": {},
   "outputs": [],
   "source": []
  },
  {
   "cell_type": "markdown",
   "id": "8c92d3d3",
   "metadata": {},
   "source": [
    "### Thay đổi giá trị của List\n",
    "\n",
    "Cú pháp:\n",
    "\n",
    "`<tên list>[<vị trí của phần tử>] = <giá trị mới>`\n",
    "\n",
    "<b> Hãy khai báo một list bất kỳ, rồi thay đổi 1 phần tử trong nó, sau đó in list đó ra</b>"
   ]
  },
  {
   "cell_type": "code",
   "execution_count": 22,
   "id": "13c61075",
   "metadata": {},
   "outputs": [
    {
     "name": "stdout",
     "output_type": "stream",
     "text": [
      "[7, 10, 2, -4, 5]\n"
     ]
    }
   ],
   "source": [
    "L_a = [7,5,2,-4,5]\n",
    "L_a[1] = 10\n",
    "print(L_a)"
   ]
  },
  {
   "cell_type": "code",
   "execution_count": null,
   "id": "63c16007-d738-4e1a-bb10-3a19cb3952d3",
   "metadata": {},
   "outputs": [],
   "source": []
  },
  {
   "cell_type": "markdown",
   "id": "ce14eefe",
   "metadata": {},
   "source": [
    "### Xóa 1 phần tử trong list\n",
    "\n",
    "#### Lệnh remove()\n",
    "\n",
    "Cú pháp:\n",
    "\n",
    "`<tên list>.remove(<giá trị cần xóa>)`\n",
    "\n",
    "<b>Ví dụ:</b>\n",
    "\n",
    "```\n",
    "a = [\"hi\",3,\"hello\",4]\n",
    "a.remove(\"hi\")\n",
    "```\n",
    "\n",
    "Sau khi thực hiện lệnh trên, a chỉ còn [3,\"hello\",4]\n",
    "\n",
    "<b> Hãy khai báo một list bất kỳ, rồi xóa 1 phần tử trong nó bằng lệnh remove(), sau đó in list đó ra</b>"
   ]
  },
  {
   "cell_type": "code",
   "execution_count": 30,
   "id": "f79402ad",
   "metadata": {},
   "outputs": [
    {
     "name": "stdout",
     "output_type": "stream",
     "text": [
      "[4, 5]\n"
     ]
    }
   ],
   "source": [
    "#cho list a là 1 list bất kì, hãy xóa toàn bộ chuỗi hello tgrong list a\n",
    "L_a = [\"hello\",\"hello\",\"hello\",4,5,\"hello\"]\n",
    "while \"hello\" in L_a:\n",
    "    L_a.remove(\"hello\")\n",
    "print(L_a)"
   ]
  },
  {
   "cell_type": "code",
   "execution_count": null,
   "id": "9dcd0b17-1bf1-4f88-9d60-6b50d265a6b6",
   "metadata": {},
   "outputs": [],
   "source": []
  },
  {
   "cell_type": "markdown",
   "id": "ec66c5cc",
   "metadata": {},
   "source": [
    "#### Lệnh pop()\n",
    "\n",
    "Cú pháp:\n",
    "\n",
    "`<tên list>.pop(<vị trí cần xóa>)`\n",
    "\n",
    "<b>Ví dụ:</b>\n",
    "\n",
    "```\n",
    "a = [\"hi\",3,\"hello\",4]\n",
    "a.pop(3)\n",
    "```\n",
    "\n",
    "Sau khi thực hiện lệnh trên, a chỉ còn [\"hi\",3,\"hello\"]\n",
    "\n",
    "<b> Hãy khai báo một list bất kỳ, rồi xóa 1 phần tử trong nó bằng lệnh pop(), sau đó in list đó ra</b>"
   ]
  },
  {
   "cell_type": "code",
   "execution_count": 31,
   "id": "eeaa0766",
   "metadata": {},
   "outputs": [
    {
     "name": "stdout",
     "output_type": "stream",
     "text": [
      "['hi', 3, 'hello']\n"
     ]
    }
   ],
   "source": [
    "a = [\"hi\",3,\"hello\",4]\n",
    "a.pop(3)\n",
    "print(a)"
   ]
  },
  {
   "cell_type": "code",
   "execution_count": null,
   "id": "8c044c9a-15a7-44a1-9540-43c3b4fdc7c7",
   "metadata": {},
   "outputs": [],
   "source": []
  },
  {
   "cell_type": "markdown",
   "id": "96daac1c",
   "metadata": {},
   "source": [
    "### Sao chép list\n",
    "\n",
    "###### Lưu ý: Nếu ta có list a, ta thực hiện lệnh b = a, list b sẽ bị ảnh hưởng khi list a có sự thay đổi\n",
    "\n",
    "<b> Ví dụ: </b>\n",
    "\n",
    "```\n",
    "a = [5,7,1]\n",
    "b = a\n",
    "a.remove(5)\n",
    "```\n",
    "\n",
    "Khi thực hiện 3 lệnh trên, b sẽ bằng [7,1], dù cho ta thực hiện lệnh `b = a` trước `a.remove(5)`\n",
    "\n",
    "<b> Kiểm chứng sự ảnh hưởng khi gán list </b>"
   ]
  },
  {
   "cell_type": "code",
   "execution_count": null,
   "id": "1dbdf54b",
   "metadata": {},
   "outputs": [],
   "source": []
  },
  {
   "cell_type": "markdown",
   "id": "c9c51aad",
   "metadata": {},
   "source": [
    "### Lệnh copy()\n",
    "\n",
    "Cú pháp:\n",
    "\n",
    "`<tên list>.copy()`\n",
    "\n",
    "##### Dùng lệnh copy sẽ khắc phục được vấn đề gán list a cho b\n",
    "\n",
    "<b> Ví dụ: </b>\n",
    "\n",
    "```\n",
    "a = [5,7,1]\n",
    "b = a.copy()\n",
    "a.remove(5)\n",
    "```\n",
    "\n",
    "Khi thực hiện 3 lệnh trên, b vẫn sẽ bằng [5,7,1]\n",
    "\n",
    "Lúc này, b sẽ là một list mới độc lập hoàn toàn với a\n",
    "\n",
    "<b> Khai báo list a, dùng lệnh copy cho list b, rồi thêm phần tử vào list a, sau đó in cả 2 list lên màn hình</b>"
   ]
  },
  {
   "cell_type": "code",
   "execution_count": null,
   "id": "46759662",
   "metadata": {},
   "outputs": [],
   "source": []
  },
  {
   "cell_type": "markdown",
   "id": "d8f470e0",
   "metadata": {},
   "source": [
    "### Lệnh len()\n",
    "\n",
    "Tương tự như chuỗi, ta có thể dùng lệnh len cho list để trả về số lượng của list\n",
    "\n",
    "<b> Ví dụ:</b>\n",
    "\n",
    "```\n",
    "a = [3,\"Hello\",5,\"hi\"]\n",
    "b = len(a)\n",
    "```\n",
    "\n",
    "Giá trị của b là 4\n",
    "\n",
    "<b> Khai báo list a, in lên độ dài của list a </b>"
   ]
  },
  {
   "cell_type": "code",
   "execution_count": 4,
   "id": "dfbcf0db",
   "metadata": {},
   "outputs": [
    {
     "name": "stdin",
     "output_type": "stream",
     "text": [
      "nhập vào số nguyên 50\n"
     ]
    },
    {
     "name": "stdout",
     "output_type": "stream",
     "text": [
      "[50]\n"
     ]
    }
   ],
   "source": [
    "#cho list a là rỗng, nhập vào các số nguyên, \n",
    "#nếu số đó chia hết cho 2 thì đưa vào bên trong list, \n",
    "#khi list đủ 10 phần tử thì ngưng nhập, in liswt\n",
    "L_a = []\n",
    "so = int(input(\"nhập vào số nguyên\"))\n",
    "    \n",
    "if so % 2 == 0:\n",
    "        L_a.append(so)\n",
    "print(L_a)"
   ]
  },
  {
   "cell_type": "code",
   "execution_count": null,
   "id": "a3100b7c-8a91-4945-aaa1-6ee73e7c0c0b",
   "metadata": {},
   "outputs": [],
   "source": []
  },
  {
   "cell_type": "code",
   "execution_count": null,
   "id": "dfadb9f0-4b09-4c96-bb06-43c2ad70fe58",
   "metadata": {},
   "outputs": [],
   "source": []
  },
  {
   "cell_type": "code",
   "execution_count": 48,
   "id": "f7f1bb53-9f69-4f8b-86f2-ba455ab3bdca",
   "metadata": {},
   "outputs": [
    {
     "ename": "SyntaxError",
     "evalue": "invalid syntax (1630249414.py, line 2)",
     "output_type": "error",
     "traceback": [
      "\u001b[1;36m  Cell \u001b[1;32mIn[48], line 2\u001b[1;36m\u001b[0m\n\u001b[1;33m    whlie len(L_a)<10:\u001b[0m\n\u001b[1;37m          ^\u001b[0m\n\u001b[1;31mSyntaxError\u001b[0m\u001b[1;31m:\u001b[0m invalid syntax\n"
     ]
    }
   ],
   "source": [
    "L_a = []\n",
    "whlie len(L_a)<10:\n",
    "    so = int(input(\"nhập vào số nguyên\"))\n",
    "    #if so % 2 == 0:\n",
    "    if so % 2 == 0:\n",
    "        L_a.append(so)\n",
    "print(L_a)"
   ]
  },
  {
   "cell_type": "code",
   "execution_count": null,
   "id": "73ed36a1-1162-4ee7-b35f-13356a577685",
   "metadata": {},
   "outputs": [],
   "source": []
  },
  {
   "cell_type": "code",
   "execution_count": 49,
   "id": "49dbde2b-711c-413f-9507-3dd51c1c8eab",
   "metadata": {},
   "outputs": [
    {
     "name": "stdin",
     "output_type": "stream",
     "text": [
      "số 10\n",
      "số 20\n",
      "số 30\n",
      "số 40\n",
      "số 50\n",
      "số 10\n",
      "số 10\n",
      "số \n"
     ]
    },
    {
     "ename": "ValueError",
     "evalue": "invalid literal for int() with base 10: ''",
     "output_type": "error",
     "traceback": [
      "\u001b[1;31m---------------------------------------------------------------------------\u001b[0m",
      "\u001b[1;31mValueError\u001b[0m                                Traceback (most recent call last)",
      "Cell \u001b[1;32mIn[49], line 3\u001b[0m\n\u001b[0;32m      1\u001b[0m a \u001b[38;5;241m=\u001b[39m []\n\u001b[0;32m      2\u001b[0m \u001b[38;5;28;01mwhile\u001b[39;00m \u001b[38;5;28mlen\u001b[39m(a)\u001b[38;5;241m<\u001b[39m\u001b[38;5;241m10\u001b[39m:\n\u001b[1;32m----> 3\u001b[0m     so \u001b[38;5;241m=\u001b[39m \u001b[38;5;28;43mint\u001b[39;49m\u001b[43m(\u001b[49m\u001b[38;5;28;43minput\u001b[39;49m\u001b[43m(\u001b[49m\u001b[38;5;124;43m\"\u001b[39;49m\u001b[38;5;124;43msố\u001b[39;49m\u001b[38;5;124;43m\"\u001b[39;49m\u001b[43m)\u001b[49m\u001b[43m)\u001b[49m\n\u001b[0;32m      4\u001b[0m     \u001b[38;5;28;01mif\u001b[39;00m so\u001b[38;5;241m%\u001b[39m\u001b[38;5;241m2\u001b[39m\u001b[38;5;241m==\u001b[39m\u001b[38;5;241m0\u001b[39m:\n\u001b[0;32m      5\u001b[0m         a\u001b[38;5;241m.\u001b[39mappend(so)\n",
      "\u001b[1;31mValueError\u001b[0m: invalid literal for int() with base 10: ''"
     ]
    }
   ],
   "source": [
    "a = []\n",
    "while len(a)<10:\n",
    "    so = int(input(\"số\"))\n",
    "    if so%2==0:\n",
    "        a.append(so)\n",
    "print(a)"
   ]
  },
  {
   "cell_type": "code",
   "execution_count": null,
   "id": "259d3325-35f0-4e91-a934-f367896a426e",
   "metadata": {},
   "outputs": [],
   "source": []
  },
  {
   "cell_type": "markdown",
   "id": "8ac29b78",
   "metadata": {},
   "source": [
    "### Duyệt list bằng lệnh for\n",
    "\n",
    "<b> Duyệt list với vị trí </b>"
   ]
  },
  {
   "cell_type": "code",
   "execution_count": 21,
   "id": "6b98c540-1884-4eab-916e-de3f01fe303d",
   "metadata": {},
   "outputs": [
    {
     "name": "stdout",
     "output_type": "stream",
     "text": [
      "0 8\n",
      "1 10\n",
      "2 9\n",
      "3 2\n",
      "4 4\n",
      "5 10\n",
      "6 2\n",
      "7 18\n",
      "8 10\n",
      "9 20\n"
     ]
    }
   ],
   "source": [
    "#ví dụ\n",
    "L_a = [8,10,9,2,4,10,2,18,10,20]\n",
    "for i in range(len(L_a)):\n",
    "    print(i,L_a[i])"
   ]
  },
  {
   "cell_type": "code",
   "execution_count": null,
   "id": "04dd11fd-621a-4f28-8a6a-bb77fdd20639",
   "metadata": {},
   "outputs": [],
   "source": []
  },
  {
   "cell_type": "code",
   "execution_count": 20,
   "id": "1be33622",
   "metadata": {},
   "outputs": [
    {
     "name": "stdout",
     "output_type": "stream",
     "text": [
      "2\n",
      "[8, 10, 9, 2, 4, 10, 2, 18, 10, 20]\n"
     ]
    }
   ],
   "source": [
    "#cho 1 list a có các giá trị là số nguyên. hãy tìm và in vị trí của số chia hết cho 3 đầu tiên\n",
    "L_a = [8,10,9,2,4,10,2,18,10,20]\n",
    "vitri = None\n",
    "for i in range(len(L_a)):\n",
    "    if L_a[i] %3 == 0:\n",
    "        vitri = i\n",
    "        break\n",
    "print(vitri)\n",
    "print(L_a)\n",
    "    "
   ]
  },
  {
   "cell_type": "code",
   "execution_count": 33,
   "id": "0f5d5113-5ebb-4725-96e6-747a77f804e4",
   "metadata": {},
   "outputs": [
    {
     "name": "stdout",
     "output_type": "stream",
     "text": [
      "2\n",
      "[8, 10, 9, 2, 4, 10, 2, 18, 10, 20]\n"
     ]
    }
   ],
   "source": [
    "#bài sửa\n",
    "L_a = [8,10,9,2,4,10,2,18,10,20]\n",
    "\n",
    "for i in range(len(L_a)):\n",
    "    if L_a[i] %3 == 0:\n",
    "        \n",
    "        break\n",
    "print(i)\n",
    "print(L_a)"
   ]
  },
  {
   "cell_type": "code",
   "execution_count": null,
   "id": "84adcae5-ef44-4b6d-b987-76cfb1d26009",
   "metadata": {},
   "outputs": [],
   "source": []
  },
  {
   "cell_type": "code",
   "execution_count": null,
   "id": "e0d70246-fd36-44dd-83a8-5aa1b8e28355",
   "metadata": {},
   "outputs": [],
   "source": []
  },
  {
   "cell_type": "markdown",
   "id": "53b6e6eb",
   "metadata": {},
   "source": [
    "<b> Duyệt list với giá trị từng phần tử</b>"
   ]
  },
  {
   "cell_type": "code",
   "execution_count": 24,
   "id": "cdf22aa3",
   "metadata": {},
   "outputs": [
    {
     "name": "stdout",
     "output_type": "stream",
     "text": [
      "8\n",
      "10\n",
      "9\n",
      "2\n",
      "4\n",
      "10\n",
      "2\n",
      "18\n",
      "10\n",
      "20\n"
     ]
    }
   ],
   "source": [
    "L_a = [8,10,9,2,4,10,2,18,10,20]\n",
    "for i in L_a:\n",
    "    print(i)"
   ]
  },
  {
   "cell_type": "code",
   "execution_count": null,
   "id": "2f26f8e4-a1eb-4d41-8bc3-2d2a2e5ae87a",
   "metadata": {},
   "outputs": [],
   "source": []
  },
  {
   "cell_type": "code",
   "execution_count": 28,
   "id": "7919e716-75cb-48aa-b7ce-fd2302e66327",
   "metadata": {},
   "outputs": [
    {
     "name": "stdout",
     "output_type": "stream",
     "text": [
      "2\n",
      "[20, 10, 18, 2, 10, 4, 2, 9, 10, 8]\n"
     ]
    }
   ],
   "source": [
    "#cho 1 list a có các giá trị là số nguyên. hãy tìm và in vị trí của số chia hết cho 3 cuối cùng\n",
    "L_a = [8, 10, 9, 2, 4, 10, 2, 18, 10, 20]\n",
    "L_b = L_a[::-1]\n",
    "for i in range(len(L_b)):\n",
    "    if L_b[i] %3 == 0:\n",
    "        break\n",
    "print(vitri)\n",
    "print(L_b)\n"
   ]
  },
  {
   "cell_type": "code",
   "execution_count": null,
   "id": "552e9555-98ba-404e-a849-52ffb9d36a33",
   "metadata": {},
   "outputs": [],
   "source": []
  },
  {
   "cell_type": "code",
   "execution_count": 32,
   "id": "1700e7e8-1d2a-45c0-8e44-28235499256b",
   "metadata": {},
   "outputs": [
    {
     "name": "stdout",
     "output_type": "stream",
     "text": [
      "18\n",
      "[20, 10, 18, 2, 10, 4, 2, 9, 10, 8]\n"
     ]
    }
   ],
   "source": [
    "L_a = [8, 10, 9, 2, 4, 10, 2, 18, 10, 20]\n",
    "L_b = L_a[::-1]\n",
    "for i in L_b:\n",
    "    if i %3 == 0:\n",
    "        break\n",
    "print(i)\n",
    "print(L_b)"
   ]
  },
  {
   "cell_type": "code",
   "execution_count": 37,
   "id": "4b1948fb-619f-4845-96b4-33b8d7ba5c2b",
   "metadata": {},
   "outputs": [
    {
     "name": "stdout",
     "output_type": "stream",
     "text": [
      "5\n",
      "6\n",
      "1\n",
      "2\n",
      "4\n"
     ]
    }
   ],
   "source": [
    "#tuple\n",
    "T_a = (5,6,1,2,4)\n",
    "\n",
    "for i in T_a:\n",
    "    print(i)"
   ]
  },
  {
   "cell_type": "code",
   "execution_count": null,
   "id": "763ab360-0c63-436d-8d1a-f6e42b19468b",
   "metadata": {},
   "outputs": [],
   "source": []
  },
  {
   "cell_type": "code",
   "execution_count": 39,
   "id": "7fbbcdb5-6bd6-4f48-af4a-77e759d03586",
   "metadata": {},
   "outputs": [
    {
     "ename": "NameError",
     "evalue": "name 'Print' is not defined",
     "output_type": "error",
     "traceback": [
      "\u001b[1;31m---------------------------------------------------------------------------\u001b[0m",
      "\u001b[1;31mNameError\u001b[0m                                 Traceback (most recent call last)",
      "Cell \u001b[1;32mIn[39], line 4\u001b[0m\n\u001b[0;32m      2\u001b[0m L_b \u001b[38;5;241m=\u001b[39m (\u001b[38;5;241m5\u001b[39m,\u001b[38;5;241m6\u001b[39m,\u001b[38;5;241m1\u001b[39m,\u001b[38;5;241m2\u001b[39m)\n\u001b[0;32m      3\u001b[0m L_c \u001b[38;5;241m=\u001b[39m L_a\u001b[38;5;241m+\u001b[39mL_b\n\u001b[1;32m----> 4\u001b[0m \u001b[43mPrint\u001b[49m(L_c)\n",
      "\u001b[1;31mNameError\u001b[0m: name 'Print' is not defined"
     ]
    }
   ],
   "source": [
    "L_a = (5,6,1,2,4)\n",
    "L_b = (5,6,1,2)\n",
    "L_c = L_a+L_b\n",
    "Print(L_c)"
   ]
  },
  {
   "cell_type": "code",
   "execution_count": null,
   "id": "ec9f3123-8edc-4b50-92c6-d326393bd2e8",
   "metadata": {},
   "outputs": [],
   "source": []
  },
  {
   "cell_type": "markdown",
   "id": "3fcda853",
   "metadata": {},
   "source": [
    "### Bài tập"
   ]
  },
  {
   "cell_type": "markdown",
   "id": "72d9a5fa",
   "metadata": {},
   "source": [
    "Nhập vào một dãy số nguyên dương (ngưng nhập nếu người dùng nhập -1)\n",
    "\n",
    "Sau khi nhập hãy:\n",
    "- In ra số lớn nhất trong dãy\n",
    "- In ra số bé nhất trong dãy\n",
    "- In ra dãy số nguyên tố tìm được trong dãy vừa nhập"
   ]
  },
  {
   "cell_type": "code",
   "execution_count": null,
   "id": "38805cc0",
   "metadata": {},
   "outputs": [
    {
     "name": "stdin",
     "output_type": "stream",
     "text": [
      "nhập số nguyên 10\n"
     ]
    }
   ],
   "source": [
    "L_a = []\n",
    "so = int(input(\"nhập số nguyên\"))\n",
    "while True:\n",
    "    if n == -1:\n",
    "        break\n",
    "    if n > 0:\n",
    "        L_a.append(so)\n",
    "    #ngưng nhập khi -1\n",
    "print(L_a)\n",
    "#tìm số lớn nhất trong L_a\n",
    "#sử dụng thuật toán cho biến m = ???\n",
    "#so sánh m với từng phần tử trong L_a\n",
    "#nếu m < phần tử nào đó -> thay thế m = phấn tử đó\n",
    "\n",
    "#tìm số nhỏ nhất trong L_a\n",
    "#in ra dãy số trong list a"
   ]
  },
  {
   "cell_type": "code",
   "execution_count": 8,
   "id": "40ebd2f2-66ff-4356-b25a-d566edb3111c",
   "metadata": {},
   "outputs": [
    {
     "name": "stdout",
     "output_type": "stream",
     "text": [
      "20\n",
      "20\n"
     ]
    }
   ],
   "source": [
    "L_a = [8, 10, 9, 2, 4, 10, 2, 18, 10, 20]\n",
    "m = L_a[0]\n",
    "for i in L_a:\n",
    "    if m < i:\n",
    "        m,i = i,m\n",
    "print (m)\n",
    "print(m)"
   ]
  },
  {
   "cell_type": "code",
   "execution_count": null,
   "id": "1760f609-b9bd-40e5-93cc-dfe71ad503c5",
   "metadata": {},
   "outputs": [],
   "source": []
  },
  {
   "cell_type": "code",
   "execution_count": 10,
   "id": "fa55b3c7-2209-4d66-a242-3055942a1309",
   "metadata": {},
   "outputs": [
    {
     "name": "stdout",
     "output_type": "stream",
     "text": [
      "20\n"
     ]
    }
   ],
   "source": [
    "L_a = [8, 10, 9, 2, 4, 10, 2, 18, 10, 20]\n",
    "m = L_a[0]\n",
    "for i in L_a:\n",
    "    if m < i:\n",
    "        m = i\n",
    "print (m)"
   ]
  },
  {
   "cell_type": "code",
   "execution_count": null,
   "id": "db8e1014-096d-4709-8508-dafb2432c276",
   "metadata": {},
   "outputs": [],
   "source": []
  },
  {
   "cell_type": "code",
   "execution_count": null,
   "id": "bca6b2d5-4897-4291-a25c-93d755c4bad3",
   "metadata": {},
   "outputs": [],
   "source": []
  },
  {
   "cell_type": "code",
   "execution_count": 9,
   "id": "fcf8e210-cd39-419c-95eb-df404f969d6d",
   "metadata": {},
   "outputs": [
    {
     "name": "stdin",
     "output_type": "stream",
     "text": [
      "nhập số nguyên 10\n",
      "nhập số nguyên 20\n",
      "nhập số nguyên 30\n",
      "nhập số nguyên 40\n",
      "nhập số nguyên 80\n",
      "nhập số nguyên -1\n"
     ]
    },
    {
     "name": "stdout",
     "output_type": "stream",
     "text": [
      "[10, 20, 30, 40, 80]\n",
      "80\n",
      "10\n"
     ]
    }
   ],
   "source": [
    "L_a = []\n",
    "a = int(input(\"nhập số nguyên\"))\n",
    "while a != -1:\n",
    "    L_a.append(a)\n",
    "    a = int(input(\"nhập số nguyên\"))\n",
    "print(L_a)\n",
    "\n",
    "m = L_a[0]\n",
    "for i in L_a:\n",
    "    if m < i:\n",
    "        m = i\n",
    "print (m)\n",
    "\n",
    "for i in L_a:\n",
    "    if m > i:\n",
    "        m = i\n",
    "print (m)\n"
   ]
  },
  {
   "cell_type": "code",
   "execution_count": null,
   "id": "f0eae29e-ec3c-487b-9ebd-4dc8f055aec1",
   "metadata": {},
   "outputs": [],
   "source": []
  },
  {
   "cell_type": "code",
   "execution_count": null,
   "id": "edc96e62-e707-4f13-a58a-3e412ba47dc5",
   "metadata": {},
   "outputs": [],
   "source": [
    "L_a = []\n",
    "while True:\n",
    "    so = int(input(\"Nhập số nguyên (nhập -1 để dừng nhập): \"))\n",
    "    \n",
    "    if so == -1:\n",
    "        break  # Dừng vòng lặp khi người dùng nhập -1\n",
    "    \n",
    "    if so > 0:\n",
    "        L_a.append(so)\n",
    "    else:\n",
    "        print(\"Vui lòng nhập số nguyên dương!\")\n",
    "\n",
    "print(\"Các số nguyên dương bạn vừa nhập:\", L_a)\n"
   ]
  },
  {
   "cell_type": "code",
   "execution_count": null,
   "id": "34164eef-b549-46e4-8c5b-0bd807f8ca67",
   "metadata": {},
   "outputs": [],
   "source": []
  },
  {
   "cell_type": "code",
   "execution_count": 11,
   "id": "1e8e5d02-ad9c-4c6d-9e55-507bbabfd919",
   "metadata": {},
   "outputs": [
    {
     "name": "stdin",
     "output_type": "stream",
     "text": [
      "Nhập số nguyên dương: 10\n",
      "Nhập số nguyên dương: 20\n",
      "Nhập số nguyên dương: 50\n",
      "Nhập số nguyên dương: -1\n"
     ]
    },
    {
     "name": "stdout",
     "output_type": "stream",
     "text": [
      "[10, 20, 50]\n",
      "Số lớn nhất: 50\n",
      "Số nhỏ nhất: 10\n",
      "[]\n"
     ]
    }
   ],
   "source": [
    "#bài sửa \n",
    "L_a = []\n",
    "a = int(input(\"Nhập số nguyên dương:\"))\n",
    "while a != -1:\n",
    "    L_a.append(a)\n",
    "    a = int(input(\"Nhập số nguyên dương:\"))\n",
    "print(L_a)\n",
    "\n",
    "# tìm số lớn nhất trong L_a\n",
    "# sử dụng thuật toán cho biến m = ???\n",
    "# và so sánh m với từng phần tử bên trong L_a\n",
    "# nếu m < phần tử nào đó ~~> thay thế m = phần tử đó\n",
    "\n",
    "m = L_a[0]\n",
    "for i in L_a:\n",
    "    if i > m:\n",
    "        m = i\n",
    "print(\"Số lớn nhất:\",m)\n",
    "\n",
    "m = L_a[0]\n",
    "for i in L_a:\n",
    "    if i < m:\n",
    "        m = i\n",
    "print(\"Số nhỏ nhất:\",m)\n",
    "\n",
    "def so_nguyen_to(a):\n",
    "    if a < 2:\n",
    "        return False\n",
    "\n",
    "    for i in range(2,a):\n",
    "        if a % i == 0:\n",
    "            return False\n",
    "\n",
    "    return True\n",
    "\n",
    "L_snt = []\n",
    "for i in L_a:\n",
    "    if so_nguyen_to(i):\n",
    "        L_snt.append(i)\n",
    "        \n",
    "print(L_snt)\n",
    "    \n",
    "# tìm số bé nhất trong L_a\n",
    "# in ra dãy số nguyên tố trong L_a"
   ]
  },
  {
   "cell_type": "code",
   "execution_count": null,
   "id": "097dba07-ce58-44c7-8638-4958d264b9e3",
   "metadata": {},
   "outputs": [],
   "source": []
  },
  {
   "cell_type": "markdown",
   "id": "f493bb3e",
   "metadata": {},
   "source": [
    "Viết hàm với dữ liệu đầu vào bao gồm 3 tham số: list, a, b. Hàm này có công dụng tìm số lớn nhất trong đoạn từ vị trí a đến vị trí b trong list."
   ]
  },
  {
   "cell_type": "code",
   "execution_count": null,
   "id": "a730c2f8",
   "metadata": {},
   "outputs": [],
   "source": [
    "def timsolonnhat(L,a,b):\n",
    "    #tìm số lớn nhất từ a đến b\n",
    "    #return số lớn nhất\n",
    "for i in (L):\n",
    "    if i > m:\n",
    "        m = i\n",
    "print(\"Số lớn nhất:\",m)   \n",
    "for i in (a):\n",
    "    if i > m:\n",
    "        m = i\n",
    "print(\"Số lớn nhất:\",m)   for i in (L):\n",
    "    if i > m:\n",
    "        m = i\n",
    "print(\"Số lớn nhất:\",m)   "
   ]
  },
  {
   "cell_type": "code",
   "execution_count": 1,
   "id": "b9eacc2e-2217-4657-8d88-4911fe1fcb21",
   "metadata": {},
   "outputs": [
    {
     "name": "stdout",
     "output_type": "stream",
     "text": [
      "1\n",
      "5\n",
      "7\n",
      "20\n"
     ]
    }
   ],
   "source": [
    "L = [1,5,7,20]\n",
    "#duyệt list\n",
    "\n",
    "for i in range(len(L)):\n",
    "    print(L[i])\n",
    "    \n",
    "  \n",
    "    \n",
    "    "
   ]
  },
  {
   "cell_type": "code",
   "execution_count": 15,
   "id": "5b2cdaa0-f5ea-4f02-99be-e27980296a80",
   "metadata": {},
   "outputs": [
    {
     "name": "stdout",
     "output_type": "stream",
     "text": [
      "15\n",
      "19\n",
      "20\n"
     ]
    }
   ],
   "source": [
    "#print(tim_so_lon_nhat([5,7,2,4,10,15,20],1,5)) # trả về 15\n",
    "#print(tim_so_lon_nhat([5,7,2,19,10,15,20],1,5)) # trả về 19\n",
    "#print(tim_so_lon_nhat([5,7,2,19,10,15,20],4,6)) # trả về 20\n",
    "def tim_so_lon_nhat(L,a,b):\n",
    "    m = L[a]\n",
    "    \n",
    "    for i in range (a,b+1):\n",
    "        if L[i] > m:\n",
    "            m =L[i]\n",
    "    return m\n",
    "print(tim_so_lon_nhat([5,7,2,4,10,15,20],1,5)) # trả về 15\n",
    "print(tim_so_lon_nhat([5,7,2,19,10,15,20],1,5)) # trả về 19\n",
    "print(tim_so_lon_nhat([5,7,2,19,10,15,20],4,6)) # trả về 20\n",
    "    \n",
    "\n"
   ]
  },
  {
   "cell_type": "code",
   "execution_count": null,
   "id": "f568fa94-7a36-4242-b100-591739afd9fd",
   "metadata": {},
   "outputs": [],
   "source": []
  },
  {
   "cell_type": "code",
   "execution_count": null,
   "id": "f58804d5-712d-4db3-a618-499ee1ac0f94",
   "metadata": {},
   "outputs": [],
   "source": []
  },
  {
   "cell_type": "code",
   "execution_count": null,
   "id": "535e1faa-6ab1-40f9-b229-450c67af9f74",
   "metadata": {},
   "outputs": [],
   "source": []
  },
  {
   "cell_type": "code",
   "execution_count": null,
   "id": "d6dea550-b748-4a4e-996e-529414f9dcf3",
   "metadata": {},
   "outputs": [],
   "source": []
  },
  {
   "cell_type": "code",
   "execution_count": null,
   "id": "c96bad46-563a-4238-a2df-70da44b0f9a5",
   "metadata": {},
   "outputs": [],
   "source": []
  },
  {
   "cell_type": "code",
   "execution_count": null,
   "id": "d45f5963-441d-4190-a137-865c8d386d78",
   "metadata": {},
   "outputs": [],
   "source": []
  },
  {
   "cell_type": "code",
   "execution_count": null,
   "id": "9054a3e4-7b4f-425f-9738-2a1c561d84bb",
   "metadata": {},
   "outputs": [],
   "source": []
  },
  {
   "cell_type": "code",
   "execution_count": null,
   "id": "b87695d2-99d5-4c5b-9b16-a8555a8c88cb",
   "metadata": {},
   "outputs": [],
   "source": []
  },
  {
   "cell_type": "code",
   "execution_count": null,
   "id": "97ed86df-b40f-4c34-a128-143236093644",
   "metadata": {},
   "outputs": [],
   "source": []
  },
  {
   "cell_type": "code",
   "execution_count": null,
   "id": "13f237e7-6e1e-4b00-9047-8207e483f92d",
   "metadata": {},
   "outputs": [],
   "source": []
  },
  {
   "cell_type": "code",
   "execution_count": null,
   "id": "5ea69d79-6e9d-48f1-9bdf-6ec639acbebb",
   "metadata": {},
   "outputs": [],
   "source": []
  },
  {
   "cell_type": "code",
   "execution_count": 2,
   "id": "82c89965-507f-4f6e-bd08-11202a101eda",
   "metadata": {},
   "outputs": [
    {
     "name": "stdout",
     "output_type": "stream",
     "text": [
      "Số lớn nhất: 34\n"
     ]
    }
   ],
   "source": [
    "L = [6,7,20,10,25,34]\n",
    "m = L[0]\n",
    "for i in L:\n",
    "    if i > m:\n",
    "        m = i\n",
    "print(\"Số lớn nhất:\",m)\n",
    "\n",
    "\n"
   ]
  },
  {
   "cell_type": "code",
   "execution_count": 3,
   "id": "469db0ac-642c-45fb-9b83-259051e6aaec",
   "metadata": {
    "collapsed": true,
    "jupyter": {
     "outputs_hidden": true,
     "source_hidden": true
    }
   },
   "outputs": [
    {
     "name": "stdout",
     "output_type": "stream",
     "text": [
      "6\n"
     ]
    }
   ],
   "source": [
    "L = [6,7,20,10,25,34]\n",
    "m = L[0]\n",
    "for i in L:\n",
    "    if m > i:\n",
    "        m = i \n",
    "print(m)"
   ]
  },
  {
   "cell_type": "code",
   "execution_count": null,
   "id": "5ce4077d-3068-4857-903d-b5cf7b85e360",
   "metadata": {},
   "outputs": [],
   "source": []
  },
  {
   "cell_type": "markdown",
   "id": "87acccb8",
   "metadata": {},
   "source": [
    "Viết hàm có tham số đầu vào là list, giá trị trả về là số lượng số nguyên tố bé hơn 100 trong list"
   ]
  },
  {
   "cell_type": "code",
   "execution_count": null,
   "id": "c605991d",
   "metadata": {},
   "outputs": [],
   "source": [
    "def tim_so_nguyen_to(x):\n",
    "    if x < 2:\n",
    "        return False\n",
    "    for i in range (2, x):\n",
    "        if x % i == 0:\n",
    "            return False\n",
    "        return True\n",
    "\n",
    "def dem_so(L):\n",
    "    m = 0\n",
    "    for i in L:\n",
    "        if i < 100 and i "
   ]
  },
  {
   "cell_type": "markdown",
   "id": "13840ec8",
   "metadata": {},
   "source": [
    "Viết hàm tìm giá trị dương đầu tiên của list, nếu không có giá trị dương trả về -1"
   ]
  },
  {
   "cell_type": "code",
   "execution_count": null,
   "id": "d7ffb2b7",
   "metadata": {},
   "outputs": [],
   "source": []
  },
  {
   "cell_type": "markdown",
   "id": "0f71c71e",
   "metadata": {},
   "source": [
    "Viết hàm có 2 giá trị đầu vào là list và x. Tìm giá trị trong list xa x nhất"
   ]
  },
  {
   "cell_type": "code",
   "execution_count": 17,
   "id": "03ef7d4c",
   "metadata": {},
   "outputs": [
    {
     "ename": "IndentationError",
     "evalue": "expected an indented block after function definition on line 1 (1540992272.py, line 2)",
     "output_type": "error",
     "traceback": [
      "\u001b[1;36m  Cell \u001b[1;32mIn[17], line 2\u001b[1;36m\u001b[0m\n\u001b[1;33m    giatrixanhat = L[0]\u001b[0m\n\u001b[1;37m    ^\u001b[0m\n\u001b[1;31mIndentationError\u001b[0m\u001b[1;31m:\u001b[0m expected an indented block after function definition on line 1\n"
     ]
    }
   ],
   "source": [
    "def timgiatrixanhat(L,x):\n",
    "giatrixanhat = L[0]\n",
    "khoangcach = abs(x-i)\n",
    "khoangcachdautien = abs(L[0]-x)\n",
    "    for i in L:\n",
    "        if khoangcach > khoangcachdautien\n",
    "            khoangcach = khoangcachdautien\n",
    "            giatrixanhat = x\n",
    "    return giatrixanhat \n",
    "\n",
    "a =timgiatrixanhat([10,5,7,-2,3,4,10],20) #2\n",
    "            "
   ]
  },
  {
   "cell_type": "code",
   "execution_count": null,
   "id": "b4032f49-298a-4717-bf5e-78c3694c280f",
   "metadata": {},
   "outputs": [],
   "source": []
  },
  {
   "cell_type": "code",
   "execution_count": 23,
   "id": "000e41bb-6bd3-4cd1-8cb1-037119954ee7",
   "metadata": {},
   "outputs": [
    {
     "ename": "UnboundLocalError",
     "evalue": "cannot access local variable 'i' where it is not associated with a value",
     "output_type": "error",
     "traceback": [
      "\u001b[1;31m---------------------------------------------------------------------------\u001b[0m",
      "\u001b[1;31mUnboundLocalError\u001b[0m                         Traceback (most recent call last)",
      "Cell \u001b[1;32mIn[23], line 8\u001b[0m\n\u001b[0;32m      6\u001b[0m             m \u001b[38;5;241m=\u001b[39m i\n\u001b[0;32m      7\u001b[0m     \u001b[38;5;28;01mreturn\u001b[39;00m m\n\u001b[1;32m----> 8\u001b[0m a \u001b[38;5;241m=\u001b[39m \u001b[43mtimgiatrixanhat\u001b[49m\u001b[43m(\u001b[49m\u001b[43m[\u001b[49m\u001b[38;5;241;43m10\u001b[39;49m\u001b[43m,\u001b[49m\u001b[38;5;241;43m5\u001b[39;49m\u001b[43m,\u001b[49m\u001b[38;5;241;43m7\u001b[39;49m\u001b[43m,\u001b[49m\u001b[38;5;241;43m-\u001b[39;49m\u001b[38;5;241;43m2\u001b[39;49m\u001b[43m,\u001b[49m\u001b[38;5;241;43m3\u001b[39;49m\u001b[43m,\u001b[49m\u001b[38;5;241;43m4\u001b[39;49m\u001b[43m,\u001b[49m\u001b[38;5;241;43m10\u001b[39;49m\u001b[43m]\u001b[49m\u001b[43m,\u001b[49m\u001b[38;5;241;43m20\u001b[39;49m\u001b[43m)\u001b[49m \u001b[38;5;66;03m#2\u001b[39;00m\n\u001b[0;32m      9\u001b[0m \u001b[38;5;28mprint\u001b[39m(a)\n",
      "Cell \u001b[1;32mIn[23], line 2\u001b[0m, in \u001b[0;36mtimgiatrixanhat\u001b[1;34m(L, x)\u001b[0m\n\u001b[0;32m      1\u001b[0m \u001b[38;5;28;01mdef\u001b[39;00m \u001b[38;5;21mtimgiatrixanhat\u001b[39m(L,x):\n\u001b[1;32m----> 2\u001b[0m     khoangcach \u001b[38;5;241m=\u001b[39m \u001b[38;5;28mabs\u001b[39m(x\u001b[38;5;241m-\u001b[39m\u001b[43mi\u001b[49m)\n\u001b[0;32m      3\u001b[0m     m \u001b[38;5;241m=\u001b[39m L[\u001b[38;5;241m0\u001b[39m]\n\u001b[0;32m      4\u001b[0m     \u001b[38;5;28;01mfor\u001b[39;00m i \u001b[38;5;129;01min\u001b[39;00m L:\n",
      "\u001b[1;31mUnboundLocalError\u001b[0m: cannot access local variable 'i' where it is not associated with a value"
     ]
    }
   ],
   "source": [
    "def timgiatrixanhat(L,x):\n",
    "    khoangcach = abs(x-i)\n",
    "    m = L[0]\n",
    "    for i in L:\n",
    "        if khoangcach > m:\n",
    "            m = i\n",
    "    return m\n",
    "a = timgiatrixanhat([10,5,7,-2,3,4,10],20) #2\n",
    "print(a)"
   ]
  },
  {
   "cell_type": "code",
   "execution_count": null,
   "id": "d5dbf04e-924b-4c1d-a843-961b58b2de2a",
   "metadata": {},
   "outputs": [],
   "source": []
  },
  {
   "cell_type": "code",
   "execution_count": null,
   "id": "3d6fd99e-5cb3-4915-a7a0-9acc4eebc2a5",
   "metadata": {},
   "outputs": [],
   "source": []
  },
  {
   "cell_type": "code",
   "execution_count": null,
   "id": "996affcb-a184-4833-83b7-c542198700b6",
   "metadata": {},
   "outputs": [],
   "source": []
  },
  {
   "cell_type": "code",
   "execution_count": null,
   "id": "96f33aea-c1e0-4543-891b-408557bc5993",
   "metadata": {},
   "outputs": [],
   "source": []
  },
  {
   "cell_type": "code",
   "execution_count": null,
   "id": "cd29a406-8319-4ccc-a24e-6dcf57c76a8d",
   "metadata": {},
   "outputs": [],
   "source": []
  },
  {
   "cell_type": "code",
   "execution_count": null,
   "id": "ec8167d8-5b79-4292-8763-515c15d1cc3b",
   "metadata": {},
   "outputs": [],
   "source": []
  },
  {
   "cell_type": "markdown",
   "id": "3b634d0f",
   "metadata": {},
   "source": [
    "Một người dùng số tiền là U đô-la và V Euro để mua một loại nguyên liệu sản xuất. \n",
    "\n",
    "Có N công ty nước ngoài bán nguyên liệu trên được đánh số từ 1 đến N. Công ty thứ i có giá bán Ai đô la/1 kg nguyên liệu và Bi Euro/1 kg nguyên liệu. \n",
    "\n",
    "Tuy nhiên, tại mỗi công ty chỉ bán nguyên liệu cho một khách hàng hoặc theo đô-la, hoặc theo Euro. \n",
    "\n",
    "Hãy giúp người đó tìm cách chọn ra 2 công ty để mua hàng sao cho số lượng nguyên liệu sản xuất có thể mua được là nhiều nhất.\n",
    "\n",
    "Nhập vào: Từ bàn phím 3 số theo thứ tự : N U V (1 ≤ N ≤ 20; 1 ≤ U, V ≤ 1000) và N cặp số nguyên Ai, Bi (1 < Ai, Bi < 1000) (nhập lần lượng A1, B1 rồi A2, B2)\n",
    "\n",
    "In ra : Số lượng nguyên liệu S(kg) người đó mua được với 2 chữ số thập phân."
   ]
  },
  {
   "cell_type": "code",
   "execution_count": null,
   "id": "677abefe",
   "metadata": {},
   "outputs": [],
   "source": []
  },
  {
   "cell_type": "code",
   "execution_count": null,
   "id": "90401e4e",
   "metadata": {},
   "outputs": [],
   "source": []
  }
 ],
 "metadata": {
  "kernelspec": {
   "display_name": "Python 3 (ipykernel)",
   "language": "python",
   "name": "python3"
  },
  "language_info": {
   "codemirror_mode": {
    "name": "ipython",
    "version": 3
   },
   "file_extension": ".py",
   "mimetype": "text/x-python",
   "name": "python",
   "nbconvert_exporter": "python",
   "pygments_lexer": "ipython3",
   "version": "3.12.4"
  }
 },
 "nbformat": 4,
 "nbformat_minor": 5
}
